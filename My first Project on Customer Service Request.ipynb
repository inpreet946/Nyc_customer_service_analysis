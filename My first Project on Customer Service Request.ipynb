{
 "cells": [
  {
   "cell_type": "markdown",
   "metadata": {},
   "source": [
    "# Customer Analysis Project"
   ]
  },
  {
   "cell_type": "code",
   "execution_count": 1,
   "metadata": {},
   "outputs": [],
   "source": [
    "%matplotlib inline\n",
    "### import libraries\n",
    "import numpy as np\n",
    "import pandas as pd\n",
    "\n",
    "\n",
    "import matplotlib.pyplot as plt\n",
    "from matplotlib import style\n",
    "import seaborn as sns \n",
    "from datetime import datetime\n",
    "\n",
    "import squarify\n",
    "import matplotlib\n",
    "import matplotlib.pyplot as plt\n",
    "import pandas as pd\n",
    "import squarify"
   ]
  },
  {
   "cell_type": "code",
   "execution_count": 2,
   "metadata": {},
   "outputs": [
    {
     "name": "stderr",
     "output_type": "stream",
     "text": [
      "c:\\users\\inpreet singh\\appdata\\local\\programs\\python\\python37-32\\lib\\site-packages\\IPython\\core\\interactiveshell.py:3058: DtypeWarning: Columns (48,49) have mixed types.Specify dtype option on import or set low_memory=False.\n",
      "  interactivity=interactivity, compiler=compiler, result=result)\n"
     ]
    }
   ],
   "source": [
    "df_service_requests=pd.read_csv('C:/Users/Inpreet Singh/Downloads/datasets/Data-Science-with-Python-Project-2--master/311_Service_Requests_from_2010_to_Present.csv')"
   ]
  },
  {
   "cell_type": "markdown",
   "metadata": {},
   "source": [
    "Handling Date and time "
   ]
  },
  {
   "cell_type": "code",
   "execution_count": 3,
   "metadata": {},
   "outputs": [],
   "source": [
    "df_service_requests=pd.read_csv('C:/Users/Inpreet Singh/Downloads/datasets/Data-Science-with-Python-Project-2--master/311_Service_Requests_from_2010_to_Present.csv',parse_dates=[\"Created Date\", \"Closed Date\"])"
   ]
  },
  {
   "cell_type": "markdown",
   "metadata": {},
   "source": [
    "***  With the help of parsing ,transform the data into appropriate format "
   ]
  },
  {
   "cell_type": "code",
   "execution_count": 4,
   "metadata": {
    "scrolled": true
   },
   "outputs": [
    {
     "data": {
      "text/html": [
       "<div>\n",
       "<style scoped>\n",
       "    .dataframe tbody tr th:only-of-type {\n",
       "        vertical-align: middle;\n",
       "    }\n",
       "\n",
       "    .dataframe tbody tr th {\n",
       "        vertical-align: top;\n",
       "    }\n",
       "\n",
       "    .dataframe thead th {\n",
       "        text-align: right;\n",
       "    }\n",
       "</style>\n",
       "<table border=\"1\" class=\"dataframe\">\n",
       "  <thead>\n",
       "    <tr style=\"text-align: right;\">\n",
       "      <th></th>\n",
       "      <th>Unique Key</th>\n",
       "      <th>Created Date</th>\n",
       "      <th>Closed Date</th>\n",
       "      <th>Agency</th>\n",
       "      <th>Agency Name</th>\n",
       "      <th>Complaint Type</th>\n",
       "      <th>Descriptor</th>\n",
       "      <th>Location Type</th>\n",
       "      <th>Incident Zip</th>\n",
       "      <th>Incident Address</th>\n",
       "      <th>...</th>\n",
       "      <th>Bridge Highway Name</th>\n",
       "      <th>Bridge Highway Direction</th>\n",
       "      <th>Road Ramp</th>\n",
       "      <th>Bridge Highway Segment</th>\n",
       "      <th>Garage Lot Name</th>\n",
       "      <th>Ferry Direction</th>\n",
       "      <th>Ferry Terminal Name</th>\n",
       "      <th>Latitude</th>\n",
       "      <th>Longitude</th>\n",
       "      <th>Location</th>\n",
       "    </tr>\n",
       "  </thead>\n",
       "  <tbody>\n",
       "    <tr>\n",
       "      <th>0</th>\n",
       "      <td>32310363</td>\n",
       "      <td>2015-12-31 23:59:45</td>\n",
       "      <td>2016-01-01 00:55:00</td>\n",
       "      <td>NYPD</td>\n",
       "      <td>New York City Police Department</td>\n",
       "      <td>Noise - Street/Sidewalk</td>\n",
       "      <td>Loud Music/Party</td>\n",
       "      <td>Street/Sidewalk</td>\n",
       "      <td>10034.0</td>\n",
       "      <td>71 VERMILYEA AVENUE</td>\n",
       "      <td>...</td>\n",
       "      <td>NaN</td>\n",
       "      <td>NaN</td>\n",
       "      <td>NaN</td>\n",
       "      <td>NaN</td>\n",
       "      <td>NaN</td>\n",
       "      <td>NaN</td>\n",
       "      <td>NaN</td>\n",
       "      <td>40.865682</td>\n",
       "      <td>-73.923501</td>\n",
       "      <td>(40.86568153633767, -73.92350095571744)</td>\n",
       "    </tr>\n",
       "    <tr>\n",
       "      <th>1</th>\n",
       "      <td>32309934</td>\n",
       "      <td>2015-12-31 23:59:44</td>\n",
       "      <td>2016-01-01 01:26:00</td>\n",
       "      <td>NYPD</td>\n",
       "      <td>New York City Police Department</td>\n",
       "      <td>Blocked Driveway</td>\n",
       "      <td>No Access</td>\n",
       "      <td>Street/Sidewalk</td>\n",
       "      <td>11105.0</td>\n",
       "      <td>27-07 23 AVENUE</td>\n",
       "      <td>...</td>\n",
       "      <td>NaN</td>\n",
       "      <td>NaN</td>\n",
       "      <td>NaN</td>\n",
       "      <td>NaN</td>\n",
       "      <td>NaN</td>\n",
       "      <td>NaN</td>\n",
       "      <td>NaN</td>\n",
       "      <td>40.775945</td>\n",
       "      <td>-73.915094</td>\n",
       "      <td>(40.775945312321085, -73.91509393898605)</td>\n",
       "    </tr>\n",
       "    <tr>\n",
       "      <th>2</th>\n",
       "      <td>32309159</td>\n",
       "      <td>2015-12-31 23:59:29</td>\n",
       "      <td>2016-01-01 04:51:00</td>\n",
       "      <td>NYPD</td>\n",
       "      <td>New York City Police Department</td>\n",
       "      <td>Blocked Driveway</td>\n",
       "      <td>No Access</td>\n",
       "      <td>Street/Sidewalk</td>\n",
       "      <td>10458.0</td>\n",
       "      <td>2897 VALENTINE AVENUE</td>\n",
       "      <td>...</td>\n",
       "      <td>NaN</td>\n",
       "      <td>NaN</td>\n",
       "      <td>NaN</td>\n",
       "      <td>NaN</td>\n",
       "      <td>NaN</td>\n",
       "      <td>NaN</td>\n",
       "      <td>NaN</td>\n",
       "      <td>40.870325</td>\n",
       "      <td>-73.888525</td>\n",
       "      <td>(40.870324522111424, -73.88852464418646)</td>\n",
       "    </tr>\n",
       "    <tr>\n",
       "      <th>3</th>\n",
       "      <td>32305098</td>\n",
       "      <td>2015-12-31 23:57:46</td>\n",
       "      <td>2016-01-01 07:43:00</td>\n",
       "      <td>NYPD</td>\n",
       "      <td>New York City Police Department</td>\n",
       "      <td>Illegal Parking</td>\n",
       "      <td>Commercial Overnight Parking</td>\n",
       "      <td>Street/Sidewalk</td>\n",
       "      <td>10461.0</td>\n",
       "      <td>2940 BAISLEY AVENUE</td>\n",
       "      <td>...</td>\n",
       "      <td>NaN</td>\n",
       "      <td>NaN</td>\n",
       "      <td>NaN</td>\n",
       "      <td>NaN</td>\n",
       "      <td>NaN</td>\n",
       "      <td>NaN</td>\n",
       "      <td>NaN</td>\n",
       "      <td>40.835994</td>\n",
       "      <td>-73.828379</td>\n",
       "      <td>(40.83599404683083, -73.82837939584206)</td>\n",
       "    </tr>\n",
       "    <tr>\n",
       "      <th>4</th>\n",
       "      <td>32306529</td>\n",
       "      <td>2015-12-31 23:56:58</td>\n",
       "      <td>2016-01-01 03:24:00</td>\n",
       "      <td>NYPD</td>\n",
       "      <td>New York City Police Department</td>\n",
       "      <td>Illegal Parking</td>\n",
       "      <td>Blocked Sidewalk</td>\n",
       "      <td>Street/Sidewalk</td>\n",
       "      <td>11373.0</td>\n",
       "      <td>87-14 57 ROAD</td>\n",
       "      <td>...</td>\n",
       "      <td>NaN</td>\n",
       "      <td>NaN</td>\n",
       "      <td>NaN</td>\n",
       "      <td>NaN</td>\n",
       "      <td>NaN</td>\n",
       "      <td>NaN</td>\n",
       "      <td>NaN</td>\n",
       "      <td>40.733060</td>\n",
       "      <td>-73.874170</td>\n",
       "      <td>(40.733059618956815, -73.87416975810375)</td>\n",
       "    </tr>\n",
       "  </tbody>\n",
       "</table>\n",
       "<p>5 rows × 53 columns</p>\n",
       "</div>"
      ],
      "text/plain": [
       "   Unique Key        Created Date         Closed Date Agency  \\\n",
       "0    32310363 2015-12-31 23:59:45 2016-01-01 00:55:00   NYPD   \n",
       "1    32309934 2015-12-31 23:59:44 2016-01-01 01:26:00   NYPD   \n",
       "2    32309159 2015-12-31 23:59:29 2016-01-01 04:51:00   NYPD   \n",
       "3    32305098 2015-12-31 23:57:46 2016-01-01 07:43:00   NYPD   \n",
       "4    32306529 2015-12-31 23:56:58 2016-01-01 03:24:00   NYPD   \n",
       "\n",
       "                       Agency Name           Complaint Type  \\\n",
       "0  New York City Police Department  Noise - Street/Sidewalk   \n",
       "1  New York City Police Department         Blocked Driveway   \n",
       "2  New York City Police Department         Blocked Driveway   \n",
       "3  New York City Police Department          Illegal Parking   \n",
       "4  New York City Police Department          Illegal Parking   \n",
       "\n",
       "                     Descriptor    Location Type  Incident Zip  \\\n",
       "0              Loud Music/Party  Street/Sidewalk       10034.0   \n",
       "1                     No Access  Street/Sidewalk       11105.0   \n",
       "2                     No Access  Street/Sidewalk       10458.0   \n",
       "3  Commercial Overnight Parking  Street/Sidewalk       10461.0   \n",
       "4              Blocked Sidewalk  Street/Sidewalk       11373.0   \n",
       "\n",
       "        Incident Address  ... Bridge Highway Name Bridge Highway Direction  \\\n",
       "0    71 VERMILYEA AVENUE  ...                 NaN                      NaN   \n",
       "1        27-07 23 AVENUE  ...                 NaN                      NaN   \n",
       "2  2897 VALENTINE AVENUE  ...                 NaN                      NaN   \n",
       "3    2940 BAISLEY AVENUE  ...                 NaN                      NaN   \n",
       "4          87-14 57 ROAD  ...                 NaN                      NaN   \n",
       "\n",
       "  Road Ramp Bridge Highway Segment Garage Lot Name Ferry Direction  \\\n",
       "0       NaN                    NaN             NaN             NaN   \n",
       "1       NaN                    NaN             NaN             NaN   \n",
       "2       NaN                    NaN             NaN             NaN   \n",
       "3       NaN                    NaN             NaN             NaN   \n",
       "4       NaN                    NaN             NaN             NaN   \n",
       "\n",
       "  Ferry Terminal Name   Latitude  Longitude  \\\n",
       "0                 NaN  40.865682 -73.923501   \n",
       "1                 NaN  40.775945 -73.915094   \n",
       "2                 NaN  40.870325 -73.888525   \n",
       "3                 NaN  40.835994 -73.828379   \n",
       "4                 NaN  40.733060 -73.874170   \n",
       "\n",
       "                                   Location  \n",
       "0   (40.86568153633767, -73.92350095571744)  \n",
       "1  (40.775945312321085, -73.91509393898605)  \n",
       "2  (40.870324522111424, -73.88852464418646)  \n",
       "3   (40.83599404683083, -73.82837939584206)  \n",
       "4  (40.733059618956815, -73.87416975810375)  \n",
       "\n",
       "[5 rows x 53 columns]"
      ]
     },
     "execution_count": 4,
     "metadata": {},
     "output_type": "execute_result"
    }
   ],
   "source": [
    "df_service_requests.head()"
   ]
  },
  {
   "cell_type": "code",
   "execution_count": 5,
   "metadata": {},
   "outputs": [
    {
     "data": {
      "text/plain": [
       "(300698, 53)"
      ]
     },
     "execution_count": 5,
     "metadata": {},
     "output_type": "execute_result"
    }
   ],
   "source": [
    "df_service_requests.shape"
   ]
  },
  {
   "cell_type": "code",
   "execution_count": 6,
   "metadata": {},
   "outputs": [],
   "source": [
    "pd.set_option('display.max_columns',None)\n",
    "pd.set_option(\"display.max_rows\",None)"
   ]
  },
  {
   "cell_type": "code",
   "execution_count": 7,
   "metadata": {},
   "outputs": [
    {
     "data": {
      "text/plain": [
       "(300698, 53)"
      ]
     },
     "execution_count": 7,
     "metadata": {},
     "output_type": "execute_result"
    }
   ],
   "source": [
    "df_service_requests.shape"
   ]
  },
  {
   "cell_type": "code",
   "execution_count": 8,
   "metadata": {},
   "outputs": [
    {
     "data": {
      "text/plain": [
       "Index(['Unique Key', 'Created Date', 'Closed Date', 'Agency', 'Agency Name',\n",
       "       'Complaint Type', 'Descriptor', 'Location Type', 'Incident Zip',\n",
       "       'Incident Address', 'Street Name', 'Cross Street 1', 'Cross Street 2',\n",
       "       'Intersection Street 1', 'Intersection Street 2', 'Address Type',\n",
       "       'City', 'Landmark', 'Facility Type', 'Status', 'Due Date',\n",
       "       'Resolution Description', 'Resolution Action Updated Date',\n",
       "       'Community Board', 'Borough', 'X Coordinate (State Plane)',\n",
       "       'Y Coordinate (State Plane)', 'Park Facility Name', 'Park Borough',\n",
       "       'School Name', 'School Number', 'School Region', 'School Code',\n",
       "       'School Phone Number', 'School Address', 'School City', 'School State',\n",
       "       'School Zip', 'School Not Found', 'School or Citywide Complaint',\n",
       "       'Vehicle Type', 'Taxi Company Borough', 'Taxi Pick Up Location',\n",
       "       'Bridge Highway Name', 'Bridge Highway Direction', 'Road Ramp',\n",
       "       'Bridge Highway Segment', 'Garage Lot Name', 'Ferry Direction',\n",
       "       'Ferry Terminal Name', 'Latitude', 'Longitude', 'Location'],\n",
       "      dtype='object')"
      ]
     },
     "execution_count": 8,
     "metadata": {},
     "output_type": "execute_result"
    }
   ],
   "source": [
    "df_service_requests.columns"
   ]
  },
  {
   "cell_type": "code",
   "execution_count": 9,
   "metadata": {},
   "outputs": [
    {
     "data": {
      "text/html": [
       "<div>\n",
       "<style scoped>\n",
       "    .dataframe tbody tr th:only-of-type {\n",
       "        vertical-align: middle;\n",
       "    }\n",
       "\n",
       "    .dataframe tbody tr th {\n",
       "        vertical-align: top;\n",
       "    }\n",
       "\n",
       "    .dataframe thead th {\n",
       "        text-align: right;\n",
       "    }\n",
       "</style>\n",
       "<table border=\"1\" class=\"dataframe\">\n",
       "  <thead>\n",
       "    <tr style=\"text-align: right;\">\n",
       "      <th></th>\n",
       "      <th>Unique Key</th>\n",
       "      <th>Created Date</th>\n",
       "      <th>Closed Date</th>\n",
       "      <th>Agency</th>\n",
       "      <th>Agency Name</th>\n",
       "      <th>Complaint Type</th>\n",
       "      <th>Descriptor</th>\n",
       "      <th>Location Type</th>\n",
       "      <th>Incident Zip</th>\n",
       "      <th>Incident Address</th>\n",
       "      <th>Street Name</th>\n",
       "      <th>Cross Street 1</th>\n",
       "      <th>Cross Street 2</th>\n",
       "      <th>Intersection Street 1</th>\n",
       "      <th>Intersection Street 2</th>\n",
       "      <th>Address Type</th>\n",
       "      <th>City</th>\n",
       "      <th>Landmark</th>\n",
       "      <th>Facility Type</th>\n",
       "      <th>Status</th>\n",
       "      <th>Due Date</th>\n",
       "      <th>Resolution Description</th>\n",
       "      <th>Resolution Action Updated Date</th>\n",
       "      <th>Community Board</th>\n",
       "      <th>Borough</th>\n",
       "      <th>X Coordinate (State Plane)</th>\n",
       "      <th>Y Coordinate (State Plane)</th>\n",
       "      <th>Park Facility Name</th>\n",
       "      <th>Park Borough</th>\n",
       "      <th>School Name</th>\n",
       "      <th>School Number</th>\n",
       "      <th>School Region</th>\n",
       "      <th>School Code</th>\n",
       "      <th>School Phone Number</th>\n",
       "      <th>School Address</th>\n",
       "      <th>School City</th>\n",
       "      <th>School State</th>\n",
       "      <th>School Zip</th>\n",
       "      <th>School Not Found</th>\n",
       "      <th>School or Citywide Complaint</th>\n",
       "      <th>Vehicle Type</th>\n",
       "      <th>Taxi Company Borough</th>\n",
       "      <th>Taxi Pick Up Location</th>\n",
       "      <th>Bridge Highway Name</th>\n",
       "      <th>Bridge Highway Direction</th>\n",
       "      <th>Road Ramp</th>\n",
       "      <th>Bridge Highway Segment</th>\n",
       "      <th>Garage Lot Name</th>\n",
       "      <th>Ferry Direction</th>\n",
       "      <th>Ferry Terminal Name</th>\n",
       "      <th>Latitude</th>\n",
       "      <th>Longitude</th>\n",
       "      <th>Location</th>\n",
       "    </tr>\n",
       "  </thead>\n",
       "  <tbody>\n",
       "    <tr>\n",
       "      <th>300693</th>\n",
       "      <td>30281872</td>\n",
       "      <td>2015-03-29 00:33:41</td>\n",
       "      <td>NaT</td>\n",
       "      <td>NYPD</td>\n",
       "      <td>New York City Police Department</td>\n",
       "      <td>Noise - Commercial</td>\n",
       "      <td>Loud Music/Party</td>\n",
       "      <td>Club/Bar/Restaurant</td>\n",
       "      <td>NaN</td>\n",
       "      <td>CRESCENT AVENUE</td>\n",
       "      <td>CRESCENT AVENUE</td>\n",
       "      <td>EAST 186</td>\n",
       "      <td>NaN</td>\n",
       "      <td>east 186</td>\n",
       "      <td>NaN</td>\n",
       "      <td>NaN</td>\n",
       "      <td>NaN</td>\n",
       "      <td>NaN</td>\n",
       "      <td>NaN</td>\n",
       "      <td>Open</td>\n",
       "      <td>03/29/2015 08:33:41 AM</td>\n",
       "      <td>Your complaint has been forwarded to the New Y...</td>\n",
       "      <td>NaN</td>\n",
       "      <td>0 Unspecified</td>\n",
       "      <td>Unspecified</td>\n",
       "      <td>NaN</td>\n",
       "      <td>NaN</td>\n",
       "      <td>Unspecified</td>\n",
       "      <td>Unspecified</td>\n",
       "      <td>Unspecified</td>\n",
       "      <td>Unspecified</td>\n",
       "      <td>Unspecified</td>\n",
       "      <td>Unspecified</td>\n",
       "      <td>Unspecified</td>\n",
       "      <td>Unspecified</td>\n",
       "      <td>Unspecified</td>\n",
       "      <td>Unspecified</td>\n",
       "      <td>Unspecified</td>\n",
       "      <td>N</td>\n",
       "      <td>NaN</td>\n",
       "      <td>NaN</td>\n",
       "      <td>NaN</td>\n",
       "      <td>NaN</td>\n",
       "      <td>NaN</td>\n",
       "      <td>NaN</td>\n",
       "      <td>NaN</td>\n",
       "      <td>NaN</td>\n",
       "      <td>NaN</td>\n",
       "      <td>NaN</td>\n",
       "      <td>NaN</td>\n",
       "      <td>NaN</td>\n",
       "      <td>NaN</td>\n",
       "      <td>NaN</td>\n",
       "    </tr>\n",
       "    <tr>\n",
       "      <th>300694</th>\n",
       "      <td>30281230</td>\n",
       "      <td>2015-03-29 00:33:28</td>\n",
       "      <td>2015-03-29 02:33:59</td>\n",
       "      <td>NYPD</td>\n",
       "      <td>New York City Police Department</td>\n",
       "      <td>Blocked Driveway</td>\n",
       "      <td>Partial Access</td>\n",
       "      <td>Street/Sidewalk</td>\n",
       "      <td>11418.0</td>\n",
       "      <td>100-17 87 AVENUE</td>\n",
       "      <td>87 AVENUE</td>\n",
       "      <td>DEAD END</td>\n",
       "      <td>102 STREET</td>\n",
       "      <td>NaN</td>\n",
       "      <td>NaN</td>\n",
       "      <td>ADDRESS</td>\n",
       "      <td>RICHMOND HILL</td>\n",
       "      <td>NaN</td>\n",
       "      <td>Precinct</td>\n",
       "      <td>Closed</td>\n",
       "      <td>03/29/2015 08:33:28 AM</td>\n",
       "      <td>The Police Department responded and upon arriv...</td>\n",
       "      <td>03/29/2015 02:33:59 AM</td>\n",
       "      <td>09 QUEENS</td>\n",
       "      <td>QUEENS</td>\n",
       "      <td>1026931.0</td>\n",
       "      <td>192185.0</td>\n",
       "      <td>Unspecified</td>\n",
       "      <td>QUEENS</td>\n",
       "      <td>Unspecified</td>\n",
       "      <td>Unspecified</td>\n",
       "      <td>Unspecified</td>\n",
       "      <td>Unspecified</td>\n",
       "      <td>Unspecified</td>\n",
       "      <td>Unspecified</td>\n",
       "      <td>Unspecified</td>\n",
       "      <td>Unspecified</td>\n",
       "      <td>Unspecified</td>\n",
       "      <td>N</td>\n",
       "      <td>NaN</td>\n",
       "      <td>NaN</td>\n",
       "      <td>NaN</td>\n",
       "      <td>NaN</td>\n",
       "      <td>NaN</td>\n",
       "      <td>NaN</td>\n",
       "      <td>NaN</td>\n",
       "      <td>NaN</td>\n",
       "      <td>NaN</td>\n",
       "      <td>NaN</td>\n",
       "      <td>NaN</td>\n",
       "      <td>40.694077</td>\n",
       "      <td>-73.846087</td>\n",
       "      <td>(40.69407728322387, -73.8460866160573)</td>\n",
       "    </tr>\n",
       "    <tr>\n",
       "      <th>300695</th>\n",
       "      <td>30283424</td>\n",
       "      <td>2015-03-29 00:33:03</td>\n",
       "      <td>2015-03-29 03:40:20</td>\n",
       "      <td>NYPD</td>\n",
       "      <td>New York City Police Department</td>\n",
       "      <td>Noise - Commercial</td>\n",
       "      <td>Loud Music/Party</td>\n",
       "      <td>Club/Bar/Restaurant</td>\n",
       "      <td>11206.0</td>\n",
       "      <td>162 THROOP AVENUE</td>\n",
       "      <td>THROOP AVENUE</td>\n",
       "      <td>HOPKINS STREET</td>\n",
       "      <td>ELLERY STREET</td>\n",
       "      <td>NaN</td>\n",
       "      <td>NaN</td>\n",
       "      <td>ADDRESS</td>\n",
       "      <td>BROOKLYN</td>\n",
       "      <td>NaN</td>\n",
       "      <td>Precinct</td>\n",
       "      <td>Closed</td>\n",
       "      <td>03/29/2015 08:33:03 AM</td>\n",
       "      <td>The Police Department responded to the complai...</td>\n",
       "      <td>03/29/2015 03:40:20 AM</td>\n",
       "      <td>03 BROOKLYN</td>\n",
       "      <td>BROOKLYN</td>\n",
       "      <td>999713.0</td>\n",
       "      <td>194161.0</td>\n",
       "      <td>Unspecified</td>\n",
       "      <td>BROOKLYN</td>\n",
       "      <td>Unspecified</td>\n",
       "      <td>Unspecified</td>\n",
       "      <td>Unspecified</td>\n",
       "      <td>Unspecified</td>\n",
       "      <td>Unspecified</td>\n",
       "      <td>Unspecified</td>\n",
       "      <td>Unspecified</td>\n",
       "      <td>Unspecified</td>\n",
       "      <td>Unspecified</td>\n",
       "      <td>N</td>\n",
       "      <td>NaN</td>\n",
       "      <td>NaN</td>\n",
       "      <td>NaN</td>\n",
       "      <td>NaN</td>\n",
       "      <td>NaN</td>\n",
       "      <td>NaN</td>\n",
       "      <td>NaN</td>\n",
       "      <td>NaN</td>\n",
       "      <td>NaN</td>\n",
       "      <td>NaN</td>\n",
       "      <td>NaN</td>\n",
       "      <td>40.699590</td>\n",
       "      <td>-73.944234</td>\n",
       "      <td>(40.69959035300927, -73.94423377144169)</td>\n",
       "    </tr>\n",
       "    <tr>\n",
       "      <th>300696</th>\n",
       "      <td>30280004</td>\n",
       "      <td>2015-03-29 00:33:02</td>\n",
       "      <td>2015-03-29 04:38:35</td>\n",
       "      <td>NYPD</td>\n",
       "      <td>New York City Police Department</td>\n",
       "      <td>Noise - Commercial</td>\n",
       "      <td>Loud Music/Party</td>\n",
       "      <td>Club/Bar/Restaurant</td>\n",
       "      <td>10461.0</td>\n",
       "      <td>3151 EAST TREMONT AVENUE</td>\n",
       "      <td>EAST TREMONT AVENUE</td>\n",
       "      <td>CODDINGTON AVENUE</td>\n",
       "      <td>LA SALLE AVENUE</td>\n",
       "      <td>NaN</td>\n",
       "      <td>NaN</td>\n",
       "      <td>ADDRESS</td>\n",
       "      <td>BRONX</td>\n",
       "      <td>NaN</td>\n",
       "      <td>Precinct</td>\n",
       "      <td>Closed</td>\n",
       "      <td>03/29/2015 08:33:02 AM</td>\n",
       "      <td>The Police Department responded to the complai...</td>\n",
       "      <td>03/29/2015 04:38:35 AM</td>\n",
       "      <td>10 BRONX</td>\n",
       "      <td>BRONX</td>\n",
       "      <td>1030021.0</td>\n",
       "      <td>244520.0</td>\n",
       "      <td>Unspecified</td>\n",
       "      <td>BRONX</td>\n",
       "      <td>Unspecified</td>\n",
       "      <td>Unspecified</td>\n",
       "      <td>Unspecified</td>\n",
       "      <td>Unspecified</td>\n",
       "      <td>Unspecified</td>\n",
       "      <td>Unspecified</td>\n",
       "      <td>Unspecified</td>\n",
       "      <td>Unspecified</td>\n",
       "      <td>Unspecified</td>\n",
       "      <td>N</td>\n",
       "      <td>NaN</td>\n",
       "      <td>NaN</td>\n",
       "      <td>NaN</td>\n",
       "      <td>NaN</td>\n",
       "      <td>NaN</td>\n",
       "      <td>NaN</td>\n",
       "      <td>NaN</td>\n",
       "      <td>NaN</td>\n",
       "      <td>NaN</td>\n",
       "      <td>NaN</td>\n",
       "      <td>NaN</td>\n",
       "      <td>40.837708</td>\n",
       "      <td>-73.834587</td>\n",
       "      <td>(40.8377075854206, -73.83458731019586)</td>\n",
       "    </tr>\n",
       "    <tr>\n",
       "      <th>300697</th>\n",
       "      <td>30281825</td>\n",
       "      <td>2015-03-29 00:33:01</td>\n",
       "      <td>2015-03-29 04:41:50</td>\n",
       "      <td>NYPD</td>\n",
       "      <td>New York City Police Department</td>\n",
       "      <td>Noise - Commercial</td>\n",
       "      <td>Loud Music/Party</td>\n",
       "      <td>Store/Commercial</td>\n",
       "      <td>10036.0</td>\n",
       "      <td>251 WEST 48 STREET</td>\n",
       "      <td>WEST 48 STREET</td>\n",
       "      <td>BROADWAY</td>\n",
       "      <td>8 AVENUE</td>\n",
       "      <td>NaN</td>\n",
       "      <td>NaN</td>\n",
       "      <td>ADDRESS</td>\n",
       "      <td>NEW YORK</td>\n",
       "      <td>NaN</td>\n",
       "      <td>Precinct</td>\n",
       "      <td>Closed</td>\n",
       "      <td>03/29/2015 08:33:01 AM</td>\n",
       "      <td>The Police Department responded to the complai...</td>\n",
       "      <td>03/29/2015 04:41:50 AM</td>\n",
       "      <td>05 MANHATTAN</td>\n",
       "      <td>MANHATTAN</td>\n",
       "      <td>988150.0</td>\n",
       "      <td>216378.0</td>\n",
       "      <td>Unspecified</td>\n",
       "      <td>MANHATTAN</td>\n",
       "      <td>Unspecified</td>\n",
       "      <td>Unspecified</td>\n",
       "      <td>Unspecified</td>\n",
       "      <td>Unspecified</td>\n",
       "      <td>Unspecified</td>\n",
       "      <td>Unspecified</td>\n",
       "      <td>Unspecified</td>\n",
       "      <td>Unspecified</td>\n",
       "      <td>Unspecified</td>\n",
       "      <td>N</td>\n",
       "      <td>NaN</td>\n",
       "      <td>NaN</td>\n",
       "      <td>NaN</td>\n",
       "      <td>NaN</td>\n",
       "      <td>NaN</td>\n",
       "      <td>NaN</td>\n",
       "      <td>NaN</td>\n",
       "      <td>NaN</td>\n",
       "      <td>NaN</td>\n",
       "      <td>NaN</td>\n",
       "      <td>NaN</td>\n",
       "      <td>40.760583</td>\n",
       "      <td>-73.985922</td>\n",
       "      <td>(40.76058322950115, -73.98592204392392)</td>\n",
       "    </tr>\n",
       "  </tbody>\n",
       "</table>\n",
       "</div>"
      ],
      "text/plain": [
       "        Unique Key        Created Date         Closed Date Agency  \\\n",
       "300693    30281872 2015-03-29 00:33:41                 NaT   NYPD   \n",
       "300694    30281230 2015-03-29 00:33:28 2015-03-29 02:33:59   NYPD   \n",
       "300695    30283424 2015-03-29 00:33:03 2015-03-29 03:40:20   NYPD   \n",
       "300696    30280004 2015-03-29 00:33:02 2015-03-29 04:38:35   NYPD   \n",
       "300697    30281825 2015-03-29 00:33:01 2015-03-29 04:41:50   NYPD   \n",
       "\n",
       "                            Agency Name      Complaint Type        Descriptor  \\\n",
       "300693  New York City Police Department  Noise - Commercial  Loud Music/Party   \n",
       "300694  New York City Police Department    Blocked Driveway    Partial Access   \n",
       "300695  New York City Police Department  Noise - Commercial  Loud Music/Party   \n",
       "300696  New York City Police Department  Noise - Commercial  Loud Music/Party   \n",
       "300697  New York City Police Department  Noise - Commercial  Loud Music/Party   \n",
       "\n",
       "              Location Type  Incident Zip          Incident Address  \\\n",
       "300693  Club/Bar/Restaurant           NaN           CRESCENT AVENUE   \n",
       "300694      Street/Sidewalk       11418.0          100-17 87 AVENUE   \n",
       "300695  Club/Bar/Restaurant       11206.0         162 THROOP AVENUE   \n",
       "300696  Club/Bar/Restaurant       10461.0  3151 EAST TREMONT AVENUE   \n",
       "300697     Store/Commercial       10036.0        251 WEST 48 STREET   \n",
       "\n",
       "                Street Name     Cross Street 1   Cross Street 2  \\\n",
       "300693      CRESCENT AVENUE           EAST 186              NaN   \n",
       "300694            87 AVENUE           DEAD END       102 STREET   \n",
       "300695        THROOP AVENUE     HOPKINS STREET    ELLERY STREET   \n",
       "300696  EAST TREMONT AVENUE  CODDINGTON AVENUE  LA SALLE AVENUE   \n",
       "300697       WEST 48 STREET           BROADWAY         8 AVENUE   \n",
       "\n",
       "       Intersection Street 1 Intersection Street 2 Address Type  \\\n",
       "300693              east 186                   NaN          NaN   \n",
       "300694                   NaN                   NaN      ADDRESS   \n",
       "300695                   NaN                   NaN      ADDRESS   \n",
       "300696                   NaN                   NaN      ADDRESS   \n",
       "300697                   NaN                   NaN      ADDRESS   \n",
       "\n",
       "                 City Landmark Facility Type  Status                Due Date  \\\n",
       "300693            NaN      NaN           NaN    Open  03/29/2015 08:33:41 AM   \n",
       "300694  RICHMOND HILL      NaN      Precinct  Closed  03/29/2015 08:33:28 AM   \n",
       "300695       BROOKLYN      NaN      Precinct  Closed  03/29/2015 08:33:03 AM   \n",
       "300696          BRONX      NaN      Precinct  Closed  03/29/2015 08:33:02 AM   \n",
       "300697       NEW YORK      NaN      Precinct  Closed  03/29/2015 08:33:01 AM   \n",
       "\n",
       "                                   Resolution Description  \\\n",
       "300693  Your complaint has been forwarded to the New Y...   \n",
       "300694  The Police Department responded and upon arriv...   \n",
       "300695  The Police Department responded to the complai...   \n",
       "300696  The Police Department responded to the complai...   \n",
       "300697  The Police Department responded to the complai...   \n",
       "\n",
       "       Resolution Action Updated Date Community Board      Borough  \\\n",
       "300693                            NaN   0 Unspecified  Unspecified   \n",
       "300694         03/29/2015 02:33:59 AM       09 QUEENS       QUEENS   \n",
       "300695         03/29/2015 03:40:20 AM     03 BROOKLYN     BROOKLYN   \n",
       "300696         03/29/2015 04:38:35 AM        10 BRONX        BRONX   \n",
       "300697         03/29/2015 04:41:50 AM    05 MANHATTAN    MANHATTAN   \n",
       "\n",
       "        X Coordinate (State Plane)  Y Coordinate (State Plane)  \\\n",
       "300693                         NaN                         NaN   \n",
       "300694                   1026931.0                    192185.0   \n",
       "300695                    999713.0                    194161.0   \n",
       "300696                   1030021.0                    244520.0   \n",
       "300697                    988150.0                    216378.0   \n",
       "\n",
       "       Park Facility Name Park Borough  School Name School Number  \\\n",
       "300693        Unspecified  Unspecified  Unspecified   Unspecified   \n",
       "300694        Unspecified       QUEENS  Unspecified   Unspecified   \n",
       "300695        Unspecified     BROOKLYN  Unspecified   Unspecified   \n",
       "300696        Unspecified        BRONX  Unspecified   Unspecified   \n",
       "300697        Unspecified    MANHATTAN  Unspecified   Unspecified   \n",
       "\n",
       "       School Region  School Code School Phone Number School Address  \\\n",
       "300693   Unspecified  Unspecified         Unspecified    Unspecified   \n",
       "300694   Unspecified  Unspecified         Unspecified    Unspecified   \n",
       "300695   Unspecified  Unspecified         Unspecified    Unspecified   \n",
       "300696   Unspecified  Unspecified         Unspecified    Unspecified   \n",
       "300697   Unspecified  Unspecified         Unspecified    Unspecified   \n",
       "\n",
       "        School City School State   School Zip School Not Found  \\\n",
       "300693  Unspecified  Unspecified  Unspecified                N   \n",
       "300694  Unspecified  Unspecified  Unspecified                N   \n",
       "300695  Unspecified  Unspecified  Unspecified                N   \n",
       "300696  Unspecified  Unspecified  Unspecified                N   \n",
       "300697  Unspecified  Unspecified  Unspecified                N   \n",
       "\n",
       "        School or Citywide Complaint  Vehicle Type  Taxi Company Borough  \\\n",
       "300693                           NaN           NaN                   NaN   \n",
       "300694                           NaN           NaN                   NaN   \n",
       "300695                           NaN           NaN                   NaN   \n",
       "300696                           NaN           NaN                   NaN   \n",
       "300697                           NaN           NaN                   NaN   \n",
       "\n",
       "        Taxi Pick Up Location Bridge Highway Name Bridge Highway Direction  \\\n",
       "300693                    NaN                 NaN                      NaN   \n",
       "300694                    NaN                 NaN                      NaN   \n",
       "300695                    NaN                 NaN                      NaN   \n",
       "300696                    NaN                 NaN                      NaN   \n",
       "300697                    NaN                 NaN                      NaN   \n",
       "\n",
       "       Road Ramp Bridge Highway Segment  Garage Lot Name Ferry Direction  \\\n",
       "300693       NaN                    NaN              NaN             NaN   \n",
       "300694       NaN                    NaN              NaN             NaN   \n",
       "300695       NaN                    NaN              NaN             NaN   \n",
       "300696       NaN                    NaN              NaN             NaN   \n",
       "300697       NaN                    NaN              NaN             NaN   \n",
       "\n",
       "       Ferry Terminal Name   Latitude  Longitude  \\\n",
       "300693                 NaN        NaN        NaN   \n",
       "300694                 NaN  40.694077 -73.846087   \n",
       "300695                 NaN  40.699590 -73.944234   \n",
       "300696                 NaN  40.837708 -73.834587   \n",
       "300697                 NaN  40.760583 -73.985922   \n",
       "\n",
       "                                       Location  \n",
       "300693                                      NaN  \n",
       "300694   (40.69407728322387, -73.8460866160573)  \n",
       "300695  (40.69959035300927, -73.94423377144169)  \n",
       "300696   (40.8377075854206, -73.83458731019586)  \n",
       "300697  (40.76058322950115, -73.98592204392392)  "
      ]
     },
     "execution_count": 9,
     "metadata": {},
     "output_type": "execute_result"
    }
   ],
   "source": [
    "df_service_requests.tail()"
   ]
  },
  {
   "cell_type": "code",
   "execution_count": 10,
   "metadata": {},
   "outputs": [
    {
     "name": "stdout",
     "output_type": "stream",
     "text": [
      "<class 'pandas.core.frame.DataFrame'>\n",
      "RangeIndex: 300698 entries, 0 to 300697\n",
      "Data columns (total 53 columns):\n",
      " #   Column                          Non-Null Count   Dtype         \n",
      "---  ------                          --------------   -----         \n",
      " 0   Unique Key                      300698 non-null  int64         \n",
      " 1   Created Date                    300698 non-null  datetime64[ns]\n",
      " 2   Closed Date                     298534 non-null  datetime64[ns]\n",
      " 3   Agency                          300698 non-null  object        \n",
      " 4   Agency Name                     300698 non-null  object        \n",
      " 5   Complaint Type                  300698 non-null  object        \n",
      " 6   Descriptor                      294784 non-null  object        \n",
      " 7   Location Type                   300567 non-null  object        \n",
      " 8   Incident Zip                    298083 non-null  float64       \n",
      " 9   Incident Address                256288 non-null  object        \n",
      " 10  Street Name                     256288 non-null  object        \n",
      " 11  Cross Street 1                  251419 non-null  object        \n",
      " 12  Cross Street 2                  250919 non-null  object        \n",
      " 13  Intersection Street 1           43858 non-null   object        \n",
      " 14  Intersection Street 2           43362 non-null   object        \n",
      " 15  Address Type                    297883 non-null  object        \n",
      " 16  City                            298084 non-null  object        \n",
      " 17  Landmark                        349 non-null     object        \n",
      " 18  Facility Type                   298527 non-null  object        \n",
      " 19  Status                          300698 non-null  object        \n",
      " 20  Due Date                        300695 non-null  object        \n",
      " 21  Resolution Description          300698 non-null  object        \n",
      " 22  Resolution Action Updated Date  298511 non-null  object        \n",
      " 23  Community Board                 300698 non-null  object        \n",
      " 24  Borough                         300698 non-null  object        \n",
      " 25  X Coordinate (State Plane)      297158 non-null  float64       \n",
      " 26  Y Coordinate (State Plane)      297158 non-null  float64       \n",
      " 27  Park Facility Name              300698 non-null  object        \n",
      " 28  Park Borough                    300698 non-null  object        \n",
      " 29  School Name                     300698 non-null  object        \n",
      " 30  School Number                   300698 non-null  object        \n",
      " 31  School Region                   300697 non-null  object        \n",
      " 32  School Code                     300697 non-null  object        \n",
      " 33  School Phone Number             300698 non-null  object        \n",
      " 34  School Address                  300698 non-null  object        \n",
      " 35  School City                     300698 non-null  object        \n",
      " 36  School State                    300698 non-null  object        \n",
      " 37  School Zip                      300697 non-null  object        \n",
      " 38  School Not Found                300698 non-null  object        \n",
      " 39  School or Citywide Complaint    0 non-null       float64       \n",
      " 40  Vehicle Type                    0 non-null       float64       \n",
      " 41  Taxi Company Borough            0 non-null       float64       \n",
      " 42  Taxi Pick Up Location           0 non-null       float64       \n",
      " 43  Bridge Highway Name             243 non-null     object        \n",
      " 44  Bridge Highway Direction        243 non-null     object        \n",
      " 45  Road Ramp                       213 non-null     object        \n",
      " 46  Bridge Highway Segment          213 non-null     object        \n",
      " 47  Garage Lot Name                 0 non-null       float64       \n",
      " 48  Ferry Direction                 1 non-null       object        \n",
      " 49  Ferry Terminal Name             2 non-null       object        \n",
      " 50  Latitude                        297158 non-null  float64       \n",
      " 51  Longitude                       297158 non-null  float64       \n",
      " 52  Location                        297158 non-null  object        \n",
      "dtypes: datetime64[ns](2), float64(10), int64(1), object(40)\n",
      "memory usage: 75.7+ MB\n"
     ]
    }
   ],
   "source": [
    "df_service_requests.info()"
   ]
  },
  {
   "cell_type": "code",
   "execution_count": 11,
   "metadata": {},
   "outputs": [
    {
     "data": {
      "text/plain": [
       "Unique Key                             0\n",
       "Created Date                           0\n",
       "Closed Date                         2164\n",
       "Agency                                 0\n",
       "Agency Name                            0\n",
       "Complaint Type                         0\n",
       "Descriptor                          5914\n",
       "Location Type                        131\n",
       "Incident Zip                        2615\n",
       "Incident Address                   44410\n",
       "Street Name                        44410\n",
       "Cross Street 1                     49279\n",
       "Cross Street 2                     49779\n",
       "Intersection Street 1             256840\n",
       "Intersection Street 2             257336\n",
       "Address Type                        2815\n",
       "City                                2614\n",
       "Landmark                          300349\n",
       "Facility Type                       2171\n",
       "Status                                 0\n",
       "Due Date                               3\n",
       "Resolution Description                 0\n",
       "Resolution Action Updated Date      2187\n",
       "Community Board                        0\n",
       "Borough                                0\n",
       "X Coordinate (State Plane)          3540\n",
       "Y Coordinate (State Plane)          3540\n",
       "Park Facility Name                     0\n",
       "Park Borough                           0\n",
       "School Name                            0\n",
       "School Number                          0\n",
       "School Region                          1\n",
       "School Code                            1\n",
       "School Phone Number                    0\n",
       "School Address                         0\n",
       "School City                            0\n",
       "School State                           0\n",
       "School Zip                             1\n",
       "School Not Found                       0\n",
       "School or Citywide Complaint      300698\n",
       "Vehicle Type                      300698\n",
       "Taxi Company Borough              300698\n",
       "Taxi Pick Up Location             300698\n",
       "Bridge Highway Name               300455\n",
       "Bridge Highway Direction          300455\n",
       "Road Ramp                         300485\n",
       "Bridge Highway Segment            300485\n",
       "Garage Lot Name                   300698\n",
       "Ferry Direction                   300697\n",
       "Ferry Terminal Name               300696\n",
       "Latitude                            3540\n",
       "Longitude                           3540\n",
       "Location                            3540\n",
       "dtype: int64"
      ]
     },
     "execution_count": 11,
     "metadata": {},
     "output_type": "execute_result"
    }
   ],
   "source": [
    "df_service_requests.isnull().sum() #it provide the count of Nan val in dataframe"
   ]
  },
  {
   "cell_type": "code",
   "execution_count": 12,
   "metadata": {},
   "outputs": [],
   "source": [
    "null_val=df_service_requests.isnull().sum()/df_service_requests.shape[0] *100 #it tell perc of Nan val,column wise"
   ]
  },
  {
   "cell_type": "code",
   "execution_count": 13,
   "metadata": {},
   "outputs": [
    {
     "data": {
      "text/plain": [
       "Unique Key                          0.000000\n",
       "Created Date                        0.000000\n",
       "Closed Date                         0.719659\n",
       "Agency                              0.000000\n",
       "Agency Name                         0.000000\n",
       "Complaint Type                      0.000000\n",
       "Descriptor                          1.966757\n",
       "Location Type                       0.043565\n",
       "Incident Zip                        0.869643\n",
       "Incident Address                   14.768971\n",
       "Street Name                        14.768971\n",
       "Cross Street 1                     16.388203\n",
       "Cross Street 2                     16.554483\n",
       "Intersection Street 1              85.414602\n",
       "Intersection Street 2              85.579552\n",
       "Address Type                        0.936155\n",
       "City                                0.869311\n",
       "Landmark                           99.883937\n",
       "Facility Type                       0.721987\n",
       "Status                              0.000000\n",
       "Due Date                            0.000998\n",
       "Resolution Description              0.000000\n",
       "Resolution Action Updated Date      0.727308\n",
       "Community Board                     0.000000\n",
       "Borough                             0.000000\n",
       "X Coordinate (State Plane)          1.177261\n",
       "Y Coordinate (State Plane)          1.177261\n",
       "Park Facility Name                  0.000000\n",
       "Park Borough                        0.000000\n",
       "School Name                         0.000000\n",
       "School Number                       0.000000\n",
       "School Region                       0.000333\n",
       "School Code                         0.000333\n",
       "School Phone Number                 0.000000\n",
       "School Address                      0.000000\n",
       "School City                         0.000000\n",
       "School State                        0.000000\n",
       "School Zip                          0.000333\n",
       "School Not Found                    0.000000\n",
       "School or Citywide Complaint      100.000000\n",
       "Vehicle Type                      100.000000\n",
       "Taxi Company Borough              100.000000\n",
       "Taxi Pick Up Location             100.000000\n",
       "Bridge Highway Name                99.919188\n",
       "Bridge Highway Direction           99.919188\n",
       "Road Ramp                          99.929165\n",
       "Bridge Highway Segment             99.929165\n",
       "Garage Lot Name                   100.000000\n",
       "Ferry Direction                    99.999667\n",
       "Ferry Terminal Name                99.999335\n",
       "Latitude                            1.177261\n",
       "Longitude                           1.177261\n",
       "Location                            1.177261\n",
       "dtype: float64"
      ]
     },
     "execution_count": 13,
     "metadata": {},
     "output_type": "execute_result"
    }
   ],
   "source": [
    "null_val"
   ]
  },
  {
   "cell_type": "code",
   "execution_count": 14,
   "metadata": {},
   "outputs": [],
   "source": [
    "drop_columns=null_val[null_val>15].keys()"
   ]
  },
  {
   "cell_type": "code",
   "execution_count": 15,
   "metadata": {},
   "outputs": [
    {
     "data": {
      "text/plain": [
       "Index(['Cross Street 1', 'Cross Street 2', 'Intersection Street 1',\n",
       "       'Intersection Street 2', 'Landmark', 'School or Citywide Complaint',\n",
       "       'Vehicle Type', 'Taxi Company Borough', 'Taxi Pick Up Location',\n",
       "       'Bridge Highway Name', 'Bridge Highway Direction', 'Road Ramp',\n",
       "       'Bridge Highway Segment', 'Garage Lot Name', 'Ferry Direction',\n",
       "       'Ferry Terminal Name'],\n",
       "      dtype='object')"
      ]
     },
     "execution_count": 15,
     "metadata": {},
     "output_type": "execute_result"
    }
   ],
   "source": [
    "drop_columns"
   ]
  },
  {
   "cell_type": "code",
   "execution_count": 16,
   "metadata": {},
   "outputs": [
    {
     "data": {
      "text/plain": [
       "16"
      ]
     },
     "execution_count": 16,
     "metadata": {},
     "output_type": "execute_result"
    }
   ],
   "source": [
    "len(drop_columns)"
   ]
  },
  {
   "cell_type": "code",
   "execution_count": 17,
   "metadata": {},
   "outputs": [
    {
     "data": {
      "text/plain": [
       "53"
      ]
     },
     "execution_count": 17,
     "metadata": {},
     "output_type": "execute_result"
    }
   ],
   "source": [
    "len(df_service_requests.columns)"
   ]
  },
  {
   "cell_type": "code",
   "execution_count": 18,
   "metadata": {},
   "outputs": [],
   "source": [
    "new_df_service_requests=df_service_requests.drop(columns=drop_columns) # we can drop columns which include more than 15 per Nan vlaue"
   ]
  },
  {
   "cell_type": "code",
   "execution_count": 19,
   "metadata": {},
   "outputs": [
    {
     "data": {
      "text/plain": [
       "(300698, 37)"
      ]
     },
     "execution_count": 19,
     "metadata": {},
     "output_type": "execute_result"
    }
   ],
   "source": [
    "new_df_service_requests.shape"
   ]
  },
  {
   "cell_type": "code",
   "execution_count": 20,
   "metadata": {
    "scrolled": true
   },
   "outputs": [
    {
     "data": {
      "text/html": [
       "<div>\n",
       "<style scoped>\n",
       "    .dataframe tbody tr th:only-of-type {\n",
       "        vertical-align: middle;\n",
       "    }\n",
       "\n",
       "    .dataframe tbody tr th {\n",
       "        vertical-align: top;\n",
       "    }\n",
       "\n",
       "    .dataframe thead th {\n",
       "        text-align: right;\n",
       "    }\n",
       "</style>\n",
       "<table border=\"1\" class=\"dataframe\">\n",
       "  <thead>\n",
       "    <tr style=\"text-align: right;\">\n",
       "      <th></th>\n",
       "      <th>Unique Key</th>\n",
       "      <th>Created Date</th>\n",
       "      <th>Closed Date</th>\n",
       "      <th>Agency</th>\n",
       "      <th>Agency Name</th>\n",
       "      <th>Complaint Type</th>\n",
       "      <th>Descriptor</th>\n",
       "      <th>Location Type</th>\n",
       "      <th>Incident Zip</th>\n",
       "      <th>Incident Address</th>\n",
       "      <th>Street Name</th>\n",
       "      <th>Address Type</th>\n",
       "      <th>City</th>\n",
       "      <th>Facility Type</th>\n",
       "      <th>Status</th>\n",
       "      <th>Due Date</th>\n",
       "      <th>Resolution Description</th>\n",
       "      <th>Resolution Action Updated Date</th>\n",
       "      <th>Community Board</th>\n",
       "      <th>Borough</th>\n",
       "      <th>X Coordinate (State Plane)</th>\n",
       "      <th>Y Coordinate (State Plane)</th>\n",
       "      <th>Park Facility Name</th>\n",
       "      <th>Park Borough</th>\n",
       "      <th>School Name</th>\n",
       "      <th>School Number</th>\n",
       "      <th>School Region</th>\n",
       "      <th>School Code</th>\n",
       "      <th>School Phone Number</th>\n",
       "      <th>School Address</th>\n",
       "      <th>School City</th>\n",
       "      <th>School State</th>\n",
       "      <th>School Zip</th>\n",
       "      <th>School Not Found</th>\n",
       "      <th>Latitude</th>\n",
       "      <th>Longitude</th>\n",
       "      <th>Location</th>\n",
       "    </tr>\n",
       "  </thead>\n",
       "  <tbody>\n",
       "    <tr>\n",
       "      <th>0</th>\n",
       "      <td>32310363</td>\n",
       "      <td>2015-12-31 23:59:45</td>\n",
       "      <td>2016-01-01 00:55:00</td>\n",
       "      <td>NYPD</td>\n",
       "      <td>New York City Police Department</td>\n",
       "      <td>Noise - Street/Sidewalk</td>\n",
       "      <td>Loud Music/Party</td>\n",
       "      <td>Street/Sidewalk</td>\n",
       "      <td>10034.0</td>\n",
       "      <td>71 VERMILYEA AVENUE</td>\n",
       "      <td>VERMILYEA AVENUE</td>\n",
       "      <td>ADDRESS</td>\n",
       "      <td>NEW YORK</td>\n",
       "      <td>Precinct</td>\n",
       "      <td>Closed</td>\n",
       "      <td>01-01-16 7:59</td>\n",
       "      <td>The Police Department responded and upon arriv...</td>\n",
       "      <td>01-01-16 0:55</td>\n",
       "      <td>12 MANHATTAN</td>\n",
       "      <td>MANHATTAN</td>\n",
       "      <td>1005409.0</td>\n",
       "      <td>254678.0</td>\n",
       "      <td>Unspecified</td>\n",
       "      <td>MANHATTAN</td>\n",
       "      <td>Unspecified</td>\n",
       "      <td>Unspecified</td>\n",
       "      <td>Unspecified</td>\n",
       "      <td>Unspecified</td>\n",
       "      <td>Unspecified</td>\n",
       "      <td>Unspecified</td>\n",
       "      <td>Unspecified</td>\n",
       "      <td>Unspecified</td>\n",
       "      <td>Unspecified</td>\n",
       "      <td>N</td>\n",
       "      <td>40.865682</td>\n",
       "      <td>-73.923501</td>\n",
       "      <td>(40.86568153633767, -73.92350095571744)</td>\n",
       "    </tr>\n",
       "    <tr>\n",
       "      <th>1</th>\n",
       "      <td>32309934</td>\n",
       "      <td>2015-12-31 23:59:44</td>\n",
       "      <td>2016-01-01 01:26:00</td>\n",
       "      <td>NYPD</td>\n",
       "      <td>New York City Police Department</td>\n",
       "      <td>Blocked Driveway</td>\n",
       "      <td>No Access</td>\n",
       "      <td>Street/Sidewalk</td>\n",
       "      <td>11105.0</td>\n",
       "      <td>27-07 23 AVENUE</td>\n",
       "      <td>23 AVENUE</td>\n",
       "      <td>ADDRESS</td>\n",
       "      <td>ASTORIA</td>\n",
       "      <td>Precinct</td>\n",
       "      <td>Closed</td>\n",
       "      <td>01-01-16 7:59</td>\n",
       "      <td>The Police Department responded to the complai...</td>\n",
       "      <td>01-01-16 1:26</td>\n",
       "      <td>01 QUEENS</td>\n",
       "      <td>QUEENS</td>\n",
       "      <td>1007766.0</td>\n",
       "      <td>221986.0</td>\n",
       "      <td>Unspecified</td>\n",
       "      <td>QUEENS</td>\n",
       "      <td>Unspecified</td>\n",
       "      <td>Unspecified</td>\n",
       "      <td>Unspecified</td>\n",
       "      <td>Unspecified</td>\n",
       "      <td>Unspecified</td>\n",
       "      <td>Unspecified</td>\n",
       "      <td>Unspecified</td>\n",
       "      <td>Unspecified</td>\n",
       "      <td>Unspecified</td>\n",
       "      <td>N</td>\n",
       "      <td>40.775945</td>\n",
       "      <td>-73.915094</td>\n",
       "      <td>(40.775945312321085, -73.91509393898605)</td>\n",
       "    </tr>\n",
       "    <tr>\n",
       "      <th>2</th>\n",
       "      <td>32309159</td>\n",
       "      <td>2015-12-31 23:59:29</td>\n",
       "      <td>2016-01-01 04:51:00</td>\n",
       "      <td>NYPD</td>\n",
       "      <td>New York City Police Department</td>\n",
       "      <td>Blocked Driveway</td>\n",
       "      <td>No Access</td>\n",
       "      <td>Street/Sidewalk</td>\n",
       "      <td>10458.0</td>\n",
       "      <td>2897 VALENTINE AVENUE</td>\n",
       "      <td>VALENTINE AVENUE</td>\n",
       "      <td>ADDRESS</td>\n",
       "      <td>BRONX</td>\n",
       "      <td>Precinct</td>\n",
       "      <td>Closed</td>\n",
       "      <td>01-01-16 7:59</td>\n",
       "      <td>The Police Department responded and upon arriv...</td>\n",
       "      <td>01-01-16 4:51</td>\n",
       "      <td>07 BRONX</td>\n",
       "      <td>BRONX</td>\n",
       "      <td>1015081.0</td>\n",
       "      <td>256380.0</td>\n",
       "      <td>Unspecified</td>\n",
       "      <td>BRONX</td>\n",
       "      <td>Unspecified</td>\n",
       "      <td>Unspecified</td>\n",
       "      <td>Unspecified</td>\n",
       "      <td>Unspecified</td>\n",
       "      <td>Unspecified</td>\n",
       "      <td>Unspecified</td>\n",
       "      <td>Unspecified</td>\n",
       "      <td>Unspecified</td>\n",
       "      <td>Unspecified</td>\n",
       "      <td>N</td>\n",
       "      <td>40.870325</td>\n",
       "      <td>-73.888525</td>\n",
       "      <td>(40.870324522111424, -73.88852464418646)</td>\n",
       "    </tr>\n",
       "    <tr>\n",
       "      <th>3</th>\n",
       "      <td>32305098</td>\n",
       "      <td>2015-12-31 23:57:46</td>\n",
       "      <td>2016-01-01 07:43:00</td>\n",
       "      <td>NYPD</td>\n",
       "      <td>New York City Police Department</td>\n",
       "      <td>Illegal Parking</td>\n",
       "      <td>Commercial Overnight Parking</td>\n",
       "      <td>Street/Sidewalk</td>\n",
       "      <td>10461.0</td>\n",
       "      <td>2940 BAISLEY AVENUE</td>\n",
       "      <td>BAISLEY AVENUE</td>\n",
       "      <td>ADDRESS</td>\n",
       "      <td>BRONX</td>\n",
       "      <td>Precinct</td>\n",
       "      <td>Closed</td>\n",
       "      <td>01-01-16 7:57</td>\n",
       "      <td>The Police Department responded to the complai...</td>\n",
       "      <td>01-01-16 7:43</td>\n",
       "      <td>10 BRONX</td>\n",
       "      <td>BRONX</td>\n",
       "      <td>1031740.0</td>\n",
       "      <td>243899.0</td>\n",
       "      <td>Unspecified</td>\n",
       "      <td>BRONX</td>\n",
       "      <td>Unspecified</td>\n",
       "      <td>Unspecified</td>\n",
       "      <td>Unspecified</td>\n",
       "      <td>Unspecified</td>\n",
       "      <td>Unspecified</td>\n",
       "      <td>Unspecified</td>\n",
       "      <td>Unspecified</td>\n",
       "      <td>Unspecified</td>\n",
       "      <td>Unspecified</td>\n",
       "      <td>N</td>\n",
       "      <td>40.835994</td>\n",
       "      <td>-73.828379</td>\n",
       "      <td>(40.83599404683083, -73.82837939584206)</td>\n",
       "    </tr>\n",
       "    <tr>\n",
       "      <th>4</th>\n",
       "      <td>32306529</td>\n",
       "      <td>2015-12-31 23:56:58</td>\n",
       "      <td>2016-01-01 03:24:00</td>\n",
       "      <td>NYPD</td>\n",
       "      <td>New York City Police Department</td>\n",
       "      <td>Illegal Parking</td>\n",
       "      <td>Blocked Sidewalk</td>\n",
       "      <td>Street/Sidewalk</td>\n",
       "      <td>11373.0</td>\n",
       "      <td>87-14 57 ROAD</td>\n",
       "      <td>57 ROAD</td>\n",
       "      <td>ADDRESS</td>\n",
       "      <td>ELMHURST</td>\n",
       "      <td>Precinct</td>\n",
       "      <td>Closed</td>\n",
       "      <td>01-01-16 7:56</td>\n",
       "      <td>The Police Department responded and upon arriv...</td>\n",
       "      <td>01-01-16 3:24</td>\n",
       "      <td>04 QUEENS</td>\n",
       "      <td>QUEENS</td>\n",
       "      <td>1019123.0</td>\n",
       "      <td>206375.0</td>\n",
       "      <td>Unspecified</td>\n",
       "      <td>QUEENS</td>\n",
       "      <td>Unspecified</td>\n",
       "      <td>Unspecified</td>\n",
       "      <td>Unspecified</td>\n",
       "      <td>Unspecified</td>\n",
       "      <td>Unspecified</td>\n",
       "      <td>Unspecified</td>\n",
       "      <td>Unspecified</td>\n",
       "      <td>Unspecified</td>\n",
       "      <td>Unspecified</td>\n",
       "      <td>N</td>\n",
       "      <td>40.733060</td>\n",
       "      <td>-73.874170</td>\n",
       "      <td>(40.733059618956815, -73.87416975810375)</td>\n",
       "    </tr>\n",
       "  </tbody>\n",
       "</table>\n",
       "</div>"
      ],
      "text/plain": [
       "   Unique Key        Created Date         Closed Date Agency  \\\n",
       "0    32310363 2015-12-31 23:59:45 2016-01-01 00:55:00   NYPD   \n",
       "1    32309934 2015-12-31 23:59:44 2016-01-01 01:26:00   NYPD   \n",
       "2    32309159 2015-12-31 23:59:29 2016-01-01 04:51:00   NYPD   \n",
       "3    32305098 2015-12-31 23:57:46 2016-01-01 07:43:00   NYPD   \n",
       "4    32306529 2015-12-31 23:56:58 2016-01-01 03:24:00   NYPD   \n",
       "\n",
       "                       Agency Name           Complaint Type  \\\n",
       "0  New York City Police Department  Noise - Street/Sidewalk   \n",
       "1  New York City Police Department         Blocked Driveway   \n",
       "2  New York City Police Department         Blocked Driveway   \n",
       "3  New York City Police Department          Illegal Parking   \n",
       "4  New York City Police Department          Illegal Parking   \n",
       "\n",
       "                     Descriptor    Location Type  Incident Zip  \\\n",
       "0              Loud Music/Party  Street/Sidewalk       10034.0   \n",
       "1                     No Access  Street/Sidewalk       11105.0   \n",
       "2                     No Access  Street/Sidewalk       10458.0   \n",
       "3  Commercial Overnight Parking  Street/Sidewalk       10461.0   \n",
       "4              Blocked Sidewalk  Street/Sidewalk       11373.0   \n",
       "\n",
       "        Incident Address       Street Name Address Type      City  \\\n",
       "0    71 VERMILYEA AVENUE  VERMILYEA AVENUE      ADDRESS  NEW YORK   \n",
       "1        27-07 23 AVENUE         23 AVENUE      ADDRESS   ASTORIA   \n",
       "2  2897 VALENTINE AVENUE  VALENTINE AVENUE      ADDRESS     BRONX   \n",
       "3    2940 BAISLEY AVENUE    BAISLEY AVENUE      ADDRESS     BRONX   \n",
       "4          87-14 57 ROAD           57 ROAD      ADDRESS  ELMHURST   \n",
       "\n",
       "  Facility Type  Status       Due Date  \\\n",
       "0      Precinct  Closed  01-01-16 7:59   \n",
       "1      Precinct  Closed  01-01-16 7:59   \n",
       "2      Precinct  Closed  01-01-16 7:59   \n",
       "3      Precinct  Closed  01-01-16 7:57   \n",
       "4      Precinct  Closed  01-01-16 7:56   \n",
       "\n",
       "                              Resolution Description  \\\n",
       "0  The Police Department responded and upon arriv...   \n",
       "1  The Police Department responded to the complai...   \n",
       "2  The Police Department responded and upon arriv...   \n",
       "3  The Police Department responded to the complai...   \n",
       "4  The Police Department responded and upon arriv...   \n",
       "\n",
       "  Resolution Action Updated Date Community Board    Borough  \\\n",
       "0                  01-01-16 0:55    12 MANHATTAN  MANHATTAN   \n",
       "1                  01-01-16 1:26       01 QUEENS     QUEENS   \n",
       "2                  01-01-16 4:51        07 BRONX      BRONX   \n",
       "3                  01-01-16 7:43        10 BRONX      BRONX   \n",
       "4                  01-01-16 3:24       04 QUEENS     QUEENS   \n",
       "\n",
       "   X Coordinate (State Plane)  Y Coordinate (State Plane) Park Facility Name  \\\n",
       "0                   1005409.0                    254678.0        Unspecified   \n",
       "1                   1007766.0                    221986.0        Unspecified   \n",
       "2                   1015081.0                    256380.0        Unspecified   \n",
       "3                   1031740.0                    243899.0        Unspecified   \n",
       "4                   1019123.0                    206375.0        Unspecified   \n",
       "\n",
       "  Park Borough  School Name School Number School Region  School Code  \\\n",
       "0    MANHATTAN  Unspecified   Unspecified   Unspecified  Unspecified   \n",
       "1       QUEENS  Unspecified   Unspecified   Unspecified  Unspecified   \n",
       "2        BRONX  Unspecified   Unspecified   Unspecified  Unspecified   \n",
       "3        BRONX  Unspecified   Unspecified   Unspecified  Unspecified   \n",
       "4       QUEENS  Unspecified   Unspecified   Unspecified  Unspecified   \n",
       "\n",
       "  School Phone Number School Address  School City School State   School Zip  \\\n",
       "0         Unspecified    Unspecified  Unspecified  Unspecified  Unspecified   \n",
       "1         Unspecified    Unspecified  Unspecified  Unspecified  Unspecified   \n",
       "2         Unspecified    Unspecified  Unspecified  Unspecified  Unspecified   \n",
       "3         Unspecified    Unspecified  Unspecified  Unspecified  Unspecified   \n",
       "4         Unspecified    Unspecified  Unspecified  Unspecified  Unspecified   \n",
       "\n",
       "  School Not Found   Latitude  Longitude  \\\n",
       "0                N  40.865682 -73.923501   \n",
       "1                N  40.775945 -73.915094   \n",
       "2                N  40.870325 -73.888525   \n",
       "3                N  40.835994 -73.828379   \n",
       "4                N  40.733060 -73.874170   \n",
       "\n",
       "                                   Location  \n",
       "0   (40.86568153633767, -73.92350095571744)  \n",
       "1  (40.775945312321085, -73.91509393898605)  \n",
       "2  (40.870324522111424, -73.88852464418646)  \n",
       "3   (40.83599404683083, -73.82837939584206)  \n",
       "4  (40.733059618956815, -73.87416975810375)  "
      ]
     },
     "execution_count": 20,
     "metadata": {},
     "output_type": "execute_result"
    }
   ],
   "source": [
    "new_df_service_requests.head()"
   ]
  },
  {
   "cell_type": "code",
   "execution_count": 21,
   "metadata": {
    "scrolled": true
   },
   "outputs": [
    {
     "data": {
      "text/plain": [
       "array(['Noise - Street/Sidewalk', 'Blocked Driveway', 'Illegal Parking',\n",
       "       'Derelict Vehicle', 'Noise - Commercial',\n",
       "       'Noise - House of Worship', 'Posting Advertisement',\n",
       "       'Noise - Vehicle', 'Animal Abuse', 'Vending', 'Traffic',\n",
       "       'Drinking', 'Bike/Roller/Skate Chronic', 'Panhandling',\n",
       "       'Noise - Park', 'Homeless Encampment', 'Urinating in Public',\n",
       "       'Graffiti', 'Disorderly Youth', 'Illegal Fireworks',\n",
       "       'Ferry Complaint', 'Agency Issues', 'Squeegee', 'Animal in a Park'],\n",
       "      dtype=object)"
      ]
     },
     "execution_count": 21,
     "metadata": {},
     "output_type": "execute_result"
    }
   ],
   "source": [
    "new_df_service_requests[\"Complaint Type\"].unique()"
   ]
  },
  {
   "cell_type": "code",
   "execution_count": 22,
   "metadata": {},
   "outputs": [],
   "source": [
    "# new_df_service_requests[\"Closed Date\"]=new_df_service_requests[\"Closed Date\"].dropna()"
   ]
  },
  {
   "cell_type": "code",
   "execution_count": 23,
   "metadata": {},
   "outputs": [
    {
     "data": {
      "text/plain": [
       "(300698, 37)"
      ]
     },
     "execution_count": 23,
     "metadata": {},
     "output_type": "execute_result"
    }
   ],
   "source": [
    "new_df_service_requests.shape"
   ]
  },
  {
   "cell_type": "code",
   "execution_count": 24,
   "metadata": {},
   "outputs": [],
   "source": [
    "new_df_service_requests['Closed Date'].replace(' ', np.nan, inplace=True)# we can drop only those rows which contain empty cell of closed date"
   ]
  },
  {
   "cell_type": "code",
   "execution_count": 25,
   "metadata": {},
   "outputs": [],
   "source": [
    "new_df_service_requests.dropna(subset=['Closed Date'], inplace=True)"
   ]
  },
  {
   "cell_type": "code",
   "execution_count": 26,
   "metadata": {
    "scrolled": false
   },
   "outputs": [
    {
     "data": {
      "text/plain": [
       "(298534, 37)"
      ]
     },
     "execution_count": 26,
     "metadata": {},
     "output_type": "execute_result"
    }
   ],
   "source": [
    "new_df_service_requests.shape"
   ]
  },
  {
   "cell_type": "code",
   "execution_count": 27,
   "metadata": {},
   "outputs": [],
   "source": [
    "new_df_service_requests.reset_index(drop=True,inplace = True)"
   ]
  },
  {
   "cell_type": "code",
   "execution_count": 28,
   "metadata": {},
   "outputs": [
    {
     "data": {
      "text/plain": [
       "23"
      ]
     },
     "execution_count": 28,
     "metadata": {},
     "output_type": "execute_result"
    }
   ],
   "source": [
    "len([i for i in new_df_service_requests[\"Complaint Type\"].unique()])"
   ]
  },
  {
   "cell_type": "code",
   "execution_count": 29,
   "metadata": {
    "scrolled": true
   },
   "outputs": [
    {
     "data": {
      "text/plain": [
       "24"
      ]
     },
     "execution_count": 29,
     "metadata": {},
     "output_type": "execute_result"
    }
   ],
   "source": [
    "len(df_service_requests[\"Complaint Type\"].unique())"
   ]
  },
  {
   "cell_type": "code",
   "execution_count": 30,
   "metadata": {
    "scrolled": true
   },
   "outputs": [
    {
     "name": "stdout",
     "output_type": "stream",
     "text": [
      "Noise - Street/Sidewalk = Noise - Street/Sidewalk\n",
      "Blocked Driveway = Blocked Driveway\n",
      "Illegal Parking = Illegal Parking\n",
      "Derelict Vehicle = Derelict Vehicle\n",
      "Noise - Commercial = Noise - Commercial\n",
      "Noise - House of Worship = Noise - House of Worship\n",
      "Posting Advertisement = Posting Advertisement\n",
      "Noise - Vehicle = Noise - Vehicle\n",
      "Animal Abuse = Animal Abuse\n",
      "Vending = Vending\n",
      "Traffic = Traffic\n",
      "Drinking = Drinking\n",
      "Bike/Roller/Skate Chronic = Bike/Roller/Skate Chronic\n",
      "Panhandling = Panhandling\n",
      "Noise - Park = Noise - Park\n",
      "Homeless Encampment = Homeless Encampment\n",
      "Urinating in Public = Urinating in Public\n",
      "Graffiti = Graffiti\n",
      "Disorderly Youth = Disorderly Youth\n",
      "Illegal Fireworks = Illegal Fireworks\n",
      "Agency Issues = Ferry Complaint\n",
      "Squeegee = Agency Issues\n",
      "Animal in a Park = Squeegee\n"
     ]
    }
   ],
   "source": [
    "for i,e in zip(new_df_service_requests[\"Complaint Type\"].unique(),df_service_requests[\"Complaint Type\"].unique()):\n",
    "    print(i,\"=\",e)"
   ]
  },
  {
   "cell_type": "code",
   "execution_count": 31,
   "metadata": {},
   "outputs": [],
   "source": [
    "lst=[]\n",
    "for s1,s2 in zip(new_df_service_requests[\"Created Date\"],new_df_service_requests[\"Closed Date\"]):\n",
    "#     s1 = '2015-12-31 23:59:45'\n",
    "#     s2 = '2016-01-02 13:55:00' # for example\n",
    "    format = '%Y-%m-%d %H:%M:%S'\n",
    "    time = datetime.strptime(str(s2), format) - datetime.strptime(str(s1), format)\n",
    "    lst.append(time)\n",
    "#     new_df_service_requests[\"Request_closing_time\"]=lst\n",
    "#     \n",
    "\n",
    "#     print(time)\n"
   ]
  },
  {
   "cell_type": "code",
   "execution_count": 32,
   "metadata": {},
   "outputs": [
    {
     "data": {
      "text/plain": [
       "298534"
      ]
     },
     "execution_count": 32,
     "metadata": {},
     "output_type": "execute_result"
    }
   ],
   "source": [
    "len(lst)"
   ]
  },
  {
   "cell_type": "code",
   "execution_count": 33,
   "metadata": {},
   "outputs": [],
   "source": [
    "df = pd.DataFrame(lst,columns=['Request_closing_time']) "
   ]
  },
  {
   "cell_type": "code",
   "execution_count": 34,
   "metadata": {},
   "outputs": [
    {
     "data": {
      "text/html": [
       "<div>\n",
       "<style scoped>\n",
       "    .dataframe tbody tr th:only-of-type {\n",
       "        vertical-align: middle;\n",
       "    }\n",
       "\n",
       "    .dataframe tbody tr th {\n",
       "        vertical-align: top;\n",
       "    }\n",
       "\n",
       "    .dataframe thead th {\n",
       "        text-align: right;\n",
       "    }\n",
       "</style>\n",
       "<table border=\"1\" class=\"dataframe\">\n",
       "  <thead>\n",
       "    <tr style=\"text-align: right;\">\n",
       "      <th></th>\n",
       "      <th>Request_closing_time</th>\n",
       "    </tr>\n",
       "  </thead>\n",
       "  <tbody>\n",
       "    <tr>\n",
       "      <th>298529</th>\n",
       "      <td>00:38:29</td>\n",
       "    </tr>\n",
       "    <tr>\n",
       "      <th>298530</th>\n",
       "      <td>02:00:31</td>\n",
       "    </tr>\n",
       "    <tr>\n",
       "      <th>298531</th>\n",
       "      <td>03:07:17</td>\n",
       "    </tr>\n",
       "    <tr>\n",
       "      <th>298532</th>\n",
       "      <td>04:05:33</td>\n",
       "    </tr>\n",
       "    <tr>\n",
       "      <th>298533</th>\n",
       "      <td>04:08:49</td>\n",
       "    </tr>\n",
       "  </tbody>\n",
       "</table>\n",
       "</div>"
      ],
      "text/plain": [
       "       Request_closing_time\n",
       "298529             00:38:29\n",
       "298530             02:00:31\n",
       "298531             03:07:17\n",
       "298532             04:05:33\n",
       "298533             04:08:49"
      ]
     },
     "execution_count": 34,
     "metadata": {},
     "output_type": "execute_result"
    }
   ],
   "source": [
    "df.tail()"
   ]
  },
  {
   "cell_type": "code",
   "execution_count": 35,
   "metadata": {},
   "outputs": [
    {
     "data": {
      "text/plain": [
       "(298534, 1)"
      ]
     },
     "execution_count": 35,
     "metadata": {},
     "output_type": "execute_result"
    }
   ],
   "source": [
    "df.shape"
   ]
  },
  {
   "cell_type": "code",
   "execution_count": 36,
   "metadata": {},
   "outputs": [],
   "source": [
    "# mapping = dict(enumerate(lst))\n",
    "\n",
    "# new_df_service['Request_closing_time'] = new_df_service_requests['Closed Date'].map(mapping)"
   ]
  },
  {
   "cell_type": "code",
   "execution_count": 37,
   "metadata": {},
   "outputs": [],
   "source": [
    "new_df_service=pd.concat([new_df_service_requests, df], axis=1)"
   ]
  },
  {
   "cell_type": "code",
   "execution_count": 38,
   "metadata": {},
   "outputs": [
    {
     "data": {
      "text/plain": [
       "(298534, 38)"
      ]
     },
     "execution_count": 38,
     "metadata": {},
     "output_type": "execute_result"
    }
   ],
   "source": [
    "new_df_service.shape"
   ]
  },
  {
   "cell_type": "code",
   "execution_count": 39,
   "metadata": {
    "scrolled": true
   },
   "outputs": [
    {
     "data": {
      "text/html": [
       "<div>\n",
       "<style scoped>\n",
       "    .dataframe tbody tr th:only-of-type {\n",
       "        vertical-align: middle;\n",
       "    }\n",
       "\n",
       "    .dataframe tbody tr th {\n",
       "        vertical-align: top;\n",
       "    }\n",
       "\n",
       "    .dataframe thead th {\n",
       "        text-align: right;\n",
       "    }\n",
       "</style>\n",
       "<table border=\"1\" class=\"dataframe\">\n",
       "  <thead>\n",
       "    <tr style=\"text-align: right;\">\n",
       "      <th></th>\n",
       "      <th>Unique Key</th>\n",
       "      <th>Created Date</th>\n",
       "      <th>Closed Date</th>\n",
       "      <th>Agency</th>\n",
       "      <th>Agency Name</th>\n",
       "      <th>Complaint Type</th>\n",
       "      <th>Descriptor</th>\n",
       "      <th>Location Type</th>\n",
       "      <th>Incident Zip</th>\n",
       "      <th>Incident Address</th>\n",
       "      <th>Street Name</th>\n",
       "      <th>Address Type</th>\n",
       "      <th>City</th>\n",
       "      <th>Facility Type</th>\n",
       "      <th>Status</th>\n",
       "      <th>Due Date</th>\n",
       "      <th>Resolution Description</th>\n",
       "      <th>Resolution Action Updated Date</th>\n",
       "      <th>Community Board</th>\n",
       "      <th>Borough</th>\n",
       "      <th>X Coordinate (State Plane)</th>\n",
       "      <th>Y Coordinate (State Plane)</th>\n",
       "      <th>Park Facility Name</th>\n",
       "      <th>Park Borough</th>\n",
       "      <th>School Name</th>\n",
       "      <th>School Number</th>\n",
       "      <th>School Region</th>\n",
       "      <th>School Code</th>\n",
       "      <th>School Phone Number</th>\n",
       "      <th>School Address</th>\n",
       "      <th>School City</th>\n",
       "      <th>School State</th>\n",
       "      <th>School Zip</th>\n",
       "      <th>School Not Found</th>\n",
       "      <th>Latitude</th>\n",
       "      <th>Longitude</th>\n",
       "      <th>Location</th>\n",
       "      <th>Request_closing_time</th>\n",
       "    </tr>\n",
       "  </thead>\n",
       "  <tbody>\n",
       "    <tr>\n",
       "      <th>298529</th>\n",
       "      <td>30281370</td>\n",
       "      <td>2015-03-29 00:34:32</td>\n",
       "      <td>2015-03-29 01:13:01</td>\n",
       "      <td>NYPD</td>\n",
       "      <td>New York City Police Department</td>\n",
       "      <td>Noise - Commercial</td>\n",
       "      <td>Loud Music/Party</td>\n",
       "      <td>Store/Commercial</td>\n",
       "      <td>10002.0</td>\n",
       "      <td>81 HESTER STREET</td>\n",
       "      <td>HESTER STREET</td>\n",
       "      <td>ADDRESS</td>\n",
       "      <td>NEW YORK</td>\n",
       "      <td>Precinct</td>\n",
       "      <td>Closed</td>\n",
       "      <td>03/29/2015 08:34:32 AM</td>\n",
       "      <td>The Police Department responded to the complai...</td>\n",
       "      <td>03/29/2015 01:13:01 AM</td>\n",
       "      <td>03 MANHATTAN</td>\n",
       "      <td>MANHATTAN</td>\n",
       "      <td>986640.0</td>\n",
       "      <td>200154.0</td>\n",
       "      <td>Unspecified</td>\n",
       "      <td>MANHATTAN</td>\n",
       "      <td>Unspecified</td>\n",
       "      <td>Unspecified</td>\n",
       "      <td>Unspecified</td>\n",
       "      <td>Unspecified</td>\n",
       "      <td>Unspecified</td>\n",
       "      <td>Unspecified</td>\n",
       "      <td>Unspecified</td>\n",
       "      <td>Unspecified</td>\n",
       "      <td>Unspecified</td>\n",
       "      <td>N</td>\n",
       "      <td>40.716053</td>\n",
       "      <td>-73.991378</td>\n",
       "      <td>(40.71605290789855, -73.99137850370803)</td>\n",
       "      <td>00:38:29</td>\n",
       "    </tr>\n",
       "    <tr>\n",
       "      <th>298530</th>\n",
       "      <td>30281230</td>\n",
       "      <td>2015-03-29 00:33:28</td>\n",
       "      <td>2015-03-29 02:33:59</td>\n",
       "      <td>NYPD</td>\n",
       "      <td>New York City Police Department</td>\n",
       "      <td>Blocked Driveway</td>\n",
       "      <td>Partial Access</td>\n",
       "      <td>Street/Sidewalk</td>\n",
       "      <td>11418.0</td>\n",
       "      <td>100-17 87 AVENUE</td>\n",
       "      <td>87 AVENUE</td>\n",
       "      <td>ADDRESS</td>\n",
       "      <td>RICHMOND HILL</td>\n",
       "      <td>Precinct</td>\n",
       "      <td>Closed</td>\n",
       "      <td>03/29/2015 08:33:28 AM</td>\n",
       "      <td>The Police Department responded and upon arriv...</td>\n",
       "      <td>03/29/2015 02:33:59 AM</td>\n",
       "      <td>09 QUEENS</td>\n",
       "      <td>QUEENS</td>\n",
       "      <td>1026931.0</td>\n",
       "      <td>192185.0</td>\n",
       "      <td>Unspecified</td>\n",
       "      <td>QUEENS</td>\n",
       "      <td>Unspecified</td>\n",
       "      <td>Unspecified</td>\n",
       "      <td>Unspecified</td>\n",
       "      <td>Unspecified</td>\n",
       "      <td>Unspecified</td>\n",
       "      <td>Unspecified</td>\n",
       "      <td>Unspecified</td>\n",
       "      <td>Unspecified</td>\n",
       "      <td>Unspecified</td>\n",
       "      <td>N</td>\n",
       "      <td>40.694077</td>\n",
       "      <td>-73.846087</td>\n",
       "      <td>(40.69407728322387, -73.8460866160573)</td>\n",
       "      <td>02:00:31</td>\n",
       "    </tr>\n",
       "    <tr>\n",
       "      <th>298531</th>\n",
       "      <td>30283424</td>\n",
       "      <td>2015-03-29 00:33:03</td>\n",
       "      <td>2015-03-29 03:40:20</td>\n",
       "      <td>NYPD</td>\n",
       "      <td>New York City Police Department</td>\n",
       "      <td>Noise - Commercial</td>\n",
       "      <td>Loud Music/Party</td>\n",
       "      <td>Club/Bar/Restaurant</td>\n",
       "      <td>11206.0</td>\n",
       "      <td>162 THROOP AVENUE</td>\n",
       "      <td>THROOP AVENUE</td>\n",
       "      <td>ADDRESS</td>\n",
       "      <td>BROOKLYN</td>\n",
       "      <td>Precinct</td>\n",
       "      <td>Closed</td>\n",
       "      <td>03/29/2015 08:33:03 AM</td>\n",
       "      <td>The Police Department responded to the complai...</td>\n",
       "      <td>03/29/2015 03:40:20 AM</td>\n",
       "      <td>03 BROOKLYN</td>\n",
       "      <td>BROOKLYN</td>\n",
       "      <td>999713.0</td>\n",
       "      <td>194161.0</td>\n",
       "      <td>Unspecified</td>\n",
       "      <td>BROOKLYN</td>\n",
       "      <td>Unspecified</td>\n",
       "      <td>Unspecified</td>\n",
       "      <td>Unspecified</td>\n",
       "      <td>Unspecified</td>\n",
       "      <td>Unspecified</td>\n",
       "      <td>Unspecified</td>\n",
       "      <td>Unspecified</td>\n",
       "      <td>Unspecified</td>\n",
       "      <td>Unspecified</td>\n",
       "      <td>N</td>\n",
       "      <td>40.699590</td>\n",
       "      <td>-73.944234</td>\n",
       "      <td>(40.69959035300927, -73.94423377144169)</td>\n",
       "      <td>03:07:17</td>\n",
       "    </tr>\n",
       "    <tr>\n",
       "      <th>298532</th>\n",
       "      <td>30280004</td>\n",
       "      <td>2015-03-29 00:33:02</td>\n",
       "      <td>2015-03-29 04:38:35</td>\n",
       "      <td>NYPD</td>\n",
       "      <td>New York City Police Department</td>\n",
       "      <td>Noise - Commercial</td>\n",
       "      <td>Loud Music/Party</td>\n",
       "      <td>Club/Bar/Restaurant</td>\n",
       "      <td>10461.0</td>\n",
       "      <td>3151 EAST TREMONT AVENUE</td>\n",
       "      <td>EAST TREMONT AVENUE</td>\n",
       "      <td>ADDRESS</td>\n",
       "      <td>BRONX</td>\n",
       "      <td>Precinct</td>\n",
       "      <td>Closed</td>\n",
       "      <td>03/29/2015 08:33:02 AM</td>\n",
       "      <td>The Police Department responded to the complai...</td>\n",
       "      <td>03/29/2015 04:38:35 AM</td>\n",
       "      <td>10 BRONX</td>\n",
       "      <td>BRONX</td>\n",
       "      <td>1030021.0</td>\n",
       "      <td>244520.0</td>\n",
       "      <td>Unspecified</td>\n",
       "      <td>BRONX</td>\n",
       "      <td>Unspecified</td>\n",
       "      <td>Unspecified</td>\n",
       "      <td>Unspecified</td>\n",
       "      <td>Unspecified</td>\n",
       "      <td>Unspecified</td>\n",
       "      <td>Unspecified</td>\n",
       "      <td>Unspecified</td>\n",
       "      <td>Unspecified</td>\n",
       "      <td>Unspecified</td>\n",
       "      <td>N</td>\n",
       "      <td>40.837708</td>\n",
       "      <td>-73.834587</td>\n",
       "      <td>(40.8377075854206, -73.83458731019586)</td>\n",
       "      <td>04:05:33</td>\n",
       "    </tr>\n",
       "    <tr>\n",
       "      <th>298533</th>\n",
       "      <td>30281825</td>\n",
       "      <td>2015-03-29 00:33:01</td>\n",
       "      <td>2015-03-29 04:41:50</td>\n",
       "      <td>NYPD</td>\n",
       "      <td>New York City Police Department</td>\n",
       "      <td>Noise - Commercial</td>\n",
       "      <td>Loud Music/Party</td>\n",
       "      <td>Store/Commercial</td>\n",
       "      <td>10036.0</td>\n",
       "      <td>251 WEST 48 STREET</td>\n",
       "      <td>WEST 48 STREET</td>\n",
       "      <td>ADDRESS</td>\n",
       "      <td>NEW YORK</td>\n",
       "      <td>Precinct</td>\n",
       "      <td>Closed</td>\n",
       "      <td>03/29/2015 08:33:01 AM</td>\n",
       "      <td>The Police Department responded to the complai...</td>\n",
       "      <td>03/29/2015 04:41:50 AM</td>\n",
       "      <td>05 MANHATTAN</td>\n",
       "      <td>MANHATTAN</td>\n",
       "      <td>988150.0</td>\n",
       "      <td>216378.0</td>\n",
       "      <td>Unspecified</td>\n",
       "      <td>MANHATTAN</td>\n",
       "      <td>Unspecified</td>\n",
       "      <td>Unspecified</td>\n",
       "      <td>Unspecified</td>\n",
       "      <td>Unspecified</td>\n",
       "      <td>Unspecified</td>\n",
       "      <td>Unspecified</td>\n",
       "      <td>Unspecified</td>\n",
       "      <td>Unspecified</td>\n",
       "      <td>Unspecified</td>\n",
       "      <td>N</td>\n",
       "      <td>40.760583</td>\n",
       "      <td>-73.985922</td>\n",
       "      <td>(40.76058322950115, -73.98592204392392)</td>\n",
       "      <td>04:08:49</td>\n",
       "    </tr>\n",
       "  </tbody>\n",
       "</table>\n",
       "</div>"
      ],
      "text/plain": [
       "        Unique Key        Created Date         Closed Date Agency  \\\n",
       "298529    30281370 2015-03-29 00:34:32 2015-03-29 01:13:01   NYPD   \n",
       "298530    30281230 2015-03-29 00:33:28 2015-03-29 02:33:59   NYPD   \n",
       "298531    30283424 2015-03-29 00:33:03 2015-03-29 03:40:20   NYPD   \n",
       "298532    30280004 2015-03-29 00:33:02 2015-03-29 04:38:35   NYPD   \n",
       "298533    30281825 2015-03-29 00:33:01 2015-03-29 04:41:50   NYPD   \n",
       "\n",
       "                            Agency Name      Complaint Type        Descriptor  \\\n",
       "298529  New York City Police Department  Noise - Commercial  Loud Music/Party   \n",
       "298530  New York City Police Department    Blocked Driveway    Partial Access   \n",
       "298531  New York City Police Department  Noise - Commercial  Loud Music/Party   \n",
       "298532  New York City Police Department  Noise - Commercial  Loud Music/Party   \n",
       "298533  New York City Police Department  Noise - Commercial  Loud Music/Party   \n",
       "\n",
       "              Location Type  Incident Zip          Incident Address  \\\n",
       "298529     Store/Commercial       10002.0          81 HESTER STREET   \n",
       "298530      Street/Sidewalk       11418.0          100-17 87 AVENUE   \n",
       "298531  Club/Bar/Restaurant       11206.0         162 THROOP AVENUE   \n",
       "298532  Club/Bar/Restaurant       10461.0  3151 EAST TREMONT AVENUE   \n",
       "298533     Store/Commercial       10036.0        251 WEST 48 STREET   \n",
       "\n",
       "                Street Name Address Type           City Facility Type  Status  \\\n",
       "298529        HESTER STREET      ADDRESS       NEW YORK      Precinct  Closed   \n",
       "298530            87 AVENUE      ADDRESS  RICHMOND HILL      Precinct  Closed   \n",
       "298531        THROOP AVENUE      ADDRESS       BROOKLYN      Precinct  Closed   \n",
       "298532  EAST TREMONT AVENUE      ADDRESS          BRONX      Precinct  Closed   \n",
       "298533       WEST 48 STREET      ADDRESS       NEW YORK      Precinct  Closed   \n",
       "\n",
       "                      Due Date  \\\n",
       "298529  03/29/2015 08:34:32 AM   \n",
       "298530  03/29/2015 08:33:28 AM   \n",
       "298531  03/29/2015 08:33:03 AM   \n",
       "298532  03/29/2015 08:33:02 AM   \n",
       "298533  03/29/2015 08:33:01 AM   \n",
       "\n",
       "                                   Resolution Description  \\\n",
       "298529  The Police Department responded to the complai...   \n",
       "298530  The Police Department responded and upon arriv...   \n",
       "298531  The Police Department responded to the complai...   \n",
       "298532  The Police Department responded to the complai...   \n",
       "298533  The Police Department responded to the complai...   \n",
       "\n",
       "       Resolution Action Updated Date Community Board    Borough  \\\n",
       "298529         03/29/2015 01:13:01 AM    03 MANHATTAN  MANHATTAN   \n",
       "298530         03/29/2015 02:33:59 AM       09 QUEENS     QUEENS   \n",
       "298531         03/29/2015 03:40:20 AM     03 BROOKLYN   BROOKLYN   \n",
       "298532         03/29/2015 04:38:35 AM        10 BRONX      BRONX   \n",
       "298533         03/29/2015 04:41:50 AM    05 MANHATTAN  MANHATTAN   \n",
       "\n",
       "        X Coordinate (State Plane)  Y Coordinate (State Plane)  \\\n",
       "298529                    986640.0                    200154.0   \n",
       "298530                   1026931.0                    192185.0   \n",
       "298531                    999713.0                    194161.0   \n",
       "298532                   1030021.0                    244520.0   \n",
       "298533                    988150.0                    216378.0   \n",
       "\n",
       "       Park Facility Name Park Borough  School Name School Number  \\\n",
       "298529        Unspecified    MANHATTAN  Unspecified   Unspecified   \n",
       "298530        Unspecified       QUEENS  Unspecified   Unspecified   \n",
       "298531        Unspecified     BROOKLYN  Unspecified   Unspecified   \n",
       "298532        Unspecified        BRONX  Unspecified   Unspecified   \n",
       "298533        Unspecified    MANHATTAN  Unspecified   Unspecified   \n",
       "\n",
       "       School Region  School Code School Phone Number School Address  \\\n",
       "298529   Unspecified  Unspecified         Unspecified    Unspecified   \n",
       "298530   Unspecified  Unspecified         Unspecified    Unspecified   \n",
       "298531   Unspecified  Unspecified         Unspecified    Unspecified   \n",
       "298532   Unspecified  Unspecified         Unspecified    Unspecified   \n",
       "298533   Unspecified  Unspecified         Unspecified    Unspecified   \n",
       "\n",
       "        School City School State   School Zip School Not Found   Latitude  \\\n",
       "298529  Unspecified  Unspecified  Unspecified                N  40.716053   \n",
       "298530  Unspecified  Unspecified  Unspecified                N  40.694077   \n",
       "298531  Unspecified  Unspecified  Unspecified                N  40.699590   \n",
       "298532  Unspecified  Unspecified  Unspecified                N  40.837708   \n",
       "298533  Unspecified  Unspecified  Unspecified                N  40.760583   \n",
       "\n",
       "        Longitude                                 Location  \\\n",
       "298529 -73.991378  (40.71605290789855, -73.99137850370803)   \n",
       "298530 -73.846087   (40.69407728322387, -73.8460866160573)   \n",
       "298531 -73.944234  (40.69959035300927, -73.94423377144169)   \n",
       "298532 -73.834587   (40.8377075854206, -73.83458731019586)   \n",
       "298533 -73.985922  (40.76058322950115, -73.98592204392392)   \n",
       "\n",
       "       Request_closing_time  \n",
       "298529             00:38:29  \n",
       "298530             02:00:31  \n",
       "298531             03:07:17  \n",
       "298532             04:05:33  \n",
       "298533             04:08:49  "
      ]
     },
     "execution_count": 39,
     "metadata": {},
     "output_type": "execute_result"
    }
   ],
   "source": [
    "new_df_service.tail()"
   ]
  },
  {
   "cell_type": "code",
   "execution_count": 40,
   "metadata": {},
   "outputs": [
    {
     "data": {
      "text/html": [
       "<div>\n",
       "<style scoped>\n",
       "    .dataframe tbody tr th:only-of-type {\n",
       "        vertical-align: middle;\n",
       "    }\n",
       "\n",
       "    .dataframe tbody tr th {\n",
       "        vertical-align: top;\n",
       "    }\n",
       "\n",
       "    .dataframe thead th {\n",
       "        text-align: right;\n",
       "    }\n",
       "</style>\n",
       "<table border=\"1\" class=\"dataframe\">\n",
       "  <thead>\n",
       "    <tr style=\"text-align: right;\">\n",
       "      <th></th>\n",
       "      <th>Unique Key</th>\n",
       "      <th>Incident Zip</th>\n",
       "      <th>X Coordinate (State Plane)</th>\n",
       "      <th>Y Coordinate (State Plane)</th>\n",
       "      <th>Latitude</th>\n",
       "      <th>Longitude</th>\n",
       "      <th>Request_closing_time</th>\n",
       "    </tr>\n",
       "  </thead>\n",
       "  <tbody>\n",
       "    <tr>\n",
       "      <th>count</th>\n",
       "      <td>2.985340e+05</td>\n",
       "      <td>298027.000000</td>\n",
       "      <td>2.971020e+05</td>\n",
       "      <td>297102.000000</td>\n",
       "      <td>297102.000000</td>\n",
       "      <td>297102.000000</td>\n",
       "      <td>298534</td>\n",
       "    </tr>\n",
       "    <tr>\n",
       "      <th>mean</th>\n",
       "      <td>3.130087e+07</td>\n",
       "      <td>10848.929886</td>\n",
       "      <td>1.004855e+06</td>\n",
       "      <td>203753.772782</td>\n",
       "      <td>40.725883</td>\n",
       "      <td>-73.925625</td>\n",
       "      <td>0 days 04:18:51.832782</td>\n",
       "    </tr>\n",
       "    <tr>\n",
       "      <th>std</th>\n",
       "      <td>5.740837e+05</td>\n",
       "      <td>583.173185</td>\n",
       "      <td>2.175284e+04</td>\n",
       "      <td>29880.600637</td>\n",
       "      <td>0.082014</td>\n",
       "      <td>0.078452</td>\n",
       "      <td>0 days 06:05:22.141833</td>\n",
       "    </tr>\n",
       "    <tr>\n",
       "      <th>min</th>\n",
       "      <td>3.027948e+07</td>\n",
       "      <td>83.000000</td>\n",
       "      <td>9.133570e+05</td>\n",
       "      <td>121219.000000</td>\n",
       "      <td>40.499135</td>\n",
       "      <td>-74.254937</td>\n",
       "      <td>0 days 00:01:00</td>\n",
       "    </tr>\n",
       "    <tr>\n",
       "      <th>25%</th>\n",
       "      <td>3.080121e+07</td>\n",
       "      <td>10310.000000</td>\n",
       "      <td>9.919760e+05</td>\n",
       "      <td>183337.500000</td>\n",
       "      <td>40.669789</td>\n",
       "      <td>-73.972142</td>\n",
       "      <td>0 days 01:16:33</td>\n",
       "    </tr>\n",
       "    <tr>\n",
       "      <th>50%</th>\n",
       "      <td>3.130562e+07</td>\n",
       "      <td>11208.000000</td>\n",
       "      <td>1.003160e+06</td>\n",
       "      <td>201110.000000</td>\n",
       "      <td>40.718655</td>\n",
       "      <td>-73.931780</td>\n",
       "      <td>0 days 02:42:55.500000</td>\n",
       "    </tr>\n",
       "    <tr>\n",
       "      <th>75%</th>\n",
       "      <td>3.178561e+07</td>\n",
       "      <td>11238.000000</td>\n",
       "      <td>1.018372e+06</td>\n",
       "      <td>224123.000000</td>\n",
       "      <td>40.781816</td>\n",
       "      <td>-73.876805</td>\n",
       "      <td>0 days 05:21:00</td>\n",
       "    </tr>\n",
       "    <tr>\n",
       "      <th>max</th>\n",
       "      <td>3.231065e+07</td>\n",
       "      <td>11697.000000</td>\n",
       "      <td>1.067173e+06</td>\n",
       "      <td>271876.000000</td>\n",
       "      <td>40.912869</td>\n",
       "      <td>-73.700760</td>\n",
       "      <td>24 days 16:52:22</td>\n",
       "    </tr>\n",
       "  </tbody>\n",
       "</table>\n",
       "</div>"
      ],
      "text/plain": [
       "         Unique Key   Incident Zip  X Coordinate (State Plane)  \\\n",
       "count  2.985340e+05  298027.000000                2.971020e+05   \n",
       "mean   3.130087e+07   10848.929886                1.004855e+06   \n",
       "std    5.740837e+05     583.173185                2.175284e+04   \n",
       "min    3.027948e+07      83.000000                9.133570e+05   \n",
       "25%    3.080121e+07   10310.000000                9.919760e+05   \n",
       "50%    3.130562e+07   11208.000000                1.003160e+06   \n",
       "75%    3.178561e+07   11238.000000                1.018372e+06   \n",
       "max    3.231065e+07   11697.000000                1.067173e+06   \n",
       "\n",
       "       Y Coordinate (State Plane)       Latitude      Longitude  \\\n",
       "count               297102.000000  297102.000000  297102.000000   \n",
       "mean                203753.772782      40.725883     -73.925625   \n",
       "std                  29880.600637       0.082014       0.078452   \n",
       "min                 121219.000000      40.499135     -74.254937   \n",
       "25%                 183337.500000      40.669789     -73.972142   \n",
       "50%                 201110.000000      40.718655     -73.931780   \n",
       "75%                 224123.000000      40.781816     -73.876805   \n",
       "max                 271876.000000      40.912869     -73.700760   \n",
       "\n",
       "         Request_closing_time  \n",
       "count                  298534  \n",
       "mean   0 days 04:18:51.832782  \n",
       "std    0 days 06:05:22.141833  \n",
       "min           0 days 00:01:00  \n",
       "25%           0 days 01:16:33  \n",
       "50%    0 days 02:42:55.500000  \n",
       "75%           0 days 05:21:00  \n",
       "max          24 days 16:52:22  "
      ]
     },
     "execution_count": 40,
     "metadata": {},
     "output_type": "execute_result"
    }
   ],
   "source": [
    "new_df_service.describe()"
   ]
  },
  {
   "cell_type": "code",
   "execution_count": 41,
   "metadata": {},
   "outputs": [
    {
     "data": {
      "text/plain": [
       "Index(['Unique Key', 'Created Date', 'Closed Date', 'Agency', 'Agency Name',\n",
       "       'Complaint Type', 'Descriptor', 'Location Type', 'Incident Zip',\n",
       "       'Incident Address', 'Street Name', 'Address Type', 'City',\n",
       "       'Facility Type', 'Status', 'Due Date', 'Resolution Description',\n",
       "       'Resolution Action Updated Date', 'Community Board', 'Borough',\n",
       "       'X Coordinate (State Plane)', 'Y Coordinate (State Plane)',\n",
       "       'Park Facility Name', 'Park Borough', 'School Name', 'School Number',\n",
       "       'School Region', 'School Code', 'School Phone Number', 'School Address',\n",
       "       'School City', 'School State', 'School Zip', 'School Not Found',\n",
       "       'Latitude', 'Longitude', 'Location', 'Request_closing_time'],\n",
       "      dtype='object')"
      ]
     },
     "execution_count": 41,
     "metadata": {},
     "output_type": "execute_result"
    }
   ],
   "source": [
    "new_df_service.columns.unique()"
   ]
  },
  {
   "cell_type": "code",
   "execution_count": 42,
   "metadata": {},
   "outputs": [
    {
     "data": {
      "text/html": [
       "<div>\n",
       "<style scoped>\n",
       "    .dataframe tbody tr th:only-of-type {\n",
       "        vertical-align: middle;\n",
       "    }\n",
       "\n",
       "    .dataframe tbody tr th {\n",
       "        vertical-align: top;\n",
       "    }\n",
       "\n",
       "    .dataframe thead th {\n",
       "        text-align: right;\n",
       "    }\n",
       "</style>\n",
       "<table border=\"1\" class=\"dataframe\">\n",
       "  <thead>\n",
       "    <tr style=\"text-align: right;\">\n",
       "      <th></th>\n",
       "      <th>Complaint Type</th>\n",
       "      <th>Descriptor</th>\n",
       "      <th>Location Type</th>\n",
       "      <th>City</th>\n",
       "      <th>Borough</th>\n",
       "      <th>Status</th>\n",
       "      <th>Request_closing_time</th>\n",
       "    </tr>\n",
       "  </thead>\n",
       "  <tbody>\n",
       "    <tr>\n",
       "      <th>1</th>\n",
       "      <td>Blocked Driveway</td>\n",
       "      <td>No Access</td>\n",
       "      <td>Street/Sidewalk</td>\n",
       "      <td>ASTORIA</td>\n",
       "      <td>QUEENS</td>\n",
       "      <td>Closed</td>\n",
       "      <td>01:26:16</td>\n",
       "    </tr>\n",
       "    <tr>\n",
       "      <th>2</th>\n",
       "      <td>Blocked Driveway</td>\n",
       "      <td>No Access</td>\n",
       "      <td>Street/Sidewalk</td>\n",
       "      <td>BRONX</td>\n",
       "      <td>BRONX</td>\n",
       "      <td>Closed</td>\n",
       "      <td>04:51:31</td>\n",
       "    </tr>\n",
       "    <tr>\n",
       "      <th>3</th>\n",
       "      <td>Illegal Parking</td>\n",
       "      <td>Commercial Overnight Parking</td>\n",
       "      <td>Street/Sidewalk</td>\n",
       "      <td>BRONX</td>\n",
       "      <td>BRONX</td>\n",
       "      <td>Closed</td>\n",
       "      <td>07:45:14</td>\n",
       "    </tr>\n",
       "    <tr>\n",
       "      <th>4</th>\n",
       "      <td>Illegal Parking</td>\n",
       "      <td>Blocked Sidewalk</td>\n",
       "      <td>Street/Sidewalk</td>\n",
       "      <td>ELMHURST</td>\n",
       "      <td>QUEENS</td>\n",
       "      <td>Closed</td>\n",
       "      <td>03:27:02</td>\n",
       "    </tr>\n",
       "    <tr>\n",
       "      <th>5</th>\n",
       "      <td>Illegal Parking</td>\n",
       "      <td>Posted Parking Sign Violation</td>\n",
       "      <td>Street/Sidewalk</td>\n",
       "      <td>BROOKLYN</td>\n",
       "      <td>BROOKLYN</td>\n",
       "      <td>Closed</td>\n",
       "      <td>01:53:30</td>\n",
       "    </tr>\n",
       "    <tr>\n",
       "      <th>6</th>\n",
       "      <td>Illegal Parking</td>\n",
       "      <td>Blocked Hydrant</td>\n",
       "      <td>Street/Sidewalk</td>\n",
       "      <td>NEW YORK</td>\n",
       "      <td>MANHATTAN</td>\n",
       "      <td>Closed</td>\n",
       "      <td>01:57:28</td>\n",
       "    </tr>\n",
       "    <tr>\n",
       "      <th>7</th>\n",
       "      <td>Blocked Driveway</td>\n",
       "      <td>No Access</td>\n",
       "      <td>Street/Sidewalk</td>\n",
       "      <td>BRONX</td>\n",
       "      <td>BRONX</td>\n",
       "      <td>Closed</td>\n",
       "      <td>01:47:55</td>\n",
       "    </tr>\n",
       "    <tr>\n",
       "      <th>8</th>\n",
       "      <td>Illegal Parking</td>\n",
       "      <td>Posted Parking Sign Violation</td>\n",
       "      <td>Street/Sidewalk</td>\n",
       "      <td>KEW GARDENS</td>\n",
       "      <td>QUEENS</td>\n",
       "      <td>Closed</td>\n",
       "      <td>08:33:02</td>\n",
       "    </tr>\n",
       "    <tr>\n",
       "      <th>9</th>\n",
       "      <td>Blocked Driveway</td>\n",
       "      <td>No Access</td>\n",
       "      <td>Street/Sidewalk</td>\n",
       "      <td>BROOKLYN</td>\n",
       "      <td>BROOKLYN</td>\n",
       "      <td>Closed</td>\n",
       "      <td>01:23:02</td>\n",
       "    </tr>\n",
       "    <tr>\n",
       "      <th>10</th>\n",
       "      <td>Blocked Driveway</td>\n",
       "      <td>No Access</td>\n",
       "      <td>Street/Sidewalk</td>\n",
       "      <td>JACKSON HEIGHTS</td>\n",
       "      <td>QUEENS</td>\n",
       "      <td>Closed</td>\n",
       "      <td>07:48:02</td>\n",
       "    </tr>\n",
       "    <tr>\n",
       "      <th>11</th>\n",
       "      <td>Blocked Driveway</td>\n",
       "      <td>No Access</td>\n",
       "      <td>Street/Sidewalk</td>\n",
       "      <td>BRONX</td>\n",
       "      <td>BRONX</td>\n",
       "      <td>Closed</td>\n",
       "      <td>11:07:03</td>\n",
       "    </tr>\n",
       "    <tr>\n",
       "      <th>12</th>\n",
       "      <td>Noise - Street/Sidewalk</td>\n",
       "      <td>Loud Music/Party</td>\n",
       "      <td>Street/Sidewalk</td>\n",
       "      <td>BRONX</td>\n",
       "      <td>BRONX</td>\n",
       "      <td>Closed</td>\n",
       "      <td>02:28:57</td>\n",
       "    </tr>\n",
       "    <tr>\n",
       "      <th>13</th>\n",
       "      <td>Illegal Parking</td>\n",
       "      <td>Posted Parking Sign Violation</td>\n",
       "      <td>Street/Sidewalk</td>\n",
       "      <td>BROOKLYN</td>\n",
       "      <td>BROOKLYN</td>\n",
       "      <td>Closed</td>\n",
       "      <td>08:30:02</td>\n",
       "    </tr>\n",
       "    <tr>\n",
       "      <th>14</th>\n",
       "      <td>Derelict Vehicle</td>\n",
       "      <td>With License Plate</td>\n",
       "      <td>Street/Sidewalk</td>\n",
       "      <td>MIDDLE VILLAGE</td>\n",
       "      <td>QUEENS</td>\n",
       "      <td>Closed</td>\n",
       "      <td>10:29:23</td>\n",
       "    </tr>\n",
       "    <tr>\n",
       "      <th>15</th>\n",
       "      <td>Blocked Driveway</td>\n",
       "      <td>Partial Access</td>\n",
       "      <td>Street/Sidewalk</td>\n",
       "      <td>REGO PARK</td>\n",
       "      <td>QUEENS</td>\n",
       "      <td>Closed</td>\n",
       "      <td>15:32:30</td>\n",
       "    </tr>\n",
       "    <tr>\n",
       "      <th>16</th>\n",
       "      <td>Blocked Driveway</td>\n",
       "      <td>No Access</td>\n",
       "      <td>Street/Sidewalk</td>\n",
       "      <td>SAINT ALBANS</td>\n",
       "      <td>QUEENS</td>\n",
       "      <td>Closed</td>\n",
       "      <td>04:51:58</td>\n",
       "    </tr>\n",
       "    <tr>\n",
       "      <th>17</th>\n",
       "      <td>Noise - Commercial</td>\n",
       "      <td>Loud Music/Party</td>\n",
       "      <td>Club/Bar/Restaurant</td>\n",
       "      <td>BROOKLYN</td>\n",
       "      <td>BROOKLYN</td>\n",
       "      <td>Closed</td>\n",
       "      <td>00:51:08</td>\n",
       "    </tr>\n",
       "    <tr>\n",
       "      <th>18</th>\n",
       "      <td>Noise - Commercial</td>\n",
       "      <td>Loud Music/Party</td>\n",
       "      <td>Club/Bar/Restaurant</td>\n",
       "      <td>BROOKLYN</td>\n",
       "      <td>BROOKLYN</td>\n",
       "      <td>Closed</td>\n",
       "      <td>02:56:01</td>\n",
       "    </tr>\n",
       "    <tr>\n",
       "      <th>19</th>\n",
       "      <td>Noise - Street/Sidewalk</td>\n",
       "      <td>Loud Music/Party</td>\n",
       "      <td>Street/Sidewalk</td>\n",
       "      <td>NEW YORK</td>\n",
       "      <td>MANHATTAN</td>\n",
       "      <td>Closed</td>\n",
       "      <td>00:47:05</td>\n",
       "    </tr>\n",
       "    <tr>\n",
       "      <th>20</th>\n",
       "      <td>Illegal Parking</td>\n",
       "      <td>Unauthorized Bus Layover</td>\n",
       "      <td>Street/Sidewalk</td>\n",
       "      <td>BRONX</td>\n",
       "      <td>BRONX</td>\n",
       "      <td>Closed</td>\n",
       "      <td>04:31:17</td>\n",
       "    </tr>\n",
       "  </tbody>\n",
       "</table>\n",
       "</div>"
      ],
      "text/plain": [
       "             Complaint Type                     Descriptor  \\\n",
       "1          Blocked Driveway                      No Access   \n",
       "2          Blocked Driveway                      No Access   \n",
       "3           Illegal Parking   Commercial Overnight Parking   \n",
       "4           Illegal Parking               Blocked Sidewalk   \n",
       "5           Illegal Parking  Posted Parking Sign Violation   \n",
       "6           Illegal Parking                Blocked Hydrant   \n",
       "7          Blocked Driveway                      No Access   \n",
       "8           Illegal Parking  Posted Parking Sign Violation   \n",
       "9          Blocked Driveway                      No Access   \n",
       "10         Blocked Driveway                      No Access   \n",
       "11         Blocked Driveway                      No Access   \n",
       "12  Noise - Street/Sidewalk               Loud Music/Party   \n",
       "13          Illegal Parking  Posted Parking Sign Violation   \n",
       "14         Derelict Vehicle             With License Plate   \n",
       "15         Blocked Driveway                 Partial Access   \n",
       "16         Blocked Driveway                      No Access   \n",
       "17       Noise - Commercial               Loud Music/Party   \n",
       "18       Noise - Commercial               Loud Music/Party   \n",
       "19  Noise - Street/Sidewalk               Loud Music/Party   \n",
       "20          Illegal Parking       Unauthorized Bus Layover   \n",
       "\n",
       "          Location Type             City    Borough  Status  \\\n",
       "1       Street/Sidewalk          ASTORIA     QUEENS  Closed   \n",
       "2       Street/Sidewalk            BRONX      BRONX  Closed   \n",
       "3       Street/Sidewalk            BRONX      BRONX  Closed   \n",
       "4       Street/Sidewalk         ELMHURST     QUEENS  Closed   \n",
       "5       Street/Sidewalk         BROOKLYN   BROOKLYN  Closed   \n",
       "6       Street/Sidewalk         NEW YORK  MANHATTAN  Closed   \n",
       "7       Street/Sidewalk            BRONX      BRONX  Closed   \n",
       "8       Street/Sidewalk      KEW GARDENS     QUEENS  Closed   \n",
       "9       Street/Sidewalk         BROOKLYN   BROOKLYN  Closed   \n",
       "10      Street/Sidewalk  JACKSON HEIGHTS     QUEENS  Closed   \n",
       "11      Street/Sidewalk            BRONX      BRONX  Closed   \n",
       "12      Street/Sidewalk            BRONX      BRONX  Closed   \n",
       "13      Street/Sidewalk         BROOKLYN   BROOKLYN  Closed   \n",
       "14      Street/Sidewalk   MIDDLE VILLAGE     QUEENS  Closed   \n",
       "15      Street/Sidewalk        REGO PARK     QUEENS  Closed   \n",
       "16      Street/Sidewalk     SAINT ALBANS     QUEENS  Closed   \n",
       "17  Club/Bar/Restaurant         BROOKLYN   BROOKLYN  Closed   \n",
       "18  Club/Bar/Restaurant         BROOKLYN   BROOKLYN  Closed   \n",
       "19      Street/Sidewalk         NEW YORK  MANHATTAN  Closed   \n",
       "20      Street/Sidewalk            BRONX      BRONX  Closed   \n",
       "\n",
       "   Request_closing_time  \n",
       "1              01:26:16  \n",
       "2              04:51:31  \n",
       "3              07:45:14  \n",
       "4              03:27:02  \n",
       "5              01:53:30  \n",
       "6              01:57:28  \n",
       "7              01:47:55  \n",
       "8              08:33:02  \n",
       "9              01:23:02  \n",
       "10             07:48:02  \n",
       "11             11:07:03  \n",
       "12             02:28:57  \n",
       "13             08:30:02  \n",
       "14             10:29:23  \n",
       "15             15:32:30  \n",
       "16             04:51:58  \n",
       "17             00:51:08  \n",
       "18             02:56:01  \n",
       "19             00:47:05  \n",
       "20             04:31:17  "
      ]
     },
     "execution_count": 42,
     "metadata": {},
     "output_type": "execute_result"
    }
   ],
   "source": [
    "new_df_service.loc[1:20, ['Complaint Type', 'Descriptor','Location Type','City','Borough','Status','Request_closing_time']]"
   ]
  },
  {
   "cell_type": "code",
   "execution_count": 43,
   "metadata": {},
   "outputs": [
    {
     "name": "stdout",
     "output_type": "stream",
     "text": [
      "Noise - Street/Sidewalk\n",
      "Blocked Driveway\n",
      "Illegal Parking\n",
      "Derelict Vehicle\n",
      "Noise - Commercial\n",
      "Noise - House of Worship\n",
      "Posting Advertisement\n",
      "Noise - Vehicle\n",
      "Animal Abuse\n",
      "Vending\n",
      "Traffic\n",
      "Drinking\n",
      "Bike/Roller/Skate Chronic\n",
      "Panhandling\n",
      "Noise - Park\n",
      "Homeless Encampment\n",
      "Urinating in Public\n",
      "Graffiti\n",
      "Disorderly Youth\n",
      "Illegal Fireworks\n",
      "Agency Issues\n",
      "Squeegee\n",
      "Animal in a Park\n"
     ]
    }
   ],
   "source": [
    "for i in new_df_service['Complaint Type'].unique():\n",
    "    print(i)"
   ]
  },
  {
   "cell_type": "code",
   "execution_count": 44,
   "metadata": {},
   "outputs": [
    {
     "name": "stdout",
     "output_type": "stream",
     "text": [
      "Start from :  2015-03-29 00:33:01\n",
      "Till :  2015-12-31 23:59:45\n"
     ]
    }
   ],
   "source": [
    "print('Start from : ',min(new_df_service['Created Date']))\n",
    "print('Till : ',max(new_df_service['Created Date']))"
   ]
  },
  {
   "cell_type": "code",
   "execution_count": 45,
   "metadata": {},
   "outputs": [
    {
     "data": {
      "image/png": "[encoded data removed]",
      "text/plain": [
       "<Figure size 576x576 with 1 Axes>"
      ]
     },
     "metadata": {
      "needs_background": "light"
     },
     "output_type": "display_data"
    }
   ],
   "source": [
    "my_color=['r', 'g', 'b', 'k', 'y', 'm', 'c']\n",
    "# b: blue\n",
    "# g: green\n",
    "# r: red\n",
    "# c: cyan\n",
    "# m: magenta\n",
    "# y: yellow\n",
    "# k: black\n",
    "# w: white\n",
    "new_df_service['Complaint Type'].value_counts().plot(kind=\"barh\",color=my_color,alpha=0.6,figsize=(8,8))\n",
    "plt.show()"
   ]
  },
  {
   "cell_type": "code",
   "execution_count": 46,
   "metadata": {
    "scrolled": true
   },
   "outputs": [
    {
     "data": {
      "text/plain": [
       "Loud Music/Party                  60829\n",
       "No Access                         56822\n",
       "Posted Parking Sign Violation     22274\n",
       "Loud Talking                      21377\n",
       "Partial Access                    19988\n",
       "With License Plate                17588\n",
       "Blocked Hydrant                   15898\n",
       "Commercial Overnight Parking      11962\n",
       "Car/Truck Music                   11227\n",
       "Blocked Sidewalk                  10997\n",
       "Double Parked Blocking Traffic     5636\n",
       "Double Parked Blocking Vehicle     4208\n",
       "Engine Idling                      4178\n",
       "Banging/Pounding                   4110\n",
       "Neglected                          3782\n",
       "Car/Truck Horn                     3493\n",
       "Name: Descriptor, dtype: int64"
      ]
     },
     "execution_count": 46,
     "metadata": {},
     "output_type": "execute_result"
    }
   ],
   "source": [
    "new_df_service['Descriptor'].value_counts()[:16]"
   ]
  },
  {
   "cell_type": "code",
   "execution_count": 47,
   "metadata": {},
   "outputs": [
    {
     "data": {
      "image/png": "[encoded data removed]",
      "text/plain": [
       "<Figure size 432x432 with 1 Axes>"
      ]
     },
     "metadata": {
      "needs_background": "light"
     },
     "output_type": "display_data"
    }
   ],
   "source": [
    "my_color=['r', 'g', 'b', 'k', 'y', 'm', 'c']\n",
    "# b: blue\n",
    "# g: green\n",
    "# r: red\n",
    "# c: cyan\n",
    "# m: magenta\n",
    "# y: yellow\n",
    "# k: black\n",
    "# w: white\n",
    "new_df_service['Descriptor'].value_counts()[:16].plot(kind=\"barh\",color=my_color,alpha=0.6,figsize=(6,6))\n",
    "plt.show()"
   ]
  },
  {
   "cell_type": "code",
   "execution_count": 48,
   "metadata": {},
   "outputs": [
    {
     "data": {
      "text/plain": [
       "Loud Music/Party                  60829\n",
       "No Access                         56822\n",
       "Posted Parking Sign Violation     22274\n",
       "Loud Talking                      21377\n",
       "Partial Access                    19988\n",
       "With License Plate                17588\n",
       "Blocked Hydrant                   15898\n",
       "Commercial Overnight Parking      11962\n",
       "Car/Truck Music                   11227\n",
       "Blocked Sidewalk                  10997\n",
       "Double Parked Blocking Traffic     5636\n",
       "Double Parked Blocking Vehicle     4208\n",
       "Engine Idling                      4178\n",
       "Banging/Pounding                   4110\n",
       "Neglected                          3782\n",
       "Car/Truck Horn                     3493\n",
       "Name: Descriptor, dtype: int64"
      ]
     },
     "execution_count": 48,
     "metadata": {},
     "output_type": "execute_result"
    }
   ],
   "source": [
    "new_df_service['Descriptor'].value_counts()[:16]"
   ]
  },
  {
   "cell_type": "code",
   "execution_count": 49,
   "metadata": {},
   "outputs": [],
   "source": [
    "top_complaints = ['Blocked Driveway','Illegal Parking','Noise - Commercial','Noise - Street/Sidewalk','Derelict Vehicle','Animal Abuse']\n"
   ]
  },
  {
   "cell_type": "code",
   "execution_count": 50,
   "metadata": {},
   "outputs": [],
   "source": [
    "comp_boro=new_df_service.groupby(['Borough','Complaint Type']).size().unstack()"
   ]
  },
  {
   "cell_type": "code",
   "execution_count": 51,
   "metadata": {},
   "outputs": [
    {
     "data": {
      "text/html": [
       "<div>\n",
       "<style scoped>\n",
       "    .dataframe tbody tr th:only-of-type {\n",
       "        vertical-align: middle;\n",
       "    }\n",
       "\n",
       "    .dataframe tbody tr th {\n",
       "        vertical-align: top;\n",
       "    }\n",
       "\n",
       "    .dataframe thead th {\n",
       "        text-align: right;\n",
       "    }\n",
       "</style>\n",
       "<table border=\"1\" class=\"dataframe\">\n",
       "  <thead>\n",
       "    <tr style=\"text-align: right;\">\n",
       "      <th>Complaint Type</th>\n",
       "      <th>Agency Issues</th>\n",
       "      <th>Animal Abuse</th>\n",
       "      <th>Animal in a Park</th>\n",
       "      <th>Bike/Roller/Skate Chronic</th>\n",
       "      <th>Blocked Driveway</th>\n",
       "      <th>Derelict Vehicle</th>\n",
       "      <th>Disorderly Youth</th>\n",
       "      <th>Drinking</th>\n",
       "      <th>Graffiti</th>\n",
       "      <th>Homeless Encampment</th>\n",
       "      <th>Illegal Fireworks</th>\n",
       "      <th>Illegal Parking</th>\n",
       "      <th>Noise - Commercial</th>\n",
       "      <th>Noise - House of Worship</th>\n",
       "      <th>Noise - Park</th>\n",
       "      <th>Noise - Street/Sidewalk</th>\n",
       "      <th>Noise - Vehicle</th>\n",
       "      <th>Panhandling</th>\n",
       "      <th>Posting Advertisement</th>\n",
       "      <th>Squeegee</th>\n",
       "      <th>Traffic</th>\n",
       "      <th>Urinating in Public</th>\n",
       "      <th>Vending</th>\n",
       "    </tr>\n",
       "    <tr>\n",
       "      <th>Borough</th>\n",
       "      <th></th>\n",
       "      <th></th>\n",
       "      <th></th>\n",
       "      <th></th>\n",
       "      <th></th>\n",
       "      <th></th>\n",
       "      <th></th>\n",
       "      <th></th>\n",
       "      <th></th>\n",
       "      <th></th>\n",
       "      <th></th>\n",
       "      <th></th>\n",
       "      <th></th>\n",
       "      <th></th>\n",
       "      <th></th>\n",
       "      <th></th>\n",
       "      <th></th>\n",
       "      <th></th>\n",
       "      <th></th>\n",
       "      <th></th>\n",
       "      <th></th>\n",
       "      <th></th>\n",
       "      <th></th>\n",
       "    </tr>\n",
       "  </thead>\n",
       "  <tbody>\n",
       "    <tr>\n",
       "      <th>BRONX</th>\n",
       "      <td>NaN</td>\n",
       "      <td>1415.0</td>\n",
       "      <td>NaN</td>\n",
       "      <td>20.0</td>\n",
       "      <td>12754.0</td>\n",
       "      <td>1952.0</td>\n",
       "      <td>63.0</td>\n",
       "      <td>188.0</td>\n",
       "      <td>9.0</td>\n",
       "      <td>246.0</td>\n",
       "      <td>24.0</td>\n",
       "      <td>7859.0</td>\n",
       "      <td>2433.0</td>\n",
       "      <td>79.0</td>\n",
       "      <td>547.0</td>\n",
       "      <td>8889.0</td>\n",
       "      <td>3396.0</td>\n",
       "      <td>19.0</td>\n",
       "      <td>17.0</td>\n",
       "      <td>NaN</td>\n",
       "      <td>357.0</td>\n",
       "      <td>51.0</td>\n",
       "      <td>379.0</td>\n",
       "    </tr>\n",
       "    <tr>\n",
       "      <th>BROOKLYN</th>\n",
       "      <td>NaN</td>\n",
       "      <td>2394.0</td>\n",
       "      <td>NaN</td>\n",
       "      <td>111.0</td>\n",
       "      <td>28147.0</td>\n",
       "      <td>5179.0</td>\n",
       "      <td>72.0</td>\n",
       "      <td>257.0</td>\n",
       "      <td>43.0</td>\n",
       "      <td>857.0</td>\n",
       "      <td>61.0</td>\n",
       "      <td>27461.0</td>\n",
       "      <td>11458.0</td>\n",
       "      <td>340.0</td>\n",
       "      <td>1555.0</td>\n",
       "      <td>13353.0</td>\n",
       "      <td>5176.0</td>\n",
       "      <td>49.0</td>\n",
       "      <td>45.0</td>\n",
       "      <td>NaN</td>\n",
       "      <td>1086.0</td>\n",
       "      <td>136.0</td>\n",
       "      <td>515.0</td>\n",
       "    </tr>\n",
       "    <tr>\n",
       "      <th>MANHATTAN</th>\n",
       "      <td>NaN</td>\n",
       "      <td>1525.0</td>\n",
       "      <td>NaN</td>\n",
       "      <td>225.0</td>\n",
       "      <td>2071.0</td>\n",
       "      <td>537.0</td>\n",
       "      <td>69.0</td>\n",
       "      <td>295.0</td>\n",
       "      <td>22.0</td>\n",
       "      <td>2778.0</td>\n",
       "      <td>36.0</td>\n",
       "      <td>12129.0</td>\n",
       "      <td>14554.0</td>\n",
       "      <td>194.0</td>\n",
       "      <td>1210.0</td>\n",
       "      <td>20543.0</td>\n",
       "      <td>5484.0</td>\n",
       "      <td>193.0</td>\n",
       "      <td>41.0</td>\n",
       "      <td>4.0</td>\n",
       "      <td>1550.0</td>\n",
       "      <td>251.0</td>\n",
       "      <td>2398.0</td>\n",
       "    </tr>\n",
       "    <tr>\n",
       "      <th>QUEENS</th>\n",
       "      <td>NaN</td>\n",
       "      <td>1876.0</td>\n",
       "      <td>NaN</td>\n",
       "      <td>59.0</td>\n",
       "      <td>31639.0</td>\n",
       "      <td>8108.0</td>\n",
       "      <td>59.0</td>\n",
       "      <td>357.0</td>\n",
       "      <td>37.0</td>\n",
       "      <td>464.0</td>\n",
       "      <td>37.0</td>\n",
       "      <td>21979.0</td>\n",
       "      <td>6073.0</td>\n",
       "      <td>299.0</td>\n",
       "      <td>636.0</td>\n",
       "      <td>4407.0</td>\n",
       "      <td>2615.0</td>\n",
       "      <td>32.0</td>\n",
       "      <td>30.0</td>\n",
       "      <td>NaN</td>\n",
       "      <td>1305.0</td>\n",
       "      <td>140.0</td>\n",
       "      <td>477.0</td>\n",
       "    </tr>\n",
       "    <tr>\n",
       "      <th>STATEN ISLAND</th>\n",
       "      <td>NaN</td>\n",
       "      <td>557.0</td>\n",
       "      <td>NaN</td>\n",
       "      <td>7.0</td>\n",
       "      <td>2142.0</td>\n",
       "      <td>1766.0</td>\n",
       "      <td>23.0</td>\n",
       "      <td>175.0</td>\n",
       "      <td>2.0</td>\n",
       "      <td>71.0</td>\n",
       "      <td>10.0</td>\n",
       "      <td>4886.0</td>\n",
       "      <td>678.0</td>\n",
       "      <td>17.0</td>\n",
       "      <td>67.0</td>\n",
       "      <td>817.0</td>\n",
       "      <td>356.0</td>\n",
       "      <td>12.0</td>\n",
       "      <td>515.0</td>\n",
       "      <td>NaN</td>\n",
       "      <td>198.0</td>\n",
       "      <td>14.0</td>\n",
       "      <td>25.0</td>\n",
       "    </tr>\n",
       "    <tr>\n",
       "      <th>Unspecified</th>\n",
       "      <td>6.0</td>\n",
       "      <td>1.0</td>\n",
       "      <td>1.0</td>\n",
       "      <td>2.0</td>\n",
       "      <td>57.0</td>\n",
       "      <td>46.0</td>\n",
       "      <td>NaN</td>\n",
       "      <td>3.0</td>\n",
       "      <td>NaN</td>\n",
       "      <td>NaN</td>\n",
       "      <td>NaN</td>\n",
       "      <td>218.0</td>\n",
       "      <td>51.0</td>\n",
       "      <td>NaN</td>\n",
       "      <td>7.0</td>\n",
       "      <td>67.0</td>\n",
       "      <td>6.0</td>\n",
       "      <td>NaN</td>\n",
       "      <td>NaN</td>\n",
       "      <td>NaN</td>\n",
       "      <td>NaN</td>\n",
       "      <td>NaN</td>\n",
       "      <td>1.0</td>\n",
       "    </tr>\n",
       "  </tbody>\n",
       "</table>\n",
       "</div>"
      ],
      "text/plain": [
       "Complaint Type  Agency Issues  Animal Abuse  Animal in a Park  \\\n",
       "Borough                                                         \n",
       "BRONX                     NaN        1415.0               NaN   \n",
       "BROOKLYN                  NaN        2394.0               NaN   \n",
       "MANHATTAN                 NaN        1525.0               NaN   \n",
       "QUEENS                    NaN        1876.0               NaN   \n",
       "STATEN ISLAND             NaN         557.0               NaN   \n",
       "Unspecified               6.0           1.0               1.0   \n",
       "\n",
       "Complaint Type  Bike/Roller/Skate Chronic  Blocked Driveway  Derelict Vehicle  \\\n",
       "Borough                                                                         \n",
       "BRONX                                20.0           12754.0            1952.0   \n",
       "BROOKLYN                            111.0           28147.0            5179.0   \n",
       "MANHATTAN                           225.0            2071.0             537.0   \n",
       "QUEENS                               59.0           31639.0            8108.0   \n",
       "STATEN ISLAND                         7.0            2142.0            1766.0   \n",
       "Unspecified                           2.0              57.0              46.0   \n",
       "\n",
       "Complaint Type  Disorderly Youth  Drinking  Graffiti  Homeless Encampment  \\\n",
       "Borough                                                                     \n",
       "BRONX                       63.0     188.0       9.0                246.0   \n",
       "BROOKLYN                    72.0     257.0      43.0                857.0   \n",
       "MANHATTAN                   69.0     295.0      22.0               2778.0   \n",
       "QUEENS                      59.0     357.0      37.0                464.0   \n",
       "STATEN ISLAND               23.0     175.0       2.0                 71.0   \n",
       "Unspecified                  NaN       3.0       NaN                  NaN   \n",
       "\n",
       "Complaint Type  Illegal Fireworks  Illegal Parking  Noise - Commercial  \\\n",
       "Borough                                                                  \n",
       "BRONX                        24.0           7859.0              2433.0   \n",
       "BROOKLYN                     61.0          27461.0             11458.0   \n",
       "MANHATTAN                    36.0          12129.0             14554.0   \n",
       "QUEENS                       37.0          21979.0              6073.0   \n",
       "STATEN ISLAND                10.0           4886.0               678.0   \n",
       "Unspecified                   NaN            218.0                51.0   \n",
       "\n",
       "Complaint Type  Noise - House of Worship  Noise - Park  \\\n",
       "Borough                                                  \n",
       "BRONX                               79.0         547.0   \n",
       "BROOKLYN                           340.0        1555.0   \n",
       "MANHATTAN                          194.0        1210.0   \n",
       "QUEENS                             299.0         636.0   \n",
       "STATEN ISLAND                       17.0          67.0   \n",
       "Unspecified                          NaN           7.0   \n",
       "\n",
       "Complaint Type  Noise - Street/Sidewalk  Noise - Vehicle  Panhandling  \\\n",
       "Borough                                                                 \n",
       "BRONX                            8889.0           3396.0         19.0   \n",
       "BROOKLYN                        13353.0           5176.0         49.0   \n",
       "MANHATTAN                       20543.0           5484.0        193.0   \n",
       "QUEENS                           4407.0           2615.0         32.0   \n",
       "STATEN ISLAND                     817.0            356.0         12.0   \n",
       "Unspecified                        67.0              6.0          NaN   \n",
       "\n",
       "Complaint Type  Posting Advertisement  Squeegee  Traffic  Urinating in Public  \\\n",
       "Borough                                                                         \n",
       "BRONX                            17.0       NaN    357.0                 51.0   \n",
       "BROOKLYN                         45.0       NaN   1086.0                136.0   \n",
       "MANHATTAN                        41.0       4.0   1550.0                251.0   \n",
       "QUEENS                           30.0       NaN   1305.0                140.0   \n",
       "STATEN ISLAND                   515.0       NaN    198.0                 14.0   \n",
       "Unspecified                       NaN       NaN      NaN                  NaN   \n",
       "\n",
       "Complaint Type  Vending  \n",
       "Borough                  \n",
       "BRONX             379.0  \n",
       "BROOKLYN          515.0  \n",
       "MANHATTAN        2398.0  \n",
       "QUEENS            477.0  \n",
       "STATEN ISLAND      25.0  \n",
       "Unspecified         1.0  "
      ]
     },
     "execution_count": 51,
     "metadata": {},
     "output_type": "execute_result"
    }
   ],
   "source": [
    "comp_boro"
   ]
  },
  {
   "cell_type": "code",
   "execution_count": 52,
   "metadata": {},
   "outputs": [],
   "source": [
    "comp_boro=comp_boro[top_complaints]"
   ]
  },
  {
   "cell_type": "code",
   "execution_count": 53,
   "metadata": {},
   "outputs": [
    {
     "data": {
      "text/plain": [
       "Index(['Blocked Driveway', 'Illegal Parking', 'Noise - Commercial',\n",
       "       'Noise - Street/Sidewalk', 'Derelict Vehicle', 'Animal Abuse'],\n",
       "      dtype='object', name='Complaint Type')"
      ]
     },
     "execution_count": 53,
     "metadata": {},
     "output_type": "execute_result"
    }
   ],
   "source": [
    "comp_boro.columns"
   ]
  },
  {
   "cell_type": "code",
   "execution_count": 54,
   "metadata": {
    "scrolled": true
   },
   "outputs": [
    {
     "data": {
      "text/plain": [
       "Complaint Type\n",
       "Blocked Driveway           28147.0\n",
       "Illegal Parking            27461.0\n",
       "Noise - Commercial         11458.0\n",
       "Noise - Street/Sidewalk    13353.0\n",
       "Derelict Vehicle            5179.0\n",
       "Animal Abuse                2394.0\n",
       "Name: BROOKLYN, dtype: float64"
      ]
     },
     "execution_count": 54,
     "metadata": {},
     "output_type": "execute_result"
    }
   ],
   "source": [
    "comp_boro.iloc[1]"
   ]
  },
  {
   "cell_type": "code",
   "execution_count": 55,
   "metadata": {
    "scrolled": false
   },
   "outputs": [
    {
     "data": {
      "text/plain": [
       "<matplotlib.axes._subplots.AxesSubplot at 0x1924e810>"
      ]
     },
     "execution_count": 55,
     "metadata": {},
     "output_type": "execute_result"
    },
    {
     "data": {
      "text/plain": [
       "<Figure size 1152x576 with 0 Axes>"
      ]
     },
     "metadata": {},
     "output_type": "display_data"
    },
    {
     "data": {
      "image/png": "[encoded data removed]",
      "text/plain": [
       "<Figure size 432x288 with 1 Axes>"
      ]
     },
     "metadata": {
      "needs_background": "light"
     },
     "output_type": "display_data"
    }
   ],
   "source": [
    "plt.figure(figsize=(16,8))\n",
    "comp_boro.plot.bar()"
   ]
  },
  {
   "cell_type": "code",
   "execution_count": 56,
   "metadata": {},
   "outputs": [
    {
     "data": {
      "image/png": "[encoded data removed]",
      "text/plain": [
       "<Figure size 1152x576 with 6 Axes>"
      ]
     },
     "metadata": {
      "needs_background": "light"
     },
     "output_type": "display_data"
    }
   ],
   "source": [
    "col_number = 2\n",
    "row_number = 3\n",
    "fig, axes = plt.subplots(row_number,col_number, figsize=(16,8))\n",
    "# sns.set()\n",
    "\n",
    "for i, (label,col) in enumerate(comp_boro.iteritems()):\n",
    "    ax = axes[int(i/col_number), i%col_number]\n",
    "    col = col.sort_values(ascending=True)[:15]\n",
    "    col.plot(kind='barh', ax=ax)\n",
    "    ax.set_title(label)\n",
    "    \n",
    "plt.tight_layout()\n",
    "\n",
    "# plt.show()\n"
   ]
  },
  {
   "cell_type": "markdown",
   "metadata": {},
   "source": [
    "* Queens has highest complaints of \"Blocked Driveway\" and  \"Derelict Vehicle\".\n",
    "* Brooklyn has Highest registered complaints in \"Illegal Parking\" and \"Animal Abuse\",Brooklyn has also highest rate of compalints in Noise.\n",
    "* Noise-Commercial and Noise-Street/Sidewalk complaints highest in Manhattan."
   ]
  },
  {
   "cell_type": "code",
   "execution_count": 57,
   "metadata": {},
   "outputs": [],
   "source": [
    "boro_comp=new_df_service.groupby(['Complaint Type','Borough']).size().unstack()"
   ]
  },
  {
   "cell_type": "code",
   "execution_count": 58,
   "metadata": {},
   "outputs": [
    {
     "data": {
      "text/html": [
       "<div>\n",
       "<style scoped>\n",
       "    .dataframe tbody tr th:only-of-type {\n",
       "        vertical-align: middle;\n",
       "    }\n",
       "\n",
       "    .dataframe tbody tr th {\n",
       "        vertical-align: top;\n",
       "    }\n",
       "\n",
       "    .dataframe thead th {\n",
       "        text-align: right;\n",
       "    }\n",
       "</style>\n",
       "<table border=\"1\" class=\"dataframe\">\n",
       "  <thead>\n",
       "    <tr style=\"text-align: right;\">\n",
       "      <th>Borough</th>\n",
       "      <th>BRONX</th>\n",
       "      <th>BROOKLYN</th>\n",
       "      <th>MANHATTAN</th>\n",
       "      <th>QUEENS</th>\n",
       "      <th>STATEN ISLAND</th>\n",
       "      <th>Unspecified</th>\n",
       "    </tr>\n",
       "    <tr>\n",
       "      <th>Complaint Type</th>\n",
       "      <th></th>\n",
       "      <th></th>\n",
       "      <th></th>\n",
       "      <th></th>\n",
       "      <th></th>\n",
       "      <th></th>\n",
       "    </tr>\n",
       "  </thead>\n",
       "  <tbody>\n",
       "    <tr>\n",
       "      <th>Agency Issues</th>\n",
       "      <td>NaN</td>\n",
       "      <td>NaN</td>\n",
       "      <td>NaN</td>\n",
       "      <td>NaN</td>\n",
       "      <td>NaN</td>\n",
       "      <td>6.0</td>\n",
       "    </tr>\n",
       "    <tr>\n",
       "      <th>Animal Abuse</th>\n",
       "      <td>1415.0</td>\n",
       "      <td>2394.0</td>\n",
       "      <td>1525.0</td>\n",
       "      <td>1876.0</td>\n",
       "      <td>557.0</td>\n",
       "      <td>1.0</td>\n",
       "    </tr>\n",
       "    <tr>\n",
       "      <th>Animal in a Park</th>\n",
       "      <td>NaN</td>\n",
       "      <td>NaN</td>\n",
       "      <td>NaN</td>\n",
       "      <td>NaN</td>\n",
       "      <td>NaN</td>\n",
       "      <td>1.0</td>\n",
       "    </tr>\n",
       "    <tr>\n",
       "      <th>Bike/Roller/Skate Chronic</th>\n",
       "      <td>20.0</td>\n",
       "      <td>111.0</td>\n",
       "      <td>225.0</td>\n",
       "      <td>59.0</td>\n",
       "      <td>7.0</td>\n",
       "      <td>2.0</td>\n",
       "    </tr>\n",
       "    <tr>\n",
       "      <th>Blocked Driveway</th>\n",
       "      <td>12754.0</td>\n",
       "      <td>28147.0</td>\n",
       "      <td>2071.0</td>\n",
       "      <td>31639.0</td>\n",
       "      <td>2142.0</td>\n",
       "      <td>57.0</td>\n",
       "    </tr>\n",
       "    <tr>\n",
       "      <th>Derelict Vehicle</th>\n",
       "      <td>1952.0</td>\n",
       "      <td>5179.0</td>\n",
       "      <td>537.0</td>\n",
       "      <td>8108.0</td>\n",
       "      <td>1766.0</td>\n",
       "      <td>46.0</td>\n",
       "    </tr>\n",
       "    <tr>\n",
       "      <th>Disorderly Youth</th>\n",
       "      <td>63.0</td>\n",
       "      <td>72.0</td>\n",
       "      <td>69.0</td>\n",
       "      <td>59.0</td>\n",
       "      <td>23.0</td>\n",
       "      <td>NaN</td>\n",
       "    </tr>\n",
       "    <tr>\n",
       "      <th>Drinking</th>\n",
       "      <td>188.0</td>\n",
       "      <td>257.0</td>\n",
       "      <td>295.0</td>\n",
       "      <td>357.0</td>\n",
       "      <td>175.0</td>\n",
       "      <td>3.0</td>\n",
       "    </tr>\n",
       "    <tr>\n",
       "      <th>Graffiti</th>\n",
       "      <td>9.0</td>\n",
       "      <td>43.0</td>\n",
       "      <td>22.0</td>\n",
       "      <td>37.0</td>\n",
       "      <td>2.0</td>\n",
       "      <td>NaN</td>\n",
       "    </tr>\n",
       "    <tr>\n",
       "      <th>Homeless Encampment</th>\n",
       "      <td>246.0</td>\n",
       "      <td>857.0</td>\n",
       "      <td>2778.0</td>\n",
       "      <td>464.0</td>\n",
       "      <td>71.0</td>\n",
       "      <td>NaN</td>\n",
       "    </tr>\n",
       "    <tr>\n",
       "      <th>Illegal Fireworks</th>\n",
       "      <td>24.0</td>\n",
       "      <td>61.0</td>\n",
       "      <td>36.0</td>\n",
       "      <td>37.0</td>\n",
       "      <td>10.0</td>\n",
       "      <td>NaN</td>\n",
       "    </tr>\n",
       "    <tr>\n",
       "      <th>Illegal Parking</th>\n",
       "      <td>7859.0</td>\n",
       "      <td>27461.0</td>\n",
       "      <td>12129.0</td>\n",
       "      <td>21979.0</td>\n",
       "      <td>4886.0</td>\n",
       "      <td>218.0</td>\n",
       "    </tr>\n",
       "    <tr>\n",
       "      <th>Noise - Commercial</th>\n",
       "      <td>2433.0</td>\n",
       "      <td>11458.0</td>\n",
       "      <td>14554.0</td>\n",
       "      <td>6073.0</td>\n",
       "      <td>678.0</td>\n",
       "      <td>51.0</td>\n",
       "    </tr>\n",
       "    <tr>\n",
       "      <th>Noise - House of Worship</th>\n",
       "      <td>79.0</td>\n",
       "      <td>340.0</td>\n",
       "      <td>194.0</td>\n",
       "      <td>299.0</td>\n",
       "      <td>17.0</td>\n",
       "      <td>NaN</td>\n",
       "    </tr>\n",
       "    <tr>\n",
       "      <th>Noise - Park</th>\n",
       "      <td>547.0</td>\n",
       "      <td>1555.0</td>\n",
       "      <td>1210.0</td>\n",
       "      <td>636.0</td>\n",
       "      <td>67.0</td>\n",
       "      <td>7.0</td>\n",
       "    </tr>\n",
       "    <tr>\n",
       "      <th>Noise - Street/Sidewalk</th>\n",
       "      <td>8889.0</td>\n",
       "      <td>13353.0</td>\n",
       "      <td>20543.0</td>\n",
       "      <td>4407.0</td>\n",
       "      <td>817.0</td>\n",
       "      <td>67.0</td>\n",
       "    </tr>\n",
       "    <tr>\n",
       "      <th>Noise - Vehicle</th>\n",
       "      <td>3396.0</td>\n",
       "      <td>5176.0</td>\n",
       "      <td>5484.0</td>\n",
       "      <td>2615.0</td>\n",
       "      <td>356.0</td>\n",
       "      <td>6.0</td>\n",
       "    </tr>\n",
       "    <tr>\n",
       "      <th>Panhandling</th>\n",
       "      <td>19.0</td>\n",
       "      <td>49.0</td>\n",
       "      <td>193.0</td>\n",
       "      <td>32.0</td>\n",
       "      <td>12.0</td>\n",
       "      <td>NaN</td>\n",
       "    </tr>\n",
       "    <tr>\n",
       "      <th>Posting Advertisement</th>\n",
       "      <td>17.0</td>\n",
       "      <td>45.0</td>\n",
       "      <td>41.0</td>\n",
       "      <td>30.0</td>\n",
       "      <td>515.0</td>\n",
       "      <td>NaN</td>\n",
       "    </tr>\n",
       "    <tr>\n",
       "      <th>Squeegee</th>\n",
       "      <td>NaN</td>\n",
       "      <td>NaN</td>\n",
       "      <td>4.0</td>\n",
       "      <td>NaN</td>\n",
       "      <td>NaN</td>\n",
       "      <td>NaN</td>\n",
       "    </tr>\n",
       "    <tr>\n",
       "      <th>Traffic</th>\n",
       "      <td>357.0</td>\n",
       "      <td>1086.0</td>\n",
       "      <td>1550.0</td>\n",
       "      <td>1305.0</td>\n",
       "      <td>198.0</td>\n",
       "      <td>NaN</td>\n",
       "    </tr>\n",
       "    <tr>\n",
       "      <th>Urinating in Public</th>\n",
       "      <td>51.0</td>\n",
       "      <td>136.0</td>\n",
       "      <td>251.0</td>\n",
       "      <td>140.0</td>\n",
       "      <td>14.0</td>\n",
       "      <td>NaN</td>\n",
       "    </tr>\n",
       "    <tr>\n",
       "      <th>Vending</th>\n",
       "      <td>379.0</td>\n",
       "      <td>515.0</td>\n",
       "      <td>2398.0</td>\n",
       "      <td>477.0</td>\n",
       "      <td>25.0</td>\n",
       "      <td>1.0</td>\n",
       "    </tr>\n",
       "  </tbody>\n",
       "</table>\n",
       "</div>"
      ],
      "text/plain": [
       "Borough                      BRONX  BROOKLYN  MANHATTAN   QUEENS  \\\n",
       "Complaint Type                                                     \n",
       "Agency Issues                  NaN       NaN        NaN      NaN   \n",
       "Animal Abuse                1415.0    2394.0     1525.0   1876.0   \n",
       "Animal in a Park               NaN       NaN        NaN      NaN   \n",
       "Bike/Roller/Skate Chronic     20.0     111.0      225.0     59.0   \n",
       "Blocked Driveway           12754.0   28147.0     2071.0  31639.0   \n",
       "Derelict Vehicle            1952.0    5179.0      537.0   8108.0   \n",
       "Disorderly Youth              63.0      72.0       69.0     59.0   \n",
       "Drinking                     188.0     257.0      295.0    357.0   \n",
       "Graffiti                       9.0      43.0       22.0     37.0   \n",
       "Homeless Encampment          246.0     857.0     2778.0    464.0   \n",
       "Illegal Fireworks             24.0      61.0       36.0     37.0   \n",
       "Illegal Parking             7859.0   27461.0    12129.0  21979.0   \n",
       "Noise - Commercial          2433.0   11458.0    14554.0   6073.0   \n",
       "Noise - House of Worship      79.0     340.0      194.0    299.0   \n",
       "Noise - Park                 547.0    1555.0     1210.0    636.0   \n",
       "Noise - Street/Sidewalk     8889.0   13353.0    20543.0   4407.0   \n",
       "Noise - Vehicle             3396.0    5176.0     5484.0   2615.0   \n",
       "Panhandling                   19.0      49.0      193.0     32.0   \n",
       "Posting Advertisement         17.0      45.0       41.0     30.0   \n",
       "Squeegee                       NaN       NaN        4.0      NaN   \n",
       "Traffic                      357.0    1086.0     1550.0   1305.0   \n",
       "Urinating in Public           51.0     136.0      251.0    140.0   \n",
       "Vending                      379.0     515.0     2398.0    477.0   \n",
       "\n",
       "Borough                    STATEN ISLAND  Unspecified  \n",
       "Complaint Type                                         \n",
       "Agency Issues                        NaN          6.0  \n",
       "Animal Abuse                       557.0          1.0  \n",
       "Animal in a Park                     NaN          1.0  \n",
       "Bike/Roller/Skate Chronic            7.0          2.0  \n",
       "Blocked Driveway                  2142.0         57.0  \n",
       "Derelict Vehicle                  1766.0         46.0  \n",
       "Disorderly Youth                    23.0          NaN  \n",
       "Drinking                           175.0          3.0  \n",
       "Graffiti                             2.0          NaN  \n",
       "Homeless Encampment                 71.0          NaN  \n",
       "Illegal Fireworks                   10.0          NaN  \n",
       "Illegal Parking                   4886.0        218.0  \n",
       "Noise - Commercial                 678.0         51.0  \n",
       "Noise - House of Worship            17.0          NaN  \n",
       "Noise - Park                        67.0          7.0  \n",
       "Noise - Street/Sidewalk            817.0         67.0  \n",
       "Noise - Vehicle                    356.0          6.0  \n",
       "Panhandling                         12.0          NaN  \n",
       "Posting Advertisement              515.0          NaN  \n",
       "Squeegee                             NaN          NaN  \n",
       "Traffic                            198.0          NaN  \n",
       "Urinating in Public                 14.0          NaN  \n",
       "Vending                             25.0          1.0  "
      ]
     },
     "execution_count": 58,
     "metadata": {},
     "output_type": "execute_result"
    }
   ],
   "source": [
    "boro_comp"
   ]
  },
  {
   "cell_type": "code",
   "execution_count": 59,
   "metadata": {},
   "outputs": [
    {
     "data": {
      "image/png": "[encoded data removed]",
      "text/plain": [
       "<Figure size 1080x864 with 6 Axes>"
      ]
     },
     "metadata": {
      "needs_background": "light"
     },
     "output_type": "display_data"
    }
   ],
   "source": [
    "col_number = 2\n",
    "row_number = 3\n",
    "fig, axes = plt.subplots(row_number,col_number, figsize=(15,12))\n",
    "# sns.set()\n",
    "\n",
    "for i, (label,col) in enumerate(boro_comp.iteritems()):\n",
    "    ax = axes[int(i/col_number), i%col_number]\n",
    "    col = col.sort_values(ascending=True)\n",
    "    col.plot(kind='barh', ax=ax)\n",
    "    ax.set_title(label)\n",
    "    \n",
    "plt.tight_layout()\n"
   ]
  },
  {
   "cell_type": "markdown",
   "metadata": {},
   "source": [
    "* Blocked Driveway and Illegal Parking is better in MANHATTEN compared with other Borough.\n",
    "\n",
    "* Blocked Driveway,Illegal Parking and Noise is main problem of every city.\n"
   ]
  },
  {
   "cell_type": "code",
   "execution_count": 60,
   "metadata": {},
   "outputs": [
    {
     "data": {
      "text/plain": [
       "<matplotlib.axes._subplots.AxesSubplot at 0x1ead8e10>"
      ]
     },
     "execution_count": 60,
     "metadata": {},
     "output_type": "execute_result"
    },
    {
     "data": {
      "image/png": "[encoded data removed]",
      "text/plain": [
       "<Figure size 432x288 with 1 Axes>"
      ]
     },
     "metadata": {
      "needs_background": "light"
     },
     "output_type": "display_data"
    }
   ],
   "source": [
    "new_df_service['Borough'].value_counts().plot(kind=\"barh\")"
   ]
  },
  {
   "cell_type": "markdown",
   "metadata": {},
   "source": [
    "* Brooklyn has registered most number of complaints\n"
   ]
  },
  {
   "cell_type": "markdown",
   "metadata": {},
   "source": [
    "# City-Wise complaint"
   ]
  },
  {
   "cell_type": "code",
   "execution_count": 61,
   "metadata": {
    "scrolled": true
   },
   "outputs": [],
   "source": [
    "city_count=new_df_service['City'].value_counts()[:10]"
   ]
  },
  {
   "cell_type": "code",
   "execution_count": 62,
   "metadata": {},
   "outputs": [
    {
     "data": {
      "text/plain": [
       "Index(['BROOKLYN', 'NEW YORK', 'BRONX', 'STATEN ISLAND', 'JAMAICA', 'ASTORIA',\n",
       "       'FLUSHING', 'RIDGEWOOD', 'CORONA', 'WOODSIDE'],\n",
       "      dtype='object')"
      ]
     },
     "execution_count": 62,
     "metadata": {},
     "output_type": "execute_result"
    }
   ],
   "source": [
    "city_count.index"
   ]
  },
  {
   "cell_type": "code",
   "execution_count": 63,
   "metadata": {},
   "outputs": [
    {
     "data": {
      "text/plain": [
       "BROOKLYN         98295\n",
       "NEW YORK         65972\n",
       "BRONX            40697\n",
       "STATEN ISLAND    12338\n",
       "JAMAICA           7294\n",
       "ASTORIA           6330\n",
       "FLUSHING          5970\n",
       "RIDGEWOOD         5162\n",
       "CORONA            4295\n",
       "WOODSIDE          3544\n",
       "Name: City, dtype: int64"
      ]
     },
     "execution_count": 63,
     "metadata": {},
     "output_type": "execute_result"
    }
   ],
   "source": [
    "city_count"
   ]
  },
  {
   "cell_type": "code",
   "execution_count": 64,
   "metadata": {},
   "outputs": [
    {
     "data": {
      "image/png": "[encoded data removed]",
      "text/plain": [
       "<Figure size 1008x864 with 1 Axes>"
      ]
     },
     "metadata": {
      "needs_background": "light"
     },
     "output_type": "display_data"
    }
   ],
   "source": [
    "import squarify\n",
    "fig = plt.gcf()\n",
    "fig.set_size_inches(14, 12)\n",
    "label=zip(list(city_count.index),city_count)\n",
    "squarify.plot(sizes=city_count, label=label, alpha=0.7)\n",
    "plt.axis('off')\n",
    "plt.show()\n",
    "\n",
    "# squarify ,It can show groupwise count of complaints in city-wise"
   ]
  },
  {
   "cell_type": "markdown",
   "metadata": {},
   "source": [
    "* Brooklyn city has registered maximum number of complaints, Approx 30% complaints in Brooklyn city followed by other two New york & Bronx"
   ]
  },
  {
   "cell_type": "markdown",
   "metadata": {},
   "source": [
    "# Request Closing Time for Complaints"
   ]
  },
  {
   "cell_type": "code",
   "execution_count": 65,
   "metadata": {},
   "outputs": [
    {
     "data": {
      "text/plain": [
       "count                    298534\n",
       "mean     0 days 04:18:51.832782\n",
       "std      0 days 06:05:22.141833\n",
       "min             0 days 00:01:00\n",
       "25%             0 days 01:16:33\n",
       "50%      0 days 02:42:55.500000\n",
       "75%             0 days 05:21:00\n",
       "max            24 days 16:52:22\n",
       "Name: Request_closing_time, dtype: object"
      ]
     },
     "execution_count": 65,
     "metadata": {},
     "output_type": "execute_result"
    }
   ],
   "source": [
    "new_df_service[\"Request_closing_time\"].describe()"
   ]
  },
  {
   "cell_type": "code",
   "execution_count": 66,
   "metadata": {},
   "outputs": [],
   "source": [
    "new_df_service['Request_closing_hr']=new_df_service[\"Request_closing_time\"].astype('timedelta64[h]')+1 # astype can convert the time in a single hour "
   ]
  },
  {
   "cell_type": "code",
   "execution_count": 67,
   "metadata": {
    "scrolled": true
   },
   "outputs": [
    {
     "data": {
      "text/plain": [
       "593.0"
      ]
     },
     "execution_count": 67,
     "metadata": {},
     "output_type": "execute_result"
    }
   ],
   "source": [
    "new_df_service['Request_closing_hr'].max()"
   ]
  },
  {
   "cell_type": "code",
   "execution_count": 68,
   "metadata": {
    "scrolled": true
   },
   "outputs": [
    {
     "data": {
      "text/html": [
       "<div>\n",
       "<style scoped>\n",
       "    .dataframe tbody tr th:only-of-type {\n",
       "        vertical-align: middle;\n",
       "    }\n",
       "\n",
       "    .dataframe tbody tr th {\n",
       "        vertical-align: top;\n",
       "    }\n",
       "\n",
       "    .dataframe thead th {\n",
       "        text-align: right;\n",
       "    }\n",
       "</style>\n",
       "<table border=\"1\" class=\"dataframe\">\n",
       "  <thead>\n",
       "    <tr style=\"text-align: right;\">\n",
       "      <th></th>\n",
       "      <th>Request_closing_time</th>\n",
       "      <th>Request_closing_hr</th>\n",
       "    </tr>\n",
       "  </thead>\n",
       "  <tbody>\n",
       "    <tr>\n",
       "      <th>0</th>\n",
       "      <td>00:55:15</td>\n",
       "      <td>1.0</td>\n",
       "    </tr>\n",
       "    <tr>\n",
       "      <th>1</th>\n",
       "      <td>01:26:16</td>\n",
       "      <td>2.0</td>\n",
       "    </tr>\n",
       "    <tr>\n",
       "      <th>2</th>\n",
       "      <td>04:51:31</td>\n",
       "      <td>5.0</td>\n",
       "    </tr>\n",
       "    <tr>\n",
       "      <th>3</th>\n",
       "      <td>07:45:14</td>\n",
       "      <td>8.0</td>\n",
       "    </tr>\n",
       "    <tr>\n",
       "      <th>4</th>\n",
       "      <td>03:27:02</td>\n",
       "      <td>4.0</td>\n",
       "    </tr>\n",
       "  </tbody>\n",
       "</table>\n",
       "</div>"
      ],
      "text/plain": [
       "  Request_closing_time  Request_closing_hr\n",
       "0             00:55:15                 1.0\n",
       "1             01:26:16                 2.0\n",
       "2             04:51:31                 5.0\n",
       "3             07:45:14                 8.0\n",
       "4             03:27:02                 4.0"
      ]
     },
     "execution_count": 68,
     "metadata": {},
     "output_type": "execute_result"
    }
   ],
   "source": [
    "new_df_service[['Request_closing_time','Request_closing_hr']].head() # we can show two coloumn at a single time with two list or list in list ,important one"
   ]
  },
  {
   "cell_type": "markdown",
   "metadata": {},
   "source": [
    "Now we can perform some Stastics function on time"
   ]
  },
  {
   "cell_type": "code",
   "execution_count": 69,
   "metadata": {},
   "outputs": [
    {
     "name": "stdout",
     "output_type": "stream",
     "text": [
      "4.824009995511399\n",
      "6.091285544795425\n"
     ]
    }
   ],
   "source": [
    "mean=new_df_service['Request_closing_hr'].mean()\n",
    "std_deviation=new_df_service['Request_closing_hr'].std()\n",
    "\n",
    "print(mean)\n",
    "print(std_deviation)"
   ]
  },
  {
   "cell_type": "code",
   "execution_count": 70,
   "metadata": {},
   "outputs": [
    {
     "data": {
      "text/plain": [
       "0         1.0\n",
       "245262    1.0\n",
       "182608    1.0\n",
       "245260    1.0\n",
       "245259    1.0\n",
       "245258    1.0\n",
       "245257    1.0\n",
       "104310    1.0\n",
       "49441     1.0\n",
       "49443     1.0\n",
       "Name: Request_closing_hr, dtype: float64"
      ]
     },
     "execution_count": 70,
     "metadata": {},
     "output_type": "execute_result"
    }
   ],
   "source": [
    "new_df_service['Request_closing_hr'].sort_values().head(10)"
   ]
  },
  {
   "cell_type": "raw",
   "metadata": {},
   "source": [
    "# \"DataFrame.dt.days\" # we can get the days from the time, it is good you can easily the days by dataframe."
   ]
  },
  {
   "cell_type": "raw",
   "metadata": {},
   "source": [
    "# new_=new_df_service['Request_closing_hr'].dt.days "
   ]
  },
  {
   "cell_type": "code",
   "execution_count": 71,
   "metadata": {},
   "outputs": [],
   "source": [
    "# new_.head()"
   ]
  },
  {
   "cell_type": "code",
   "execution_count": 72,
   "metadata": {},
   "outputs": [],
   "source": [
    "norm = matplotlib.colors.Normalize(vmin=min(city_count), vmax=max(city_count))\n",
    "colors = [matplotlib.cm.Blues(norm(value)) for value in city_count]\n"
   ]
  },
  {
   "cell_type": "code",
   "execution_count": 73,
   "metadata": {},
   "outputs": [],
   "source": [
    "head_tail=pd.concat([new_df_service['Request_closing_hr'].sort_values().head(),new_df_service['Request_closing_hr'].sort_values().tail()],axis=1)"
   ]
  },
  {
   "cell_type": "code",
   "execution_count": 74,
   "metadata": {
    "scrolled": false
   },
   "outputs": [
    {
     "data": {
      "text/html": [
       "<div>\n",
       "<style scoped>\n",
       "    .dataframe tbody tr th:only-of-type {\n",
       "        vertical-align: middle;\n",
       "    }\n",
       "\n",
       "    .dataframe tbody tr th {\n",
       "        vertical-align: top;\n",
       "    }\n",
       "\n",
       "    .dataframe thead th {\n",
       "        text-align: right;\n",
       "    }\n",
       "</style>\n",
       "<table border=\"1\" class=\"dataframe\">\n",
       "  <thead>\n",
       "    <tr style=\"text-align: right;\">\n",
       "      <th></th>\n",
       "      <th>Request_closing_hr</th>\n",
       "      <th>Request_closing_hr</th>\n",
       "    </tr>\n",
       "  </thead>\n",
       "  <tbody>\n",
       "    <tr>\n",
       "      <th>0</th>\n",
       "      <td>1.0</td>\n",
       "      <td>NaN</td>\n",
       "    </tr>\n",
       "    <tr>\n",
       "      <th>12099</th>\n",
       "      <td>NaN</td>\n",
       "      <td>224.0</td>\n",
       "    </tr>\n",
       "    <tr>\n",
       "      <th>21139</th>\n",
       "      <td>NaN</td>\n",
       "      <td>520.0</td>\n",
       "    </tr>\n",
       "    <tr>\n",
       "      <th>23527</th>\n",
       "      <td>NaN</td>\n",
       "      <td>578.0</td>\n",
       "    </tr>\n",
       "    <tr>\n",
       "      <th>182608</th>\n",
       "      <td>1.0</td>\n",
       "      <td>NaN</td>\n",
       "    </tr>\n",
       "    <tr>\n",
       "      <th>242796</th>\n",
       "      <td>NaN</td>\n",
       "      <td>593.0</td>\n",
       "    </tr>\n",
       "    <tr>\n",
       "      <th>245259</th>\n",
       "      <td>1.0</td>\n",
       "      <td>NaN</td>\n",
       "    </tr>\n",
       "    <tr>\n",
       "      <th>245260</th>\n",
       "      <td>1.0</td>\n",
       "      <td>NaN</td>\n",
       "    </tr>\n",
       "    <tr>\n",
       "      <th>245262</th>\n",
       "      <td>1.0</td>\n",
       "      <td>NaN</td>\n",
       "    </tr>\n",
       "    <tr>\n",
       "      <th>281061</th>\n",
       "      <td>NaN</td>\n",
       "      <td>337.0</td>\n",
       "    </tr>\n",
       "  </tbody>\n",
       "</table>\n",
       "</div>"
      ],
      "text/plain": [
       "        Request_closing_hr  Request_closing_hr\n",
       "0                      1.0                 NaN\n",
       "12099                  NaN               224.0\n",
       "21139                  NaN               520.0\n",
       "23527                  NaN               578.0\n",
       "182608                 1.0                 NaN\n",
       "242796                 NaN               593.0\n",
       "245259                 1.0                 NaN\n",
       "245260                 1.0                 NaN\n",
       "245262                 1.0                 NaN\n",
       "281061                 NaN               337.0"
      ]
     },
     "execution_count": 74,
     "metadata": {},
     "output_type": "execute_result"
    }
   ],
   "source": [
    "head_tail"
   ]
  },
  {
   "cell_type": "markdown",
   "metadata": {},
   "source": [
    "# ** We can see the in some cases closing timing of complaints is very high, So for this reason may be OUTLIER is present in Dataset.\n",
    "\n",
    "** For finding outlier in Dataset by 4 method:\n",
    "\n",
    "1- Z-score\n",
    "\n",
    "2- Boxplot\n",
    "\n",
    "3- Scatter plot\n",
    "\n",
    "4- Inter-quartile Range\n",
    "\n",
    "***We can choose Z-Score Test for outlier***\n",
    "\n",
    "Formula:\n",
    " \n",
    " Z=(number in dataset-mean of population)/standard_deviation\n",
    " \n",
    "\n"
   ]
  },
  {
   "cell_type": "code",
   "execution_count": 75,
   "metadata": {},
   "outputs": [],
   "source": [
    "outlier=[]\n",
    "def detect_outlier(data):\n",
    "    \n",
    "    threshold=1\n",
    "    mean=np.mean(data)\n",
    "    stand_dev=np.mean(data)\n",
    "    \n",
    "    for i in data:\n",
    "        z_score=(i-mean)/stand_dev\n",
    "        if np.abs(z_score)>threshold:\n",
    "            outlier.append(i)\n",
    "    return outlier\n",
    "    \n",
    "    \n",
    "    "
   ]
  },
  {
   "cell_type": "code",
   "execution_count": 136,
   "metadata": {},
   "outputs": [
    {
     "data": {
      "text/plain": [
       "[10.0, 10.0, 10.0, 10.0, 10.0]"
      ]
     },
     "execution_count": 136,
     "metadata": {},
     "output_type": "execute_result"
    }
   ],
   "source": [
    "detect_outlier(new_df_service['Request_closing_hr'])[0:5]"
   ]
  },
  {
   "cell_type": "code",
   "execution_count": 77,
   "metadata": {},
   "outputs": [],
   "source": [
    "outlier.sort()"
   ]
  },
  {
   "cell_type": "code",
   "execution_count": 78,
   "metadata": {},
   "outputs": [
    {
     "data": {
      "text/plain": [
       "30903"
      ]
     },
     "execution_count": 78,
     "metadata": {},
     "output_type": "execute_result"
    }
   ],
   "source": [
    "len(outlier)"
   ]
  },
  {
   "cell_type": "code",
   "execution_count": 79,
   "metadata": {},
   "outputs": [
    {
     "data": {
      "image/png": "[encoded data removed]",
      "text/plain": [
       "<Figure size 432x288 with 1 Axes>"
      ]
     },
     "metadata": {
      "needs_background": "light"
     },
     "output_type": "display_data"
    }
   ],
   "source": [
    "plot_data = new_df_service[((new_df_service['Request_closing_hr']-mean)/std_deviation)<1]\n",
    "plot_data['Request_closing_hr'].hist(bins=10)\n",
    "plt.xlabel('Time(Hours) to close the request')\n",
    "plt.ylabel('Number of Requets')\n",
    "plt.title('Requests closing time distribution')\n",
    "plt.show()\n",
    "\n"
   ]
  },
  {
   "cell_type": "markdown",
   "metadata": {},
   "source": [
    "*** 95 % complaints are closed within 10 hr.\n",
    "\n",
    "*** 50 % complaints are closed within 2 to 4 hr.\n"
   ]
  },
  {
   "cell_type": "code",
   "execution_count": 80,
   "metadata": {},
   "outputs": [
    {
     "data": {
      "text/plain": [
       "273458"
      ]
     },
     "execution_count": 80,
     "metadata": {},
     "output_type": "execute_result"
    }
   ],
   "source": [
    "len(plot_data['Request_closing_hr'])"
   ]
  },
  {
   "cell_type": "code",
   "execution_count": 81,
   "metadata": {},
   "outputs": [
    {
     "data": {
      "text/plain": [
       "298534"
      ]
     },
     "execution_count": 81,
     "metadata": {},
     "output_type": "execute_result"
    }
   ],
   "source": [
    "len(new_df_service['Request_closing_hr'])"
   ]
  },
  {
   "cell_type": "code",
   "execution_count": 82,
   "metadata": {},
   "outputs": [],
   "source": [
    "per_cent=273458/298534"
   ]
  },
  {
   "cell_type": "code",
   "execution_count": 83,
   "metadata": {},
   "outputs": [
    {
     "data": {
      "text/plain": [
       "0.9160028673450931"
      ]
     },
     "execution_count": 83,
     "metadata": {},
     "output_type": "execute_result"
    }
   ],
   "source": [
    "per_cent"
   ]
  },
  {
   "cell_type": "code",
   "execution_count": 84,
   "metadata": {},
   "outputs": [
    {
     "data": {
      "text/plain": [
       "pandas.core.series.Series"
      ]
     },
     "execution_count": 84,
     "metadata": {},
     "output_type": "execute_result"
    }
   ],
   "source": [
    "type(plot_data['Request_closing_hr'])"
   ]
  },
  {
   "cell_type": "markdown",
   "metadata": {},
   "source": [
    "# ****    2nd Method detection of outlier is interquartile range"
   ]
  },
  {
   "cell_type": "code",
   "execution_count": 85,
   "metadata": {},
   "outputs": [],
   "source": [
    "df_out=new_df_service['Request_closing_hr'].sort_values().tail(10) # First step to arrange in increasing order"
   ]
  },
  {
   "cell_type": "code",
   "execution_count": 86,
   "metadata": {},
   "outputs": [],
   "source": [
    "quantile1,quantile3=np.percentile(df_out,[25,75]) # 2nd step to find the first(25 percent) and 3rd (75 percent) range with np.percentile"
   ]
  },
  {
   "cell_type": "code",
   "execution_count": 87,
   "metadata": {},
   "outputs": [
    {
     "name": "stdout",
     "output_type": "stream",
     "text": [
      "201.0 474.25\n"
     ]
    }
   ],
   "source": [
    "print(quantile1,quantile3)"
   ]
  },
  {
   "cell_type": "code",
   "execution_count": 88,
   "metadata": {},
   "outputs": [],
   "source": [
    "iqr_val=quantile3-quantile1 # Find the IQR "
   ]
  },
  {
   "cell_type": "code",
   "execution_count": 89,
   "metadata": {},
   "outputs": [
    {
     "data": {
      "text/plain": [
       "273.25"
      ]
     },
     "execution_count": 89,
     "metadata": {},
     "output_type": "execute_result"
    }
   ],
   "source": [
    "iqr_val"
   ]
  },
  {
   "cell_type": "code",
   "execution_count": 90,
   "metadata": {},
   "outputs": [],
   "source": [
    "# step 4--Find the lower bound value and upper bound value"
   ]
  },
  {
   "cell_type": "code",
   "execution_count": 91,
   "metadata": {},
   "outputs": [],
   "source": [
    "lower_bound_value=quantile1-(iqr_val*1.5)\n",
    "upper_bound_value=quantile3+(iqr_val*1.5)"
   ]
  },
  {
   "cell_type": "code",
   "execution_count": 92,
   "metadata": {
    "scrolled": true
   },
   "outputs": [
    {
     "name": "stdout",
     "output_type": "stream",
     "text": [
      "-208.875 884.125\n"
     ]
    }
   ],
   "source": [
    "print(lower_bound_value,upper_bound_value)"
   ]
  },
  {
   "cell_type": "code",
   "execution_count": 93,
   "metadata": {},
   "outputs": [
    {
     "data": {
      "text/plain": [
       "593.0"
      ]
     },
     "execution_count": 93,
     "metadata": {},
     "output_type": "execute_result"
    }
   ],
   "source": [
    "new_df_service['Request_closing_hr'].max()"
   ]
  },
  {
   "cell_type": "code",
   "execution_count": 94,
   "metadata": {},
   "outputs": [
    {
     "name": "stdout",
     "output_type": "stream",
     "text": [
      "Blocked Driveway = 76810.0\n",
      "Illegal Parking = 74532.0\n",
      "Noise - Commercial = 35247.0\n",
      "Noise - Street/Sidewalk = 48076.0\n",
      "Derelict Vehicle = 17588.0\n",
      "Animal Abuse = 7768.0\n"
     ]
    }
   ],
   "source": [
    "for i in comp_boro.columns:\n",
    "    print(i,'=',comp_boro[i].sum())\n"
   ]
  },
  {
   "cell_type": "code",
   "execution_count": 95,
   "metadata": {},
   "outputs": [
    {
     "data": {
      "image/png": "[encoded data removed]",
      "text/plain": [
       "<Figure size 864x864 with 6 Axes>"
      ]
     },
     "metadata": {
      "needs_background": "light"
     },
     "output_type": "display_data"
    }
   ],
   "source": [
    "citywise_resolution = new_df_service.groupby(['Complaint Type','Borough'])[['Request_closing_hr']].mean().unstack()\n",
    "\n",
    "# .groupby method divide the data into key and vlaue pair\n",
    "# .unstack can centralised the data\n",
    "\n",
    "col_number = 2\n",
    "row_number = 3\n",
    "fig, axes = plt.subplots(row_number,col_number, figsize=(12,12))\n",
    "\n",
    "for i, (label,col) in enumerate(citywise_resolution.iteritems()):\n",
    "    ax = axes[int(i/col_number), i%col_number]\n",
    "    col = col.sort_values(ascending=True)[:24]\n",
    "    col.plot(kind='barh', ax=ax)\n",
    "    ax.set_title(label)\n",
    "    \n",
    "plt.tight_layout()\n",
    "\n"
   ]
  },
  {
   "cell_type": "markdown",
   "metadata": {},
   "source": [
    "*** Griffti complaints taking a long time to be closed.It is taking too much time because Griffti complaints are less in comparision to other complaints.so department much focussed on other complaints which have more complaints count.\n",
    "\n",
    "\n",
    "*** In all cities  are handling Noise complaints very well.\n",
    "\n",
    "*** Brooklyn and Manhatten are handling Traffic complaints very well.\n"
   ]
  },
  {
   "cell_type": "markdown",
   "metadata": {},
   "source": [
    "# ****Now we can analyse the month wise complaints "
   ]
  },
  {
   "cell_type": "code",
   "execution_count": 96,
   "metadata": {},
   "outputs": [
    {
     "name": "stdout",
     "output_type": "stream",
     "text": [
      "2015-01-08\n"
     ]
    }
   ],
   "source": [
    "import pandas as pd\n",
    "\n",
    "d='2015-01-08 22:44:09' \n",
    "date=pd.to_datetime(d).date()\n",
    "print(date)"
   ]
  },
  {
   "cell_type": "code",
   "execution_count": 97,
   "metadata": {},
   "outputs": [],
   "source": [
    "new_df_service['date_only'] = new_df_service['Created Date'].dt.date\n"
   ]
  },
  {
   "cell_type": "code",
   "execution_count": 98,
   "metadata": {},
   "outputs": [
    {
     "data": {
      "text/plain": [
       "0    2015-12-31\n",
       "1    2015-12-31\n",
       "2    2015-12-31\n",
       "3    2015-12-31\n",
       "4    2015-12-31\n",
       "Name: date_only, dtype: object"
      ]
     },
     "execution_count": 98,
     "metadata": {},
     "output_type": "execute_result"
    }
   ],
   "source": [
    "new_df_service['date_only'].head()"
   ]
  },
  {
   "cell_type": "code",
   "execution_count": 99,
   "metadata": {},
   "outputs": [],
   "source": [
    "new_df_service['month_year'] = pd.to_datetime(new_df_service['date_only']).dt.to_period('M')"
   ]
  },
  {
   "cell_type": "code",
   "execution_count": 100,
   "metadata": {},
   "outputs": [
    {
     "data": {
      "text/plain": [
       "0    2015-12\n",
       "1    2015-12\n",
       "2    2015-12\n",
       "3    2015-12\n",
       "4    2015-12\n",
       "Name: month_year, dtype: period[M]"
      ]
     },
     "execution_count": 100,
     "metadata": {},
     "output_type": "execute_result"
    }
   ],
   "source": [
    "new_df_service['month_year'].head()"
   ]
  },
  {
   "cell_type": "code",
   "execution_count": 101,
   "metadata": {},
   "outputs": [],
   "source": [
    "data_month=new_df_service.groupby('month_year').size()"
   ]
  },
  {
   "cell_type": "code",
   "execution_count": 102,
   "metadata": {},
   "outputs": [
    {
     "data": {
      "text/plain": [
       "month_year\n",
       "2015-03     2457\n",
       "2015-04    27169\n",
       "2015-05    36069\n",
       "2015-06    35142\n",
       "2015-07    34416\n",
       "2015-08    34773\n",
       "2015-09    35176\n",
       "2015-10    32398\n",
       "2015-11    30594\n",
       "2015-12    30340\n",
       "Freq: M, dtype: int64"
      ]
     },
     "execution_count": 102,
     "metadata": {},
     "output_type": "execute_result"
    }
   ],
   "source": [
    "data_month"
   ]
  },
  {
   "cell_type": "code",
   "execution_count": 103,
   "metadata": {},
   "outputs": [
    {
     "data": {
      "text/plain": [
       "<matplotlib.axes._subplots.AxesSubplot at 0x13c475b0>"
      ]
     },
     "execution_count": 103,
     "metadata": {},
     "output_type": "execute_result"
    },
    {
     "data": {
      "image/png": "[encoded data removed]",
      "text/plain": [
       "<Figure size 864x360 with 1 Axes>"
      ]
     },
     "metadata": {
      "needs_background": "light"
     },
     "output_type": "display_data"
    }
   ],
   "source": [
    "data_month.plot(figsize=(12,5), title='Incidents on a monthly basis')"
   ]
  },
  {
   "cell_type": "markdown",
   "metadata": {},
   "source": [
    "*** In march least complaints\n",
    "\n",
    "*** After April the Complaints level is high\n",
    "\n",
    "*** Approximate lineraly complaints registered from May to December.\n",
    "\n",
    "*** Highest complaints in May"
   ]
  },
  {
   "cell_type": "markdown",
   "metadata": {},
   "source": [
    "......\n"
   ]
  },
  {
   "cell_type": "markdown",
   "metadata": {},
   "source": [
    ".........."
   ]
  },
  {
   "cell_type": "raw",
   "metadata": {},
   "source": [
    "**************************************** Compalints month and borogh wise *****************************************"
   ]
  },
  {
   "cell_type": "code",
   "execution_count": 104,
   "metadata": {},
   "outputs": [
    {
     "data": {
      "text/html": [
       "<div>\n",
       "<style scoped>\n",
       "    .dataframe tbody tr th:only-of-type {\n",
       "        vertical-align: middle;\n",
       "    }\n",
       "\n",
       "    .dataframe tbody tr th {\n",
       "        vertical-align: top;\n",
       "    }\n",
       "\n",
       "    .dataframe thead th {\n",
       "        text-align: right;\n",
       "    }\n",
       "</style>\n",
       "<table border=\"1\" class=\"dataframe\">\n",
       "  <thead>\n",
       "    <tr style=\"text-align: right;\">\n",
       "      <th>Borough</th>\n",
       "      <th>BRONX</th>\n",
       "      <th>BROOKLYN</th>\n",
       "      <th>MANHATTAN</th>\n",
       "      <th>QUEENS</th>\n",
       "      <th>STATEN ISLAND</th>\n",
       "      <th>Unspecified</th>\n",
       "    </tr>\n",
       "    <tr>\n",
       "      <th>month_year</th>\n",
       "      <th></th>\n",
       "      <th></th>\n",
       "      <th></th>\n",
       "      <th></th>\n",
       "      <th></th>\n",
       "      <th></th>\n",
       "    </tr>\n",
       "  </thead>\n",
       "  <tbody>\n",
       "    <tr>\n",
       "      <th>2015-03</th>\n",
       "      <td>297</td>\n",
       "      <td>832</td>\n",
       "      <td>499</td>\n",
       "      <td>720</td>\n",
       "      <td>105</td>\n",
       "      <td>4</td>\n",
       "    </tr>\n",
       "    <tr>\n",
       "      <th>2015-04</th>\n",
       "      <td>3212</td>\n",
       "      <td>8770</td>\n",
       "      <td>6619</td>\n",
       "      <td>7453</td>\n",
       "      <td>1050</td>\n",
       "      <td>65</td>\n",
       "    </tr>\n",
       "    <tr>\n",
       "      <th>2015-05</th>\n",
       "      <td>5125</td>\n",
       "      <td>11623</td>\n",
       "      <td>8851</td>\n",
       "      <td>9156</td>\n",
       "      <td>1263</td>\n",
       "      <td>51</td>\n",
       "    </tr>\n",
       "    <tr>\n",
       "      <th>2015-06</th>\n",
       "      <td>4848</td>\n",
       "      <td>11887</td>\n",
       "      <td>7497</td>\n",
       "      <td>9462</td>\n",
       "      <td>1385</td>\n",
       "      <td>63</td>\n",
       "    </tr>\n",
       "    <tr>\n",
       "      <th>2015-07</th>\n",
       "      <td>5556</td>\n",
       "      <td>10690</td>\n",
       "      <td>7565</td>\n",
       "      <td>9216</td>\n",
       "      <td>1335</td>\n",
       "      <td>54</td>\n",
       "    </tr>\n",
       "    <tr>\n",
       "      <th>2015-08</th>\n",
       "      <td>5439</td>\n",
       "      <td>10847</td>\n",
       "      <td>7765</td>\n",
       "      <td>9118</td>\n",
       "      <td>1520</td>\n",
       "      <td>84</td>\n",
       "    </tr>\n",
       "    <tr>\n",
       "      <th>2015-09</th>\n",
       "      <td>4798</td>\n",
       "      <td>12037</td>\n",
       "      <td>7630</td>\n",
       "      <td>9201</td>\n",
       "      <td>1456</td>\n",
       "      <td>54</td>\n",
       "    </tr>\n",
       "    <tr>\n",
       "      <th>2015-10</th>\n",
       "      <td>3963</td>\n",
       "      <td>10639</td>\n",
       "      <td>7225</td>\n",
       "      <td>9139</td>\n",
       "      <td>1407</td>\n",
       "      <td>25</td>\n",
       "    </tr>\n",
       "    <tr>\n",
       "      <th>2015-11</th>\n",
       "      <td>3682</td>\n",
       "      <td>10548</td>\n",
       "      <td>6345</td>\n",
       "      <td>8553</td>\n",
       "      <td>1436</td>\n",
       "      <td>30</td>\n",
       "    </tr>\n",
       "    <tr>\n",
       "      <th>2015-12</th>\n",
       "      <td>3777</td>\n",
       "      <td>10422</td>\n",
       "      <td>6113</td>\n",
       "      <td>8611</td>\n",
       "      <td>1381</td>\n",
       "      <td>36</td>\n",
       "    </tr>\n",
       "  </tbody>\n",
       "</table>\n",
       "</div>"
      ],
      "text/plain": [
       "Borough     BRONX  BROOKLYN  MANHATTAN  QUEENS  STATEN ISLAND  Unspecified\n",
       "month_year                                                                \n",
       "2015-03       297       832        499     720            105            4\n",
       "2015-04      3212      8770       6619    7453           1050           65\n",
       "2015-05      5125     11623       8851    9156           1263           51\n",
       "2015-06      4848     11887       7497    9462           1385           63\n",
       "2015-07      5556     10690       7565    9216           1335           54\n",
       "2015-08      5439     10847       7765    9118           1520           84\n",
       "2015-09      4798     12037       7630    9201           1456           54\n",
       "2015-10      3963     10639       7225    9139           1407           25\n",
       "2015-11      3682     10548       6345    8553           1436           30\n",
       "2015-12      3777     10422       6113    8611           1381           36"
      ]
     },
     "execution_count": 104,
     "metadata": {},
     "output_type": "execute_result"
    }
   ],
   "source": [
    "new_df_service.groupby(['month_year','Borough']).size().unstack()"
   ]
  },
  {
   "cell_type": "code",
   "execution_count": 105,
   "metadata": {
    "scrolled": false
   },
   "outputs": [
    {
     "data": {
      "image/png": "[encoded data removed]",
      "text/plain": [
       "<Figure size 1080x432 with 1 Axes>"
      ]
     },
     "metadata": {
      "needs_background": "light"
     },
     "output_type": "display_data"
    }
   ],
   "source": [
    "new_df_service.groupby(['month_year','Borough']).size().unstack().drop(columns=['Unspecified']).plot(figsize=(15,6))\n",
    "plt.legend(loc='center left', bbox_to_anchor=(1.0, 0.5));\n"
   ]
  },
  {
   "cell_type": "markdown",
   "metadata": {},
   "source": [
    "***  Brooklyn has recorded most number of compalints"
   ]
  },
  {
   "cell_type": "markdown",
   "metadata": {},
   "source": [
    "...."
   ]
  },
  {
   "cell_type": "raw",
   "metadata": {},
   "source": [
    "# *************************** Complaints closing month wise  Analysis***************************"
   ]
  },
  {
   "cell_type": "code",
   "execution_count": 106,
   "metadata": {},
   "outputs": [
    {
     "name": "stdout",
     "output_type": "stream",
     "text": [
      "BRONX = 35302.0\n",
      "BROOKLYN = 87992.0\n",
      "MANHATTAN = 51359.0\n",
      "QUEENS = 74082.0\n",
      "STATEN ISLAND = 10846.0\n",
      "Unspecified = 440.0\n"
     ]
    }
   ],
   "source": [
    "for i,e in enumerate(comp_boro.index):\n",
    "     print(e,'=',comp_boro.loc[e].sum())\n",
    "#     print(e)\n"
   ]
  },
  {
   "cell_type": "code",
   "execution_count": 107,
   "metadata": {},
   "outputs": [
    {
     "data": {
      "text/plain": [
       "numpy.float64"
      ]
     },
     "execution_count": 107,
     "metadata": {},
     "output_type": "execute_result"
    }
   ],
   "source": [
    "type(comp_boro.loc[e].sum())"
   ]
  },
  {
   "cell_type": "code",
   "execution_count": 108,
   "metadata": {},
   "outputs": [
    {
     "name": "stdout",
     "output_type": "stream",
     "text": [
      "0.11825118746943397\n"
     ]
    }
   ],
   "source": [
    "s=35302/298534\n",
    "print(s)"
   ]
  },
  {
   "cell_type": "code",
   "execution_count": 109,
   "metadata": {
    "scrolled": false
   },
   "outputs": [
    {
     "data": {
      "image/png": "[encoded data removed]",
      "text/plain": [
       "<Figure size 1080x504 with 1 Axes>"
      ]
     },
     "metadata": {
      "needs_background": "light"
     },
     "output_type": "display_data"
    }
   ],
   "source": [
    "new_df_service.groupby(['month_year','Borough'])['Request_closing_hr'].mean().unstack().drop(columns=['Unspecified']).plot(figsize=(15,7),\n",
    "                                                                        title='Processing time per Borough on a monthly basis');\n"
   ]
  },
  {
   "cell_type": "markdown",
   "metadata": {},
   "source": [
    "*** Bronx has highest closing time of complaints instead of others.\n",
    "\n",
    "*** Manhatten best closing time of complaints instead of others.\n",
    "\n",
    "*** Broklyn has highest complaints and still it has good response in closing complaints time."
   ]
  },
  {
   "cell_type": "markdown",
   "metadata": {},
   "source": [
    ".."
   ]
  },
  {
   "cell_type": "markdown",
   "metadata": {},
   "source": [
    "# Conclusion:"
   ]
  },
  {
   "cell_type": "markdown",
   "metadata": {},
   "source": [
    "*** Most of complaints raised in May and September, while least in February.\n",
    "\n",
    "*** Most complaints raised in Brooklyn city.\n",
    "\n",
    "*** Request closing complaint time is better in Manhatten in compared to other cities.\n",
    "\n",
    "*** Highest number of complaints raised are of 'Blocked Driveway'.(26% of all the complaints).\n",
    "\n",
    "*** Second highest complaints raised are Illegal Parking and Noise(commercial+street) upto 28%.\n",
    ".\n",
    "\n",
    "\n"
   ]
  },
  {
   "cell_type": "markdown",
   "metadata": {},
   "source": [
    "."
   ]
  },
  {
   "cell_type": "markdown",
   "metadata": {},
   "source": [
    "# Hypothesis Testing :\n",
    "    \n",
    "\n"
   ]
  },
  {
   "cell_type": "markdown",
   "metadata": {},
   "source": [
    "# 1- Whether the average response time across complaint types is similar or not (overall).\n"
   ]
  },
  {
   "cell_type": "markdown",
   "metadata": {},
   "source": [
    "*** So we want to perform hypothesis testing on one categorical and numrical data , So we prefer Annova test for this testing.\n",
    "\n",
    "Lets take the Assumptions of Annova Test.\n",
    "\n",
    "1-The population must be close to a normal distribution.\n",
    "\n",
    "2-Samples must be independent. \n",
    "\n",
    "3-Population variances must be equal.\n",
    "\n",
    "4-Groups must have equal sample sizes."
   ]
  },
  {
   "cell_type": "code",
   "execution_count": 110,
   "metadata": {},
   "outputs": [
    {
     "data": {
      "text/plain": [
       "Blocked Driveway             76810\n",
       "Illegal Parking              74532\n",
       "Noise - Street/Sidewalk      48076\n",
       "Noise - Commercial           35247\n",
       "Derelict Vehicle             17588\n",
       "Noise - Vehicle              17033\n",
       "Animal Abuse                  7768\n",
       "Traffic                       4496\n",
       "Homeless Encampment           4416\n",
       "Noise - Park                  4022\n",
       "Vending                       3795\n",
       "Drinking                      1275\n",
       "Noise - House of Worship       929\n",
       "Posting Advertisement          648\n",
       "Urinating in Public            592\n",
       "Bike/Roller/Skate Chronic      424\n",
       "Panhandling                    305\n",
       "Disorderly Youth               286\n",
       "Illegal Fireworks              168\n",
       "Graffiti                       113\n",
       "Agency Issues                    6\n",
       "Squeegee                         4\n",
       "Animal in a Park                 1\n",
       "Name: Complaint Type, dtype: int64"
      ]
     },
     "execution_count": 110,
     "metadata": {},
     "output_type": "execute_result"
    }
   ],
   "source": [
    "new_df_service['Complaint Type'].value_counts()"
   ]
  },
  {
   "cell_type": "code",
   "execution_count": 111,
   "metadata": {},
   "outputs": [
    {
     "data": {
      "text/html": [
       "<div>\n",
       "<style scoped>\n",
       "    .dataframe tbody tr th:only-of-type {\n",
       "        vertical-align: middle;\n",
       "    }\n",
       "\n",
       "    .dataframe tbody tr th {\n",
       "        vertical-align: top;\n",
       "    }\n",
       "\n",
       "    .dataframe thead th {\n",
       "        text-align: right;\n",
       "    }\n",
       "</style>\n",
       "<table border=\"1\" class=\"dataframe\">\n",
       "  <thead>\n",
       "    <tr style=\"text-align: right;\">\n",
       "      <th></th>\n",
       "      <th>Complaint Type</th>\n",
       "      <th>Request_closing_hr</th>\n",
       "    </tr>\n",
       "  </thead>\n",
       "  <tbody>\n",
       "    <tr>\n",
       "      <th>0</th>\n",
       "      <td>Agency Issues</td>\n",
       "      <td>5.666667</td>\n",
       "    </tr>\n",
       "    <tr>\n",
       "      <th>1</th>\n",
       "      <td>Animal Abuse</td>\n",
       "      <td>5.716787</td>\n",
       "    </tr>\n",
       "    <tr>\n",
       "      <th>2</th>\n",
       "      <td>Animal in a Park</td>\n",
       "      <td>337.000000</td>\n",
       "    </tr>\n",
       "    <tr>\n",
       "      <th>3</th>\n",
       "      <td>Bike/Roller/Skate Chronic</td>\n",
       "      <td>4.275943</td>\n",
       "    </tr>\n",
       "    <tr>\n",
       "      <th>4</th>\n",
       "      <td>Blocked Driveway</td>\n",
       "      <td>5.243106</td>\n",
       "    </tr>\n",
       "    <tr>\n",
       "      <th>5</th>\n",
       "      <td>Derelict Vehicle</td>\n",
       "      <td>7.877530</td>\n",
       "    </tr>\n",
       "    <tr>\n",
       "      <th>6</th>\n",
       "      <td>Disorderly Youth</td>\n",
       "      <td>4.048951</td>\n",
       "    </tr>\n",
       "    <tr>\n",
       "      <th>7</th>\n",
       "      <td>Drinking</td>\n",
       "      <td>4.368627</td>\n",
       "    </tr>\n",
       "    <tr>\n",
       "      <th>8</th>\n",
       "      <td>Graffiti</td>\n",
       "      <td>7.654867</td>\n",
       "    </tr>\n",
       "    <tr>\n",
       "      <th>9</th>\n",
       "      <td>Homeless Encampment</td>\n",
       "      <td>4.868659</td>\n",
       "    </tr>\n",
       "    <tr>\n",
       "      <th>10</th>\n",
       "      <td>Illegal Fireworks</td>\n",
       "      <td>3.309524</td>\n",
       "    </tr>\n",
       "    <tr>\n",
       "      <th>11</th>\n",
       "      <td>Illegal Parking</td>\n",
       "      <td>5.010197</td>\n",
       "    </tr>\n",
       "    <tr>\n",
       "      <th>12</th>\n",
       "      <td>Noise - Commercial</td>\n",
       "      <td>3.662241</td>\n",
       "    </tr>\n",
       "    <tr>\n",
       "      <th>13</th>\n",
       "      <td>Noise - House of Worship</td>\n",
       "      <td>3.719053</td>\n",
       "    </tr>\n",
       "    <tr>\n",
       "      <th>14</th>\n",
       "      <td>Noise - Park</td>\n",
       "      <td>3.930383</td>\n",
       "    </tr>\n",
       "    <tr>\n",
       "      <th>15</th>\n",
       "      <td>Noise - Street/Sidewalk</td>\n",
       "      <td>3.960916</td>\n",
       "    </tr>\n",
       "    <tr>\n",
       "      <th>16</th>\n",
       "      <td>Noise - Vehicle</td>\n",
       "      <td>4.102096</td>\n",
       "    </tr>\n",
       "    <tr>\n",
       "      <th>17</th>\n",
       "      <td>Panhandling</td>\n",
       "      <td>4.855738</td>\n",
       "    </tr>\n",
       "    <tr>\n",
       "      <th>18</th>\n",
       "      <td>Posting Advertisement</td>\n",
       "      <td>2.504630</td>\n",
       "    </tr>\n",
       "    <tr>\n",
       "      <th>19</th>\n",
       "      <td>Squeegee</td>\n",
       "      <td>4.750000</td>\n",
       "    </tr>\n",
       "    <tr>\n",
       "      <th>20</th>\n",
       "      <td>Traffic</td>\n",
       "      <td>3.965080</td>\n",
       "    </tr>\n",
       "    <tr>\n",
       "      <th>21</th>\n",
       "      <td>Urinating in Public</td>\n",
       "      <td>4.136824</td>\n",
       "    </tr>\n",
       "    <tr>\n",
       "      <th>22</th>\n",
       "      <td>Vending</td>\n",
       "      <td>4.520685</td>\n",
       "    </tr>\n",
       "  </tbody>\n",
       "</table>\n",
       "</div>"
      ],
      "text/plain": [
       "               Complaint Type  Request_closing_hr\n",
       "0               Agency Issues            5.666667\n",
       "1                Animal Abuse            5.716787\n",
       "2            Animal in a Park          337.000000\n",
       "3   Bike/Roller/Skate Chronic            4.275943\n",
       "4            Blocked Driveway            5.243106\n",
       "5            Derelict Vehicle            7.877530\n",
       "6            Disorderly Youth            4.048951\n",
       "7                    Drinking            4.368627\n",
       "8                    Graffiti            7.654867\n",
       "9         Homeless Encampment            4.868659\n",
       "10          Illegal Fireworks            3.309524\n",
       "11            Illegal Parking            5.010197\n",
       "12         Noise - Commercial            3.662241\n",
       "13   Noise - House of Worship            3.719053\n",
       "14               Noise - Park            3.930383\n",
       "15    Noise - Street/Sidewalk            3.960916\n",
       "16            Noise - Vehicle            4.102096\n",
       "17                Panhandling            4.855738\n",
       "18      Posting Advertisement            2.504630\n",
       "19                   Squeegee            4.750000\n",
       "20                    Traffic            3.965080\n",
       "21        Urinating in Public            4.136824\n",
       "22                    Vending            4.520685"
      ]
     },
     "execution_count": 111,
     "metadata": {},
     "output_type": "execute_result"
    }
   ],
   "source": [
    "new_df_service.groupby('Complaint Type', as_index=False)['Request_closing_hr'].mean()"
   ]
  },
  {
   "cell_type": "code",
   "execution_count": 112,
   "metadata": {},
   "outputs": [
    {
     "data": {
      "text/plain": [
       "array(['Noise - Street/Sidewalk', 'Blocked Driveway', 'Illegal Parking',\n",
       "       'Derelict Vehicle', 'Noise - Commercial',\n",
       "       'Noise - House of Worship', 'Posting Advertisement',\n",
       "       'Noise - Vehicle', 'Animal Abuse', 'Vending', 'Traffic',\n",
       "       'Drinking', 'Bike/Roller/Skate Chronic', 'Panhandling',\n",
       "       'Noise - Park', 'Homeless Encampment', 'Urinating in Public',\n",
       "       'Graffiti', 'Disorderly Youth', 'Illegal Fireworks',\n",
       "       'Agency Issues', 'Squeegee', 'Animal in a Park'], dtype=object)"
      ]
     },
     "execution_count": 112,
     "metadata": {},
     "output_type": "execute_result"
    }
   ],
   "source": [
    "new_df_service['Complaint Type'].unique()"
   ]
  },
  {
   "cell_type": "code",
   "execution_count": 113,
   "metadata": {},
   "outputs": [
    {
     "data": {
      "text/html": [
       "<div>\n",
       "<style scoped>\n",
       "    .dataframe tbody tr th:only-of-type {\n",
       "        vertical-align: middle;\n",
       "    }\n",
       "\n",
       "    .dataframe tbody tr th {\n",
       "        vertical-align: top;\n",
       "    }\n",
       "\n",
       "    .dataframe thead th {\n",
       "        text-align: right;\n",
       "    }\n",
       "</style>\n",
       "<table border=\"1\" class=\"dataframe\">\n",
       "  <thead>\n",
       "    <tr style=\"text-align: right;\">\n",
       "      <th></th>\n",
       "      <th>Complaint Type</th>\n",
       "      <th>Request_closing_hr</th>\n",
       "    </tr>\n",
       "  </thead>\n",
       "  <tbody>\n",
       "    <tr>\n",
       "      <th>0</th>\n",
       "      <td>Agency Issues</td>\n",
       "      <td>5.666667</td>\n",
       "    </tr>\n",
       "    <tr>\n",
       "      <th>1</th>\n",
       "      <td>Animal Abuse</td>\n",
       "      <td>5.716787</td>\n",
       "    </tr>\n",
       "    <tr>\n",
       "      <th>2</th>\n",
       "      <td>Bike/Roller/Skate Chronic</td>\n",
       "      <td>4.275943</td>\n",
       "    </tr>\n",
       "    <tr>\n",
       "      <th>3</th>\n",
       "      <td>Blocked Driveway</td>\n",
       "      <td>5.243106</td>\n",
       "    </tr>\n",
       "    <tr>\n",
       "      <th>4</th>\n",
       "      <td>Derelict Vehicle</td>\n",
       "      <td>7.877530</td>\n",
       "    </tr>\n",
       "    <tr>\n",
       "      <th>5</th>\n",
       "      <td>Disorderly Youth</td>\n",
       "      <td>4.048951</td>\n",
       "    </tr>\n",
       "    <tr>\n",
       "      <th>6</th>\n",
       "      <td>Drinking</td>\n",
       "      <td>4.368627</td>\n",
       "    </tr>\n",
       "    <tr>\n",
       "      <th>7</th>\n",
       "      <td>Graffiti</td>\n",
       "      <td>7.654867</td>\n",
       "    </tr>\n",
       "    <tr>\n",
       "      <th>8</th>\n",
       "      <td>Homeless Encampment</td>\n",
       "      <td>4.868659</td>\n",
       "    </tr>\n",
       "    <tr>\n",
       "      <th>9</th>\n",
       "      <td>Illegal Fireworks</td>\n",
       "      <td>3.309524</td>\n",
       "    </tr>\n",
       "    <tr>\n",
       "      <th>10</th>\n",
       "      <td>Illegal Parking</td>\n",
       "      <td>5.010197</td>\n",
       "    </tr>\n",
       "    <tr>\n",
       "      <th>11</th>\n",
       "      <td>Noise - Commercial</td>\n",
       "      <td>3.662241</td>\n",
       "    </tr>\n",
       "    <tr>\n",
       "      <th>12</th>\n",
       "      <td>Noise - House of Worship</td>\n",
       "      <td>3.719053</td>\n",
       "    </tr>\n",
       "    <tr>\n",
       "      <th>13</th>\n",
       "      <td>Noise - Park</td>\n",
       "      <td>3.930383</td>\n",
       "    </tr>\n",
       "    <tr>\n",
       "      <th>14</th>\n",
       "      <td>Noise - Street/Sidewalk</td>\n",
       "      <td>3.960916</td>\n",
       "    </tr>\n",
       "    <tr>\n",
       "      <th>15</th>\n",
       "      <td>Noise - Vehicle</td>\n",
       "      <td>4.102096</td>\n",
       "    </tr>\n",
       "    <tr>\n",
       "      <th>16</th>\n",
       "      <td>Panhandling</td>\n",
       "      <td>4.855738</td>\n",
       "    </tr>\n",
       "    <tr>\n",
       "      <th>17</th>\n",
       "      <td>Posting Advertisement</td>\n",
       "      <td>2.504630</td>\n",
       "    </tr>\n",
       "    <tr>\n",
       "      <th>18</th>\n",
       "      <td>Squeegee</td>\n",
       "      <td>4.750000</td>\n",
       "    </tr>\n",
       "    <tr>\n",
       "      <th>19</th>\n",
       "      <td>Traffic</td>\n",
       "      <td>3.965080</td>\n",
       "    </tr>\n",
       "    <tr>\n",
       "      <th>20</th>\n",
       "      <td>Urinating in Public</td>\n",
       "      <td>4.136824</td>\n",
       "    </tr>\n",
       "    <tr>\n",
       "      <th>21</th>\n",
       "      <td>Vending</td>\n",
       "      <td>4.520685</td>\n",
       "    </tr>\n",
       "  </tbody>\n",
       "</table>\n",
       "</div>"
      ],
      "text/plain": [
       "               Complaint Type  Request_closing_hr\n",
       "0               Agency Issues            5.666667\n",
       "1                Animal Abuse            5.716787\n",
       "2   Bike/Roller/Skate Chronic            4.275943\n",
       "3            Blocked Driveway            5.243106\n",
       "4            Derelict Vehicle            7.877530\n",
       "5            Disorderly Youth            4.048951\n",
       "6                    Drinking            4.368627\n",
       "7                    Graffiti            7.654867\n",
       "8         Homeless Encampment            4.868659\n",
       "9           Illegal Fireworks            3.309524\n",
       "10            Illegal Parking            5.010197\n",
       "11         Noise - Commercial            3.662241\n",
       "12   Noise - House of Worship            3.719053\n",
       "13               Noise - Park            3.930383\n",
       "14    Noise - Street/Sidewalk            3.960916\n",
       "15            Noise - Vehicle            4.102096\n",
       "16                Panhandling            4.855738\n",
       "17      Posting Advertisement            2.504630\n",
       "18                   Squeegee            4.750000\n",
       "19                    Traffic            3.965080\n",
       "20        Urinating in Public            4.136824\n",
       "21                    Vending            4.520685"
      ]
     },
     "execution_count": 113,
     "metadata": {},
     "output_type": "execute_result"
    }
   ],
   "source": [
    "new_df_service.groupby('Complaint Type', as_index=False)['Request_closing_hr'].mean().drop([2]).reset_index(drop=True)"
   ]
  },
  {
   "cell_type": "code",
   "execution_count": 114,
   "metadata": {},
   "outputs": [],
   "source": [
    "hypo_df=new_df_service.groupby('Complaint Type', as_index=False)['Request_closing_hr'].mean().drop([2]).reset_index(drop=True)"
   ]
  },
  {
   "cell_type": "code",
   "execution_count": 115,
   "metadata": {},
   "outputs": [
    {
     "data": {
      "text/plain": [
       "<matplotlib.axes._subplots.AxesSubplot at 0x1d6c9af0>"
      ]
     },
     "execution_count": 115,
     "metadata": {},
     "output_type": "execute_result"
    },
    {
     "data": {
      "image/png": "[encoded data removed]",
      "text/plain": [
       "<Figure size 432x288 with 1 Axes>"
      ]
     },
     "metadata": {
      "needs_background": "light"
     },
     "output_type": "display_data"
    }
   ],
   "source": [
    "new_df_service['Request_Closing_Minutes'] = new_df_service['Request_closing_time'].astype('timedelta64[m]')+1\n",
    "\n",
    "data_ = new_df_service[new_df_service['Complaint Type']=='Blocked Driveway']['Request_Closing_Minutes']\n",
    "data_.hist(bins=100,range=(0,1250))"
   ]
  },
  {
   "cell_type": "code",
   "execution_count": 116,
   "metadata": {},
   "outputs": [],
   "source": [
    "# So we can see that ,distribution is not close to normal distribution\n",
    "#  We can do the log transformation for distribution\n",
    "#  It is right or positively skewed data , So mean is higher than median\n"
   ]
  },
  {
   "cell_type": "code",
   "execution_count": 117,
   "metadata": {
    "scrolled": true
   },
   "outputs": [
    {
     "data": {
      "text/plain": [
       "count    76810.000000\n",
       "mean       285.148041\n",
       "std        334.460160\n",
       "min          3.000000\n",
       "25%         97.000000\n",
       "50%        191.000000\n",
       "75%        359.000000\n",
       "max       8898.000000\n",
       "Name: Request_Closing_Minutes, dtype: float64"
      ]
     },
     "execution_count": 117,
     "metadata": {},
     "output_type": "execute_result"
    }
   ],
   "source": [
    "data_.describe()"
   ]
  },
  {
   "cell_type": "code",
   "execution_count": 118,
   "metadata": {},
   "outputs": [],
   "source": [
    "# hen we look at above statistics, it becomes clear that we have very few but very large values after th 75th percentile.\n",
    "# Log transformation removes the skewness from the data."
   ]
  },
  {
   "cell_type": "code",
   "execution_count": 119,
   "metadata": {},
   "outputs": [],
   "source": [
    "dic = {}\n",
    "for complaint in new_df_service['Complaint Type'].unique():\n",
    "    dic[complaint] = np.log(new_df_service[new_df_service['Complaint Type']==complaint]['Request_Closing_Minutes'])"
   ]
  },
  {
   "cell_type": "code",
   "execution_count": 120,
   "metadata": {
    "scrolled": true
   },
   "outputs": [
    {
     "data": {
      "text/plain": [
       "dict_keys(['Noise - Street/Sidewalk', 'Blocked Driveway', 'Illegal Parking', 'Derelict Vehicle', 'Noise - Commercial', 'Noise - House of Worship', 'Posting Advertisement', 'Noise - Vehicle', 'Animal Abuse', 'Vending', 'Traffic', 'Drinking', 'Bike/Roller/Skate Chronic', 'Panhandling', 'Noise - Park', 'Homeless Encampment', 'Urinating in Public', 'Graffiti', 'Disorderly Youth', 'Illegal Fireworks', 'Agency Issues', 'Squeegee', 'Animal in a Park'])"
      ]
     },
     "execution_count": 120,
     "metadata": {},
     "output_type": "execute_result"
    }
   ],
   "source": [
    "dic.keys()"
   ]
  },
  {
   "cell_type": "code",
   "execution_count": 121,
   "metadata": {},
   "outputs": [
    {
     "data": {
      "text/plain": [
       "<matplotlib.axes._subplots.AxesSubplot at 0x1968def0>"
      ]
     },
     "execution_count": 121,
     "metadata": {},
     "output_type": "execute_result"
    },
    {
     "data": {
      "image/png": "[encoded data removed]",
      "text/plain": [
       "<Figure size 432x288 with 1 Axes>"
      ]
     },
     "metadata": {
      "needs_background": "light"
     },
     "output_type": "display_data"
    }
   ],
   "source": [
    "dic['Blocked Driveway'].hist(bins=100)\n"
   ]
  },
  {
   "cell_type": "markdown",
   "metadata": {},
   "source": [
    "Now we can see that the data distribution is close gausiian distribution or normal distribution."
   ]
  },
  {
   "cell_type": "code",
   "execution_count": 122,
   "metadata": {},
   "outputs": [
    {
     "name": "stdout",
     "output_type": "stream",
     "text": [
      "1.088810766064205\n",
      "0.9689925833875241\n",
      "1.0676265933053914\n",
      "1.2473713130448358\n",
      "1.0751948896175374\n",
      "1.1578783566404027\n",
      "1.1940496830014729\n",
      "1.064089509846298\n",
      "1.0353212429125318\n",
      "1.098753543976176\n",
      "1.1690311702610785\n",
      "1.0354238334658072\n",
      "1.1547492289003025\n",
      "1.0578811759503506\n",
      "1.1038829059331876\n",
      "1.0212999697423415\n",
      "1.0896898895618483\n",
      "1.0581967861803852\n",
      "1.027674837024446\n",
      "1.1905406895067956\n",
      "0.8285353314860184\n",
      "0.8469384425802964\n",
      "nan\n"
     ]
    }
   ],
   "source": [
    "for complaint in dic.keys():\n",
    "    print(dic[complaint].std())"
   ]
  },
  {
   "cell_type": "markdown",
   "metadata": {},
   "source": [
    "To conduct our hypothesis test, we will conduct an ANOVA (analysis of variance) test as we have to compare the means of more than two groups.\n",
    "Below conditions should be met before conducting ANOVA.\n",
    "\n",
    "1-All distributions must follow a normal distributions curve. We have verified this after the log transformation\n",
    "\n",
    "2-Standard deviation for all groups must be same. Above output proves that this is true.\n",
    "\n",
    "3-All samples are drawn independently of each other."
   ]
  },
  {
   "cell_type": "code",
   "execution_count": 123,
   "metadata": {},
   "outputs": [
    {
     "data": {
      "text/plain": [
       "['Noise - Street/Sidewalk',\n",
       " 'Blocked Driveway',\n",
       " 'Illegal Parking',\n",
       " 'Derelict Vehicle',\n",
       " 'Noise - Commercial',\n",
       " 'Noise - House of Worship',\n",
       " 'Posting Advertisement',\n",
       " 'Noise - Vehicle',\n",
       " 'Animal Abuse',\n",
       " 'Vending',\n",
       " 'Traffic',\n",
       " 'Drinking',\n",
       " 'Bike/Roller/Skate Chronic',\n",
       " 'Panhandling',\n",
       " 'Noise - Park',\n",
       " 'Homeless Encampment',\n",
       " 'Urinating in Public',\n",
       " 'Graffiti',\n",
       " 'Disorderly Youth',\n",
       " 'Illegal Fireworks',\n",
       " 'Agency Issues',\n",
       " 'Squeegee',\n",
       " 'Animal in a Park']"
      ]
     },
     "execution_count": 123,
     "metadata": {},
     "output_type": "execute_result"
    }
   ],
   "source": [
    "[ complaint for complaint in dic.keys() ]"
   ]
  },
  {
   "cell_type": "markdown",
   "metadata": {},
   "source": [
    "* Now we will futher move on to defining hypothesis and critical values........\n",
    "\n",
    "* Null Hypothesis---- Average response time for all the complaints type is same.\n",
    "\n",
    "* Alternate Hypothesis----Average response time for all the complaints type is not same and theres is some difference among the groups.\n",
    "\n",
    "..........\n",
    "\n",
    "* Below We conduct ANOVA test for top 5 type of complaints\n",
    "\n",
    "* For a 95% of confidence interval we choose our alpha as 0.05 for 5%\n",
    "\n",
    "* Alpha(0.05) is the critical p-value, if our calculated p-value is less than alpha, it will give us strong evidence to reject Null Hypothesis.\n",
    "\n",
    "1-if p < alpha(0.05) : Reject Null Hypothesis, Average response time for all the complaints type is not same.\n",
    "\n",
    "2-if p > alpha(0.05) : Fail to reject Null Hypothesis, Average response time for all the complaints type is same."
   ]
  },
  {
   "cell_type": "code",
   "execution_count": 125,
   "metadata": {},
   "outputs": [
    {
     "name": "stdout",
     "output_type": "stream",
     "text": [
      "Statistics=2466.502, p=0.000\n",
      " we are rejecting null hypothesis\n"
     ]
    }
   ],
   "source": [
    "# import f_oneway from scipy.stats library\n",
    "from scipy.stats import f_oneway\n",
    "\n",
    "stat, p_value = f_oneway(dic['Noise - Street/Sidewalk'],dic['Blocked Driveway'],dic['Illegal Parking'],dic['Derelict Vehicle'],\n",
    "                   dic['Noise - Commercial'])\n",
    "print('Statistics=%.3f, p=%.3f' % (stat, p_value))\n",
    "# interpret\n",
    "alpha = 0.05\n",
    "if p_value < 0.05:    # alpha value is 0.05 or 5%\n",
    "    print(\" we are rejecting null hypothesis\")\n",
    "else:\n",
    "    print(\"we are accepting null hypothesis\")"
   ]
  },
  {
   "cell_type": "markdown",
   "metadata": {},
   "source": [
    "1-As our p-value is quite low , hence it is being converted to 0.0\n",
    "\n",
    "2-Since our p-value is lower that our alpha value (significance value), we will conclude that we have enogh evidence to reject Null Hypothesis."
   ]
  },
  {
   "cell_type": "markdown",
   "metadata": {},
   "source": [
    "# 2. Are the type of complaint or service requested and location related?"
   ]
  },
  {
   "cell_type": "markdown",
   "metadata": {},
   "source": [
    "To find the correlation between location and complaint types, we will consider below columns\n",
    " \n",
    " 1- Complaint Type\n",
    " 2- Borough\n",
    " 3- City\n",
    " 4- Longitude\n",
    " 5- Latitude"
   ]
  },
  {
   "cell_type": "code",
   "execution_count": 126,
   "metadata": {},
   "outputs": [],
   "source": [
    "corr_dataset = new_df_service[['Complaint Type','Borough','Longitude','Latitude','City']]\n"
   ]
  },
  {
   "cell_type": "code",
   "execution_count": 127,
   "metadata": {},
   "outputs": [
    {
     "data": {
      "text/html": [
       "<div>\n",
       "<style scoped>\n",
       "    .dataframe tbody tr th:only-of-type {\n",
       "        vertical-align: middle;\n",
       "    }\n",
       "\n",
       "    .dataframe tbody tr th {\n",
       "        vertical-align: top;\n",
       "    }\n",
       "\n",
       "    .dataframe thead th {\n",
       "        text-align: right;\n",
       "    }\n",
       "</style>\n",
       "<table border=\"1\" class=\"dataframe\">\n",
       "  <thead>\n",
       "    <tr style=\"text-align: right;\">\n",
       "      <th></th>\n",
       "      <th>Complaint Type</th>\n",
       "      <th>Borough</th>\n",
       "      <th>Longitude</th>\n",
       "      <th>Latitude</th>\n",
       "      <th>City</th>\n",
       "    </tr>\n",
       "  </thead>\n",
       "  <tbody>\n",
       "    <tr>\n",
       "      <th>0</th>\n",
       "      <td>Noise - Street/Sidewalk</td>\n",
       "      <td>MANHATTAN</td>\n",
       "      <td>-73.923501</td>\n",
       "      <td>40.865682</td>\n",
       "      <td>NEW YORK</td>\n",
       "    </tr>\n",
       "    <tr>\n",
       "      <th>1</th>\n",
       "      <td>Blocked Driveway</td>\n",
       "      <td>QUEENS</td>\n",
       "      <td>-73.915094</td>\n",
       "      <td>40.775945</td>\n",
       "      <td>ASTORIA</td>\n",
       "    </tr>\n",
       "    <tr>\n",
       "      <th>2</th>\n",
       "      <td>Blocked Driveway</td>\n",
       "      <td>BRONX</td>\n",
       "      <td>-73.888525</td>\n",
       "      <td>40.870325</td>\n",
       "      <td>BRONX</td>\n",
       "    </tr>\n",
       "    <tr>\n",
       "      <th>3</th>\n",
       "      <td>Illegal Parking</td>\n",
       "      <td>BRONX</td>\n",
       "      <td>-73.828379</td>\n",
       "      <td>40.835994</td>\n",
       "      <td>BRONX</td>\n",
       "    </tr>\n",
       "    <tr>\n",
       "      <th>4</th>\n",
       "      <td>Illegal Parking</td>\n",
       "      <td>QUEENS</td>\n",
       "      <td>-73.874170</td>\n",
       "      <td>40.733060</td>\n",
       "      <td>ELMHURST</td>\n",
       "    </tr>\n",
       "  </tbody>\n",
       "</table>\n",
       "</div>"
      ],
      "text/plain": [
       "            Complaint Type    Borough  Longitude   Latitude      City\n",
       "0  Noise - Street/Sidewalk  MANHATTAN -73.923501  40.865682  NEW YORK\n",
       "1         Blocked Driveway     QUEENS -73.915094  40.775945   ASTORIA\n",
       "2         Blocked Driveway      BRONX -73.888525  40.870325     BRONX\n",
       "3          Illegal Parking      BRONX -73.828379  40.835994     BRONX\n",
       "4          Illegal Parking     QUEENS -73.874170  40.733060  ELMHURST"
      ]
     },
     "execution_count": 127,
     "metadata": {},
     "output_type": "execute_result"
    }
   ],
   "source": [
    "corr_dataset.head()"
   ]
  },
  {
   "cell_type": "markdown",
   "metadata": {},
   "source": [
    "*** So we can check there is any relation ship between present in complaint type and location.\n",
    "\n",
    "*** So,if we perform correlation method then we have two numerical and three catgorical data.\n",
    "\n",
    "*** But correlation method is only for numerical variable so we can convert cat variable into numerical var by label Encoding."
   ]
  },
  {
   "cell_type": "code",
   "execution_count": 128,
   "metadata": {
    "scrolled": true
   },
   "outputs": [],
   "source": [
    "# corr_dataset['Complaint Type'] = corr_dataset['Complaint Type'].astype('category')\n",
    "# d = dict(enumerate(corr_dataset['Complaint Type'].cat.categories))\n",
    "\n",
    "# corr_dataset['mycol_codes'] = corr_dataset['Complaint Type'].cat.codes\n",
    "# corr_dataset['mycol_reversed'] = corr_dataset['mycol_codes'].map(d)\n",
    "\n",
    "# corr_dat['Borough'] = corr_dat['Borough'].astype('category')\n",
    "# d = dict(enumerate(corr_dat['Borough'].cat.categories))\n",
    "# corr_dat['mycol_codes'] = corr_dat['Borough'].cat.codes\n",
    "# corr_dat['mycol_reversed'] = corr_dat['mycol_codes'].map(d)\n",
    "\n"
   ]
  },
  {
   "cell_type": "code",
   "execution_count": 129,
   "metadata": {},
   "outputs": [
    {
     "name": "stderr",
     "output_type": "stream",
     "text": [
      "c:\\users\\inpreet singh\\appdata\\local\\programs\\python\\python37-32\\lib\\site-packages\\ipykernel_launcher.py:5: SettingWithCopyWarning: \n",
      "A value is trying to be set on a copy of a slice from a DataFrame.\n",
      "Try using .loc[row_indexer,col_indexer] = value instead\n",
      "\n",
      "See the caveats in the documentation: https://pandas.pydata.org/pandas-docs/stable/user_guide/indexing.html#returning-a-view-versus-a-copy\n",
      "  \"\"\"\n",
      "c:\\users\\inpreet singh\\appdata\\local\\programs\\python\\python37-32\\lib\\site-packages\\ipykernel_launcher.py:6: SettingWithCopyWarning: \n",
      "A value is trying to be set on a copy of a slice from a DataFrame.\n",
      "Try using .loc[row_indexer,col_indexer] = value instead\n",
      "\n",
      "See the caveats in the documentation: https://pandas.pydata.org/pandas-docs/stable/user_guide/indexing.html#returning-a-view-versus-a-copy\n",
      "  \n",
      "c:\\users\\inpreet singh\\appdata\\local\\programs\\python\\python37-32\\lib\\site-packages\\ipykernel_launcher.py:7: SettingWithCopyWarning: \n",
      "A value is trying to be set on a copy of a slice from a DataFrame.\n",
      "Try using .loc[row_indexer,col_indexer] = value instead\n",
      "\n",
      "See the caveats in the documentation: https://pandas.pydata.org/pandas-docs/stable/user_guide/indexing.html#returning-a-view-versus-a-copy\n",
      "  import sys\n"
     ]
    }
   ],
   "source": [
    "# corr_dataset['Complaint Type'] = corr_dataset['Complaint Type'].cat.codes\n",
    "# corr_dataset['Borough'] = corr_dataset['Borough'].cat.codes\n",
    "# corr_dataset['City'] = corr_dataset['City'].cat.codes\n",
    "\n",
    "corr_dataset['Complaint Type'] = corr_dataset['Complaint Type'].astype('category').cat.codes\n",
    "corr_dataset['Borough'] = corr_dataset['Borough'].astype('category').cat.codes\n",
    "corr_dataset['City'] = corr_dataset['City'].astype('category').cat.codes"
   ]
  },
  {
   "cell_type": "code",
   "execution_count": 130,
   "metadata": {},
   "outputs": [
    {
     "data": {
      "text/html": [
       "<div>\n",
       "<style scoped>\n",
       "    .dataframe tbody tr th:only-of-type {\n",
       "        vertical-align: middle;\n",
       "    }\n",
       "\n",
       "    .dataframe tbody tr th {\n",
       "        vertical-align: top;\n",
       "    }\n",
       "\n",
       "    .dataframe thead th {\n",
       "        text-align: right;\n",
       "    }\n",
       "</style>\n",
       "<table border=\"1\" class=\"dataframe\">\n",
       "  <thead>\n",
       "    <tr style=\"text-align: right;\">\n",
       "      <th></th>\n",
       "      <th>Complaint Type</th>\n",
       "      <th>Borough</th>\n",
       "      <th>Longitude</th>\n",
       "      <th>Latitude</th>\n",
       "      <th>City</th>\n",
       "    </tr>\n",
       "  </thead>\n",
       "  <tbody>\n",
       "    <tr>\n",
       "      <th>0</th>\n",
       "      <td>15</td>\n",
       "      <td>2</td>\n",
       "      <td>-73.923501</td>\n",
       "      <td>40.865682</td>\n",
       "      <td>33</td>\n",
       "    </tr>\n",
       "    <tr>\n",
       "      <th>1</th>\n",
       "      <td>4</td>\n",
       "      <td>3</td>\n",
       "      <td>-73.915094</td>\n",
       "      <td>40.775945</td>\n",
       "      <td>1</td>\n",
       "    </tr>\n",
       "    <tr>\n",
       "      <th>2</th>\n",
       "      <td>4</td>\n",
       "      <td>0</td>\n",
       "      <td>-73.888525</td>\n",
       "      <td>40.870325</td>\n",
       "      <td>6</td>\n",
       "    </tr>\n",
       "    <tr>\n",
       "      <th>3</th>\n",
       "      <td>11</td>\n",
       "      <td>0</td>\n",
       "      <td>-73.828379</td>\n",
       "      <td>40.835994</td>\n",
       "      <td>6</td>\n",
       "    </tr>\n",
       "    <tr>\n",
       "      <th>4</th>\n",
       "      <td>11</td>\n",
       "      <td>3</td>\n",
       "      <td>-73.874170</td>\n",
       "      <td>40.733060</td>\n",
       "      <td>13</td>\n",
       "    </tr>\n",
       "  </tbody>\n",
       "</table>\n",
       "</div>"
      ],
      "text/plain": [
       "   Complaint Type  Borough  Longitude   Latitude  City\n",
       "0              15        2 -73.923501  40.865682    33\n",
       "1               4        3 -73.915094  40.775945     1\n",
       "2               4        0 -73.888525  40.870325     6\n",
       "3              11        0 -73.828379  40.835994     6\n",
       "4              11        3 -73.874170  40.733060    13"
      ]
     },
     "execution_count": 130,
     "metadata": {},
     "output_type": "execute_result"
    }
   ],
   "source": [
    "corr_dataset.head()"
   ]
  },
  {
   "cell_type": "code",
   "execution_count": 131,
   "metadata": {},
   "outputs": [],
   "source": [
    "df_corr=corr_dataset.corr(method='pearson')"
   ]
  },
  {
   "cell_type": "code",
   "execution_count": 132,
   "metadata": {},
   "outputs": [
    {
     "data": {
      "text/html": [
       "<div>\n",
       "<style scoped>\n",
       "    .dataframe tbody tr th:only-of-type {\n",
       "        vertical-align: middle;\n",
       "    }\n",
       "\n",
       "    .dataframe tbody tr th {\n",
       "        vertical-align: top;\n",
       "    }\n",
       "\n",
       "    .dataframe thead th {\n",
       "        text-align: right;\n",
       "    }\n",
       "</style>\n",
       "<table border=\"1\" class=\"dataframe\">\n",
       "  <thead>\n",
       "    <tr style=\"text-align: right;\">\n",
       "      <th></th>\n",
       "      <th>Complaint Type</th>\n",
       "      <th>Borough</th>\n",
       "      <th>Longitude</th>\n",
       "      <th>Latitude</th>\n",
       "      <th>City</th>\n",
       "    </tr>\n",
       "  </thead>\n",
       "  <tbody>\n",
       "    <tr>\n",
       "      <th>Complaint Type</th>\n",
       "      <td>1.000000</td>\n",
       "      <td>-0.065506</td>\n",
       "      <td>-0.181022</td>\n",
       "      <td>0.152829</td>\n",
       "      <td>0.094572</td>\n",
       "    </tr>\n",
       "    <tr>\n",
       "      <th>Borough</th>\n",
       "      <td>-0.065506</td>\n",
       "      <td>1.000000</td>\n",
       "      <td>0.021363</td>\n",
       "      <td>-0.249488</td>\n",
       "      <td>0.705705</td>\n",
       "    </tr>\n",
       "    <tr>\n",
       "      <th>Longitude</th>\n",
       "      <td>-0.181022</td>\n",
       "      <td>0.021363</td>\n",
       "      <td>1.000000</td>\n",
       "      <td>0.364962</td>\n",
       "      <td>-0.123858</td>\n",
       "    </tr>\n",
       "    <tr>\n",
       "      <th>Latitude</th>\n",
       "      <td>0.152829</td>\n",
       "      <td>-0.249488</td>\n",
       "      <td>0.364962</td>\n",
       "      <td>1.000000</td>\n",
       "      <td>-0.000568</td>\n",
       "    </tr>\n",
       "    <tr>\n",
       "      <th>City</th>\n",
       "      <td>0.094572</td>\n",
       "      <td>0.705705</td>\n",
       "      <td>-0.123858</td>\n",
       "      <td>-0.000568</td>\n",
       "      <td>1.000000</td>\n",
       "    </tr>\n",
       "  </tbody>\n",
       "</table>\n",
       "</div>"
      ],
      "text/plain": [
       "                Complaint Type   Borough  Longitude  Latitude      City\n",
       "Complaint Type        1.000000 -0.065506  -0.181022  0.152829  0.094572\n",
       "Borough              -0.065506  1.000000   0.021363 -0.249488  0.705705\n",
       "Longitude            -0.181022  0.021363   1.000000  0.364962 -0.123858\n",
       "Latitude              0.152829 -0.249488   0.364962  1.000000 -0.000568\n",
       "City                  0.094572  0.705705  -0.123858 -0.000568  1.000000"
      ]
     },
     "execution_count": 132,
     "metadata": {},
     "output_type": "execute_result"
    }
   ],
   "source": [
    "df_corr"
   ]
  },
  {
   "cell_type": "code",
   "execution_count": 133,
   "metadata": {},
   "outputs": [
    {
     "data": {
      "text/plain": [
       "<seaborn.axisgrid.PairGrid at 0x17e6d5b0>"
      ]
     },
     "execution_count": 133,
     "metadata": {},
     "output_type": "execute_result"
    },
    {
     "data": {
      "image/png": "[encoded data removed]",
      "text/plain": [
       "<Figure size 900x900 with 30 Axes>"
      ]
     },
     "metadata": {
      "needs_background": "light"
     },
     "output_type": "display_data"
    }
   ],
   "source": [
    "sns.pairplot(df_corr)"
   ]
  },
  {
   "cell_type": "markdown",
   "metadata": {},
   "source": [
    "*** As we can clearly seen that, There is no relationship between complaint type and location , no value close to 1.\n",
    "\n",
    "*** 'Blocked Driveway' and 'Illegal Parking' which is common in all of the Boroughs."
   ]
  },
  {
   "cell_type": "code",
   "execution_count": null,
   "metadata": {},
   "outputs": [],
   "source": []
  }
 ],
 "metadata": {
  "kernelspec": {
   "display_name": "Python 3",
   "language": "python",
   "name": "python3"
  },
  "language_info": {
   "codemirror_mode": {
    "name": "ipython",
    "version": 3
   },
   "file_extension": ".py",
   "mimetype": "text/x-python",
   "name": "python",
   "nbconvert_exporter": "python",
   "pygments_lexer": "ipython3",
   "version": "3.7.4"
  }
 },
 "nbformat": 4,
 "nbformat_minor": 2
}
